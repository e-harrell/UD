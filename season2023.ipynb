{
 "cells": [
  {
   "cell_type": "code",
   "execution_count": 1,
   "metadata": {},
   "outputs": [],
   "source": [
    "#Import libraries\n",
    "import requests \n",
    "from lxml import html\n",
    "from IPython.core.interactiveshell import InteractiveShell\n",
    "import pandas as pd\n",
    "import numpy as np\n",
    "#Set Jupyter Notebook to show all output from each cell\n",
    "InteractiveShell.ast_node_interactivity = \"all\"\n",
    "#Scrape UD webpage to get information from 2023 season\n",
    "URL = \"https://admin.bluehens.com/services/schedule_txt.ashx?schedule=4416\" \n",
    "headers={'User-Agent': 'Mozilla/5.0 (Windows NT 10.0; Win64; x64) AppleWebKit/537.36 (KHTML, like Gecko) Chrome/42.0.2311.135 Safari/537.36 Edge/12.246'}\n",
    "r = requests.get(url=URL, headers=headers) \n",
    "#put content into html object\n",
    "mytree = html.fromstring(r.content)\n",
    "#save text from html object to python list\n",
    "season2023 = mytree.xpath('node()')"
   ]
  },
  {
   "cell_type": "code",
   "execution_count": 2,
   "metadata": {},
   "outputs": [
    {
     "data": {
      "text/plain": [
       "['Aug',\n",
       " '31',\n",
       " '(Thu)',\n",
       " '7',\n",
       " 'PM',\n",
       " 'Away',\n",
       " 'Stony',\n",
       " 'Brook',\n",
       " 'Stony',\n",
       " 'Brook',\n",
       " 'N.Y.',\n",
       " 'W',\n",
       " '37-13Sep',\n",
       " '9',\n",
       " '(Sat)',\n",
       " '12',\n",
       " 'p.m.',\n",
       " 'Away',\n",
       " 'Penn',\n",
       " 'State',\n",
       " 'University',\n",
       " 'Park',\n",
       " 'Pa.',\n",
       " 'L',\n",
       " '7-63',\n",
       " 'Sep',\n",
       " '16',\n",
       " '(Sat)',\n",
       " '6',\n",
       " 'PM',\n",
       " 'Home',\n",
       " 'Saint',\n",
       " 'Francis',\n",
       " '(Pa.)',\n",
       " 'Newark',\n",
       " 'Del.',\n",
       " '(Delaware',\n",
       " 'Stadium)',\n",
       " 'W',\n",
       " '42-14Sep',\n",
       " '23',\n",
       " '(Sat)',\n",
       " '6',\n",
       " 'PM',\n",
       " 'Home',\n",
       " 'New',\n",
       " 'Hampshire',\n",
       " 'Newark',\n",
       " 'Del.',\n",
       " '(Delaware',\n",
       " 'Stadium)',\n",
       " 'W',\n",
       " '29-25Oct',\n",
       " '7',\n",
       " '(Sat)',\n",
       " '3',\n",
       " 'PM',\n",
       " 'Home',\n",
       " 'Duquesne',\n",
       " 'Newark',\n",
       " 'Del.',\n",
       " '(Delaware',\n",
       " 'Stadium)',\n",
       " 'W',\n",
       " '43-17Oct',\n",
       " '14',\n",
       " '(Sat)',\n",
       " '3',\n",
       " 'PM',\n",
       " 'Home',\n",
       " 'North',\n",
       " 'Carolina',\n",
       " 'A&T',\n",
       " 'Newark',\n",
       " 'Del.',\n",
       " '(Delaware',\n",
       " 'Stadium)',\n",
       " 'W',\n",
       " '21-6',\n",
       " 'Oct',\n",
       " '21',\n",
       " '(Sat)',\n",
       " '2',\n",
       " 'PM',\n",
       " 'Away',\n",
       " 'Hampton',\n",
       " 'Hampton',\n",
       " 'Va.',\n",
       " 'W',\n",
       " '47-3',\n",
       " 'Oct',\n",
       " '28',\n",
       " '(Sat)',\n",
       " '1',\n",
       " 'PM',\n",
       " 'Away',\n",
       " 'Towson',\n",
       " 'Towson',\n",
       " 'Md.',\n",
       " 'W',\n",
       " '51-13Nov',\n",
       " '4',\n",
       " '(Sat)',\n",
       " '1',\n",
       " 'PM',\n",
       " 'Home',\n",
       " 'Elon',\n",
       " 'Newark',\n",
       " 'Del.',\n",
       " '(Delaware',\n",
       " 'Stadium)',\n",
       " 'L',\n",
       " '27-33Nov',\n",
       " '11',\n",
       " '(Sat)',\n",
       " '1',\n",
       " 'PM',\n",
       " 'Away',\n",
       " 'Campbell',\n",
       " 'Buies',\n",
       " 'Creek',\n",
       " 'N.C.',\n",
       " 'W',\n",
       " '45-7',\n",
       " 'Nov',\n",
       " '18',\n",
       " '(Sat)',\n",
       " '1',\n",
       " 'PM',\n",
       " 'Home',\n",
       " 'Villanova',\n",
       " 'Newark',\n",
       " 'Del.',\n",
       " '(Delaware',\n",
       " 'Stadium)',\n",
       " 'L',\n",
       " '7-35',\n",
       " 'Nov',\n",
       " '25',\n",
       " '(Sat)',\n",
       " '2',\n",
       " 'p.m.',\n",
       " 'Home',\n",
       " 'Lafayette',\n",
       " 'TBD',\n",
       " 'W',\n",
       " '36-34Dec',\n",
       " '2',\n",
       " '(Sat)',\n",
       " '9',\n",
       " 'p.m.',\n",
       " 'Away',\n",
       " '#2',\n",
       " 'Montana',\n",
       " 'Missoula',\n",
       " 'Mont.',\n",
       " 'L',\n",
       " '19-49']"
      ]
     },
     "execution_count": 2,
     "metadata": {},
     "output_type": "execute_result"
    }
   ],
   "source": [
    "#cleaning up Python list with data from all games\n",
    "season2023 = season2023[0].split(\" \")\n",
    "season2023=season2023[102:]\n",
    "season2023=[x.replace(\"\\n\\r\", \"\") for x in season2023]\n",
    "season2023=[y.replace(\",\",\"\") for y in season2023]\n",
    "season2023=[z.strip() for z in season2023]\n",
    "season2023 = list(filter(None, season2023))\n",
    "season2023"
   ]
  },
  {
   "cell_type": "code",
   "execution_count": 3,
   "metadata": {},
   "outputs": [
    {
     "data": {
      "text/plain": [
       "12"
      ]
     },
     "execution_count": 3,
     "metadata": {},
     "output_type": "execute_result"
    },
    {
     "data": {
      "text/plain": [
       "['37-13', 'Sept', '9']"
      ]
     },
     "execution_count": 3,
     "metadata": {},
     "output_type": "execute_result"
    }
   ],
   "source": [
    "#separating score and month of next game\n",
    "season2023.index('37-13Sep')\n",
    "season2023[12] = '37-13'\n",
    "season2023.insert(13, 'Sept')\n",
    "season2023[12:15]\n"
   ]
  },
  {
   "cell_type": "code",
   "execution_count": 4,
   "metadata": {},
   "outputs": [
    {
     "data": {
      "text/plain": [
       "40"
      ]
     },
     "execution_count": 4,
     "metadata": {},
     "output_type": "execute_result"
    },
    {
     "data": {
      "text/plain": [
       "['42-14', 'Sep', '23']"
      ]
     },
     "execution_count": 4,
     "metadata": {},
     "output_type": "execute_result"
    }
   ],
   "source": [
    "#separating score and month of next game\n",
    "season2023.index('42-14Sep')\n",
    "season2023[40] = '42-14'\n",
    "season2023.insert(41, 'Sep')\n",
    "season2023[40:43]"
   ]
  },
  {
   "cell_type": "code",
   "execution_count": 5,
   "metadata": {},
   "outputs": [
    {
     "data": {
      "text/plain": [
       "54"
      ]
     },
     "execution_count": 5,
     "metadata": {},
     "output_type": "execute_result"
    },
    {
     "data": {
      "text/plain": [
       "['29-50', 'Oct', '7']"
      ]
     },
     "execution_count": 5,
     "metadata": {},
     "output_type": "execute_result"
    }
   ],
   "source": [
    "#separating score and month of next game\n",
    "season2023.index('29-25Oct')\n",
    "season2023[54] = '29-50'\n",
    "season2023.insert(55, 'Oct')\n",
    "season2023[54:57]"
   ]
  },
  {
   "cell_type": "code",
   "execution_count": 6,
   "metadata": {},
   "outputs": [
    {
     "data": {
      "text/plain": [
       "67"
      ]
     },
     "execution_count": 6,
     "metadata": {},
     "output_type": "execute_result"
    },
    {
     "data": {
      "text/plain": [
       "['43-17', 'Oct', '14']"
      ]
     },
     "execution_count": 6,
     "metadata": {},
     "output_type": "execute_result"
    }
   ],
   "source": [
    "#separating score and month of next game\n",
    "season2023.index('43-17Oct')\n",
    "season2023[67] = '43-17'\n",
    "season2023.insert(68, 'Oct')\n",
    "season2023[67:70]"
   ]
  },
  {
   "cell_type": "code",
   "execution_count": 7,
   "metadata": {},
   "outputs": [
    {
     "data": {
      "text/plain": [
       "104"
      ]
     },
     "execution_count": 7,
     "metadata": {},
     "output_type": "execute_result"
    },
    {
     "data": {
      "text/plain": [
       "['51-13', 'Nov', '4']"
      ]
     },
     "execution_count": 7,
     "metadata": {},
     "output_type": "execute_result"
    }
   ],
   "source": [
    "#separating score and month of next game\n",
    "season2023.index('51-13Nov')\n",
    "season2023[104] = '51-13'\n",
    "season2023.insert(105, 'Nov')\n",
    "season2023[104:107]"
   ]
  },
  {
   "cell_type": "code",
   "execution_count": 8,
   "metadata": {},
   "outputs": [
    {
     "data": {
      "text/plain": [
       "117"
      ]
     },
     "execution_count": 8,
     "metadata": {},
     "output_type": "execute_result"
    },
    {
     "data": {
      "text/plain": [
       "['27-33', 'Nov', '11']"
      ]
     },
     "execution_count": 8,
     "metadata": {},
     "output_type": "execute_result"
    }
   ],
   "source": [
    "#separating score and month of next game\n",
    "season2023.index('27-33Nov')\n",
    "season2023[117] = '27-33'\n",
    "season2023.insert(118, 'Nov')\n",
    "season2023[117:120]"
   ]
  },
  {
   "cell_type": "code",
   "execution_count": 9,
   "metadata": {},
   "outputs": [
    {
     "data": {
      "text/plain": [
       "152"
      ]
     },
     "execution_count": 9,
     "metadata": {},
     "output_type": "execute_result"
    },
    {
     "data": {
      "text/plain": [
       "['36-34', 'Dec', '2']"
      ]
     },
     "execution_count": 9,
     "metadata": {},
     "output_type": "execute_result"
    }
   ],
   "source": [
    "#separating score and month of next game\n",
    "season2023.index('36-34Dec')\n",
    "season2023[152] = '36-34'\n",
    "season2023.insert(153, 'Dec')\n",
    "season2023[152:155]"
   ]
  },
  {
   "cell_type": "code",
   "execution_count": 10,
   "metadata": {},
   "outputs": [
    {
     "data": {
      "text/plain": [
       "165"
      ]
     },
     "execution_count": 10,
     "metadata": {},
     "output_type": "execute_result"
    },
    {
     "data": {
      "text/plain": [
       "['Aug',\n",
       " '31',\n",
       " '(Thu)',\n",
       " '7',\n",
       " 'PM',\n",
       " 'Away',\n",
       " 'Stony',\n",
       " 'Brook',\n",
       " 'Stony',\n",
       " 'Brook',\n",
       " 'N.Y.',\n",
       " 'W',\n",
       " '37-13',\n",
       " 'Sept',\n",
       " '9',\n",
       " '(Sat)',\n",
       " '12',\n",
       " 'p.m.',\n",
       " 'Away',\n",
       " 'Penn',\n",
       " 'State',\n",
       " 'University',\n",
       " 'Park',\n",
       " 'Pa.',\n",
       " 'L',\n",
       " '7-63',\n",
       " 'Sep',\n",
       " '16',\n",
       " '(Sat)',\n",
       " '6',\n",
       " 'PM',\n",
       " 'Home',\n",
       " 'Saint',\n",
       " 'Francis',\n",
       " '(Pa.)',\n",
       " 'Newark',\n",
       " 'Del.',\n",
       " '(Delaware',\n",
       " 'Stadium)',\n",
       " 'W',\n",
       " '42-14',\n",
       " 'Sep',\n",
       " '23',\n",
       " '(Sat)',\n",
       " '6',\n",
       " 'PM',\n",
       " 'Home',\n",
       " 'New',\n",
       " 'Hampshire',\n",
       " 'Newark',\n",
       " 'Del.',\n",
       " '(Delaware',\n",
       " 'Stadium)',\n",
       " 'W',\n",
       " '29-50',\n",
       " 'Oct',\n",
       " '7',\n",
       " '(Sat)',\n",
       " '3',\n",
       " 'PM',\n",
       " 'Home',\n",
       " 'Duquesne',\n",
       " 'Newark',\n",
       " 'Del.',\n",
       " '(Delaware',\n",
       " 'Stadium)',\n",
       " 'W',\n",
       " '43-17',\n",
       " 'Oct',\n",
       " '14',\n",
       " '(Sat)',\n",
       " '3',\n",
       " 'PM',\n",
       " 'Home',\n",
       " 'North',\n",
       " 'Carolina',\n",
       " 'A&T',\n",
       " 'Newark',\n",
       " 'Del.',\n",
       " '(Delaware',\n",
       " 'Stadium)',\n",
       " 'W',\n",
       " '21-6',\n",
       " 'Oct',\n",
       " '21',\n",
       " '(Sat)',\n",
       " '2',\n",
       " 'PM',\n",
       " 'Away',\n",
       " 'Hampton',\n",
       " 'Hampton',\n",
       " 'Va.',\n",
       " 'W',\n",
       " '47-3',\n",
       " 'Oct',\n",
       " '28',\n",
       " '(Sat)',\n",
       " '1',\n",
       " 'PM',\n",
       " 'Away',\n",
       " 'Towson',\n",
       " 'Towson',\n",
       " 'Md.',\n",
       " 'W',\n",
       " '51-13',\n",
       " 'Nov',\n",
       " '4',\n",
       " '(Sat)',\n",
       " '1',\n",
       " 'PM',\n",
       " 'Home',\n",
       " 'Elon',\n",
       " 'Newark',\n",
       " 'Del.',\n",
       " '(Delaware',\n",
       " 'Stadium)',\n",
       " 'L',\n",
       " '27-33',\n",
       " 'Nov',\n",
       " '11',\n",
       " '(Sat)',\n",
       " '1',\n",
       " 'PM',\n",
       " 'Away',\n",
       " 'Campbell',\n",
       " 'Buies',\n",
       " 'Creek',\n",
       " 'N.C.',\n",
       " 'W',\n",
       " '45-7',\n",
       " 'Nov',\n",
       " '18',\n",
       " '(Sat)',\n",
       " '1',\n",
       " 'PM',\n",
       " 'Home',\n",
       " 'Villanova',\n",
       " 'Newark',\n",
       " 'Del.',\n",
       " '(Delaware',\n",
       " 'Stadium)',\n",
       " 'L',\n",
       " '7-35',\n",
       " 'Nov',\n",
       " '25',\n",
       " '(Sat)',\n",
       " '2',\n",
       " 'p.m.',\n",
       " 'Home',\n",
       " 'Lafayette',\n",
       " 'TBD',\n",
       " 'W',\n",
       " '36-34',\n",
       " 'Dec',\n",
       " '2',\n",
       " '(Sat)',\n",
       " '9',\n",
       " 'p.m.',\n",
       " 'Away',\n",
       " '#2',\n",
       " 'Montana',\n",
       " 'Missoula',\n",
       " 'Mont.',\n",
       " 'L',\n",
       " '19-49']"
      ]
     },
     "execution_count": 10,
     "metadata": {},
     "output_type": "execute_result"
    }
   ],
   "source": [
    "#get length of list with data from all games\n",
    "len(season2023)\n",
    "season2023"
   ]
  },
  {
   "cell_type": "code",
   "execution_count": 11,
   "metadata": {},
   "outputs": [
    {
     "data": {
      "text/plain": [
       "['Dec',\n",
       " '2',\n",
       " '(Sat)',\n",
       " '9',\n",
       " 'p.m.',\n",
       " 'Away',\n",
       " '#2',\n",
       " 'Montana',\n",
       " 'Missoula',\n",
       " 'Mont.',\n",
       " 'L',\n",
       " '19-49']"
      ]
     },
     "execution_count": 11,
     "metadata": {},
     "output_type": "execute_result"
    }
   ],
   "source": [
    "#create list for Montana game\n",
    "montana = season2023[-12:]\n",
    "montana"
   ]
  },
  {
   "cell_type": "code",
   "execution_count": 12,
   "metadata": {},
   "outputs": [
    {
     "data": {
      "text/plain": [
       "['Aug',\n",
       " '31',\n",
       " '(Thu)',\n",
       " '7',\n",
       " 'PM',\n",
       " 'Away',\n",
       " 'Stony',\n",
       " 'Brook',\n",
       " 'Stony',\n",
       " 'Brook',\n",
       " 'N.Y.',\n",
       " 'W',\n",
       " '37-13',\n",
       " 'Sept',\n",
       " '9',\n",
       " '(Sat)',\n",
       " '12',\n",
       " 'p.m.',\n",
       " 'Away',\n",
       " 'Penn',\n",
       " 'State',\n",
       " 'University',\n",
       " 'Park',\n",
       " 'Pa.',\n",
       " 'L',\n",
       " '7-63',\n",
       " 'Sep',\n",
       " '16',\n",
       " '(Sat)',\n",
       " '6',\n",
       " 'PM',\n",
       " 'Home',\n",
       " 'Saint',\n",
       " 'Francis',\n",
       " '(Pa.)',\n",
       " 'Newark',\n",
       " 'Del.',\n",
       " '(Delaware',\n",
       " 'Stadium)',\n",
       " 'W',\n",
       " '42-14',\n",
       " 'Sep',\n",
       " '23',\n",
       " '(Sat)',\n",
       " '6',\n",
       " 'PM',\n",
       " 'Home',\n",
       " 'New',\n",
       " 'Hampshire',\n",
       " 'Newark',\n",
       " 'Del.',\n",
       " '(Delaware',\n",
       " 'Stadium)',\n",
       " 'W',\n",
       " '29-50',\n",
       " 'Oct',\n",
       " '7',\n",
       " '(Sat)',\n",
       " '3',\n",
       " 'PM',\n",
       " 'Home',\n",
       " 'Duquesne',\n",
       " 'Newark',\n",
       " 'Del.',\n",
       " '(Delaware',\n",
       " 'Stadium)',\n",
       " 'W',\n",
       " '43-17',\n",
       " 'Oct',\n",
       " '14',\n",
       " '(Sat)',\n",
       " '3',\n",
       " 'PM',\n",
       " 'Home',\n",
       " 'North',\n",
       " 'Carolina',\n",
       " 'A&T',\n",
       " 'Newark',\n",
       " 'Del.',\n",
       " '(Delaware',\n",
       " 'Stadium)',\n",
       " 'W',\n",
       " '21-6',\n",
       " 'Oct',\n",
       " '21',\n",
       " '(Sat)',\n",
       " '2',\n",
       " 'PM',\n",
       " 'Away',\n",
       " 'Hampton',\n",
       " 'Hampton',\n",
       " 'Va.',\n",
       " 'W',\n",
       " '47-3',\n",
       " 'Oct',\n",
       " '28',\n",
       " '(Sat)',\n",
       " '1',\n",
       " 'PM',\n",
       " 'Away',\n",
       " 'Towson',\n",
       " 'Towson',\n",
       " 'Md.',\n",
       " 'W',\n",
       " '51-13',\n",
       " 'Nov',\n",
       " '4',\n",
       " '(Sat)',\n",
       " '1',\n",
       " 'PM',\n",
       " 'Home',\n",
       " 'Elon',\n",
       " 'Newark',\n",
       " 'Del.',\n",
       " '(Delaware',\n",
       " 'Stadium)',\n",
       " 'L',\n",
       " '27-33',\n",
       " 'Nov',\n",
       " '11',\n",
       " '(Sat)',\n",
       " '1',\n",
       " 'PM',\n",
       " 'Away',\n",
       " 'Campbell',\n",
       " 'Buies',\n",
       " 'Creek',\n",
       " 'N.C.',\n",
       " 'W',\n",
       " '45-7',\n",
       " 'Nov',\n",
       " '18',\n",
       " '(Sat)',\n",
       " '1',\n",
       " 'PM',\n",
       " 'Home',\n",
       " 'Villanova',\n",
       " 'Newark',\n",
       " 'Del.',\n",
       " '(Delaware',\n",
       " 'Stadium)',\n",
       " 'L',\n",
       " '7-35',\n",
       " 'Nov',\n",
       " '25',\n",
       " '(Sat)',\n",
       " '2',\n",
       " 'p.m.',\n",
       " 'Home',\n",
       " 'Lafayette',\n",
       " 'TBD',\n",
       " 'W',\n",
       " '36-34']"
      ]
     },
     "execution_count": 12,
     "metadata": {},
     "output_type": "execute_result"
    }
   ],
   "source": [
    "#remove Montana game from full season list\n",
    "del season2023[-12:]\n",
    "season2023"
   ]
  },
  {
   "cell_type": "code",
   "execution_count": 13,
   "metadata": {},
   "outputs": [
    {
     "data": {
      "text/plain": [
       "['Nov', '25', '(Sat)', '2', 'p.m.', 'Home', 'Lafayette', 'TBD', 'W', '36-34']"
      ]
     },
     "execution_count": 13,
     "metadata": {},
     "output_type": "execute_result"
    }
   ],
   "source": [
    "#create list for Lafayette game\n",
    "lafayette = season2023[-10:]\n",
    "lafayette"
   ]
  },
  {
   "cell_type": "code",
   "execution_count": 14,
   "metadata": {},
   "outputs": [
    {
     "data": {
      "text/plain": [
       "['Aug',\n",
       " '31',\n",
       " '(Thu)',\n",
       " '7',\n",
       " 'PM',\n",
       " 'Away',\n",
       " 'Stony',\n",
       " 'Brook',\n",
       " 'Stony',\n",
       " 'Brook',\n",
       " 'N.Y.',\n",
       " 'W',\n",
       " '37-13',\n",
       " 'Sept',\n",
       " '9',\n",
       " '(Sat)',\n",
       " '12',\n",
       " 'p.m.',\n",
       " 'Away',\n",
       " 'Penn',\n",
       " 'State',\n",
       " 'University',\n",
       " 'Park',\n",
       " 'Pa.',\n",
       " 'L',\n",
       " '7-63',\n",
       " 'Sep',\n",
       " '16',\n",
       " '(Sat)',\n",
       " '6',\n",
       " 'PM',\n",
       " 'Home',\n",
       " 'Saint',\n",
       " 'Francis',\n",
       " '(Pa.)',\n",
       " 'Newark',\n",
       " 'Del.',\n",
       " '(Delaware',\n",
       " 'Stadium)',\n",
       " 'W',\n",
       " '42-14',\n",
       " 'Sep',\n",
       " '23',\n",
       " '(Sat)',\n",
       " '6',\n",
       " 'PM',\n",
       " 'Home',\n",
       " 'New',\n",
       " 'Hampshire',\n",
       " 'Newark',\n",
       " 'Del.',\n",
       " '(Delaware',\n",
       " 'Stadium)',\n",
       " 'W',\n",
       " '29-50',\n",
       " 'Oct',\n",
       " '7',\n",
       " '(Sat)',\n",
       " '3',\n",
       " 'PM',\n",
       " 'Home',\n",
       " 'Duquesne',\n",
       " 'Newark',\n",
       " 'Del.',\n",
       " '(Delaware',\n",
       " 'Stadium)',\n",
       " 'W',\n",
       " '43-17',\n",
       " 'Oct',\n",
       " '14',\n",
       " '(Sat)',\n",
       " '3',\n",
       " 'PM',\n",
       " 'Home',\n",
       " 'North',\n",
       " 'Carolina',\n",
       " 'A&T',\n",
       " 'Newark',\n",
       " 'Del.',\n",
       " '(Delaware',\n",
       " 'Stadium)',\n",
       " 'W',\n",
       " '21-6',\n",
       " 'Oct',\n",
       " '21',\n",
       " '(Sat)',\n",
       " '2',\n",
       " 'PM',\n",
       " 'Away',\n",
       " 'Hampton',\n",
       " 'Hampton',\n",
       " 'Va.',\n",
       " 'W',\n",
       " '47-3',\n",
       " 'Oct',\n",
       " '28',\n",
       " '(Sat)',\n",
       " '1',\n",
       " 'PM',\n",
       " 'Away',\n",
       " 'Towson',\n",
       " 'Towson',\n",
       " 'Md.',\n",
       " 'W',\n",
       " '51-13',\n",
       " 'Nov',\n",
       " '4',\n",
       " '(Sat)',\n",
       " '1',\n",
       " 'PM',\n",
       " 'Home',\n",
       " 'Elon',\n",
       " 'Newark',\n",
       " 'Del.',\n",
       " '(Delaware',\n",
       " 'Stadium)',\n",
       " 'L',\n",
       " '27-33',\n",
       " 'Nov',\n",
       " '11',\n",
       " '(Sat)',\n",
       " '1',\n",
       " 'PM',\n",
       " 'Away',\n",
       " 'Campbell',\n",
       " 'Buies',\n",
       " 'Creek',\n",
       " 'N.C.',\n",
       " 'W',\n",
       " '45-7',\n",
       " 'Nov',\n",
       " '18',\n",
       " '(Sat)',\n",
       " '1',\n",
       " 'PM',\n",
       " 'Home',\n",
       " 'Villanova',\n",
       " 'Newark',\n",
       " 'Del.',\n",
       " '(Delaware',\n",
       " 'Stadium)',\n",
       " 'L',\n",
       " '7-35']"
      ]
     },
     "execution_count": 14,
     "metadata": {},
     "output_type": "execute_result"
    }
   ],
   "source": [
    "#remove Lafayette game from full season list\n",
    "del season2023[-10:]\n",
    "season2023"
   ]
  },
  {
   "cell_type": "code",
   "execution_count": 15,
   "metadata": {},
   "outputs": [
    {
     "data": {
      "text/plain": [
       "['Nov',\n",
       " '18',\n",
       " '(Sat)',\n",
       " '1',\n",
       " 'PM',\n",
       " 'Home',\n",
       " 'Villanova',\n",
       " 'Newark',\n",
       " 'Del.',\n",
       " '(Delaware',\n",
       " 'Stadium)',\n",
       " 'L',\n",
       " '7-35']"
      ]
     },
     "execution_count": 15,
     "metadata": {},
     "output_type": "execute_result"
    }
   ],
   "source": [
    "#create list for Villanova game\n",
    "villanova = season2023[-13:]\n",
    "villanova"
   ]
  },
  {
   "cell_type": "code",
   "execution_count": 16,
   "metadata": {},
   "outputs": [
    {
     "data": {
      "text/plain": [
       "['Aug',\n",
       " '31',\n",
       " '(Thu)',\n",
       " '7',\n",
       " 'PM',\n",
       " 'Away',\n",
       " 'Stony',\n",
       " 'Brook',\n",
       " 'Stony',\n",
       " 'Brook',\n",
       " 'N.Y.',\n",
       " 'W',\n",
       " '37-13',\n",
       " 'Sept',\n",
       " '9',\n",
       " '(Sat)',\n",
       " '12',\n",
       " 'p.m.',\n",
       " 'Away',\n",
       " 'Penn',\n",
       " 'State',\n",
       " 'University',\n",
       " 'Park',\n",
       " 'Pa.',\n",
       " 'L',\n",
       " '7-63',\n",
       " 'Sep',\n",
       " '16',\n",
       " '(Sat)',\n",
       " '6',\n",
       " 'PM',\n",
       " 'Home',\n",
       " 'Saint',\n",
       " 'Francis',\n",
       " '(Pa.)',\n",
       " 'Newark',\n",
       " 'Del.',\n",
       " '(Delaware',\n",
       " 'Stadium)',\n",
       " 'W',\n",
       " '42-14',\n",
       " 'Sep',\n",
       " '23',\n",
       " '(Sat)',\n",
       " '6',\n",
       " 'PM',\n",
       " 'Home',\n",
       " 'New',\n",
       " 'Hampshire',\n",
       " 'Newark',\n",
       " 'Del.',\n",
       " '(Delaware',\n",
       " 'Stadium)',\n",
       " 'W',\n",
       " '29-50',\n",
       " 'Oct',\n",
       " '7',\n",
       " '(Sat)',\n",
       " '3',\n",
       " 'PM',\n",
       " 'Home',\n",
       " 'Duquesne',\n",
       " 'Newark',\n",
       " 'Del.',\n",
       " '(Delaware',\n",
       " 'Stadium)',\n",
       " 'W',\n",
       " '43-17',\n",
       " 'Oct',\n",
       " '14',\n",
       " '(Sat)',\n",
       " '3',\n",
       " 'PM',\n",
       " 'Home',\n",
       " 'North',\n",
       " 'Carolina',\n",
       " 'A&T',\n",
       " 'Newark',\n",
       " 'Del.',\n",
       " '(Delaware',\n",
       " 'Stadium)',\n",
       " 'W',\n",
       " '21-6',\n",
       " 'Oct',\n",
       " '21',\n",
       " '(Sat)',\n",
       " '2',\n",
       " 'PM',\n",
       " 'Away',\n",
       " 'Hampton',\n",
       " 'Hampton',\n",
       " 'Va.',\n",
       " 'W',\n",
       " '47-3',\n",
       " 'Oct',\n",
       " '28',\n",
       " '(Sat)',\n",
       " '1',\n",
       " 'PM',\n",
       " 'Away',\n",
       " 'Towson',\n",
       " 'Towson',\n",
       " 'Md.',\n",
       " 'W',\n",
       " '51-13',\n",
       " 'Nov',\n",
       " '4',\n",
       " '(Sat)',\n",
       " '1',\n",
       " 'PM',\n",
       " 'Home',\n",
       " 'Elon',\n",
       " 'Newark',\n",
       " 'Del.',\n",
       " '(Delaware',\n",
       " 'Stadium)',\n",
       " 'L',\n",
       " '27-33',\n",
       " 'Nov',\n",
       " '11',\n",
       " '(Sat)',\n",
       " '1',\n",
       " 'PM',\n",
       " 'Away',\n",
       " 'Campbell',\n",
       " 'Buies',\n",
       " 'Creek',\n",
       " 'N.C.',\n",
       " 'W',\n",
       " '45-7']"
      ]
     },
     "execution_count": 16,
     "metadata": {},
     "output_type": "execute_result"
    }
   ],
   "source": [
    "#remobve Villanova game from full season list\n",
    "del  season2023[-13:]\n",
    "season2023"
   ]
  },
  {
   "cell_type": "code",
   "execution_count": 17,
   "metadata": {},
   "outputs": [
    {
     "data": {
      "text/plain": [
       "['Nov',\n",
       " '11',\n",
       " '(Sat)',\n",
       " '1',\n",
       " 'PM',\n",
       " 'Away',\n",
       " 'Campbell',\n",
       " 'Buies',\n",
       " 'Creek',\n",
       " 'N.C.',\n",
       " 'W',\n",
       " '45-7']"
      ]
     },
     "execution_count": 17,
     "metadata": {},
     "output_type": "execute_result"
    }
   ],
   "source": [
    "#create list for Campbell game\n",
    "campbell = season2023[-12:]\n",
    "campbell"
   ]
  },
  {
   "cell_type": "code",
   "execution_count": 18,
   "metadata": {},
   "outputs": [
    {
     "data": {
      "text/plain": [
       "['Aug',\n",
       " '31',\n",
       " '(Thu)',\n",
       " '7',\n",
       " 'PM',\n",
       " 'Away',\n",
       " 'Stony',\n",
       " 'Brook',\n",
       " 'Stony',\n",
       " 'Brook',\n",
       " 'N.Y.',\n",
       " 'W',\n",
       " '37-13',\n",
       " 'Sept',\n",
       " '9',\n",
       " '(Sat)',\n",
       " '12',\n",
       " 'p.m.',\n",
       " 'Away',\n",
       " 'Penn',\n",
       " 'State',\n",
       " 'University',\n",
       " 'Park',\n",
       " 'Pa.',\n",
       " 'L',\n",
       " '7-63',\n",
       " 'Sep',\n",
       " '16',\n",
       " '(Sat)',\n",
       " '6',\n",
       " 'PM',\n",
       " 'Home',\n",
       " 'Saint',\n",
       " 'Francis',\n",
       " '(Pa.)',\n",
       " 'Newark',\n",
       " 'Del.',\n",
       " '(Delaware',\n",
       " 'Stadium)',\n",
       " 'W',\n",
       " '42-14',\n",
       " 'Sep',\n",
       " '23',\n",
       " '(Sat)',\n",
       " '6',\n",
       " 'PM',\n",
       " 'Home',\n",
       " 'New',\n",
       " 'Hampshire',\n",
       " 'Newark',\n",
       " 'Del.',\n",
       " '(Delaware',\n",
       " 'Stadium)',\n",
       " 'W',\n",
       " '29-50',\n",
       " 'Oct',\n",
       " '7',\n",
       " '(Sat)',\n",
       " '3',\n",
       " 'PM',\n",
       " 'Home',\n",
       " 'Duquesne',\n",
       " 'Newark',\n",
       " 'Del.',\n",
       " '(Delaware',\n",
       " 'Stadium)',\n",
       " 'W',\n",
       " '43-17',\n",
       " 'Oct',\n",
       " '14',\n",
       " '(Sat)',\n",
       " '3',\n",
       " 'PM',\n",
       " 'Home',\n",
       " 'North',\n",
       " 'Carolina',\n",
       " 'A&T',\n",
       " 'Newark',\n",
       " 'Del.',\n",
       " '(Delaware',\n",
       " 'Stadium)',\n",
       " 'W',\n",
       " '21-6',\n",
       " 'Oct',\n",
       " '21',\n",
       " '(Sat)',\n",
       " '2',\n",
       " 'PM',\n",
       " 'Away',\n",
       " 'Hampton',\n",
       " 'Hampton',\n",
       " 'Va.',\n",
       " 'W',\n",
       " '47-3',\n",
       " 'Oct',\n",
       " '28',\n",
       " '(Sat)',\n",
       " '1',\n",
       " 'PM',\n",
       " 'Away',\n",
       " 'Towson',\n",
       " 'Towson',\n",
       " 'Md.',\n",
       " 'W',\n",
       " '51-13',\n",
       " 'Nov',\n",
       " '4',\n",
       " '(Sat)',\n",
       " '1',\n",
       " 'PM',\n",
       " 'Home',\n",
       " 'Elon',\n",
       " 'Newark',\n",
       " 'Del.',\n",
       " '(Delaware',\n",
       " 'Stadium)',\n",
       " 'L',\n",
       " '27-33']"
      ]
     },
     "execution_count": 18,
     "metadata": {},
     "output_type": "execute_result"
    }
   ],
   "source": [
    "#remove Campbell game from full season list\n",
    "del season2023[-12:]\n",
    "season2023"
   ]
  },
  {
   "cell_type": "code",
   "execution_count": 19,
   "metadata": {},
   "outputs": [
    {
     "data": {
      "text/plain": [
       "['Nov',\n",
       " '4',\n",
       " '(Sat)',\n",
       " '1',\n",
       " 'PM',\n",
       " 'Home',\n",
       " 'Elon',\n",
       " 'Newark',\n",
       " 'Del.',\n",
       " '(Delaware',\n",
       " 'Stadium)',\n",
       " 'L',\n",
       " '27-33']"
      ]
     },
     "execution_count": 19,
     "metadata": {},
     "output_type": "execute_result"
    }
   ],
   "source": [
    "#create list for Elon game\n",
    "elon = season2023[-13:]\n",
    "elon"
   ]
  },
  {
   "cell_type": "code",
   "execution_count": 20,
   "metadata": {},
   "outputs": [
    {
     "data": {
      "text/plain": [
       "['Aug',\n",
       " '31',\n",
       " '(Thu)',\n",
       " '7',\n",
       " 'PM',\n",
       " 'Away',\n",
       " 'Stony',\n",
       " 'Brook',\n",
       " 'Stony',\n",
       " 'Brook',\n",
       " 'N.Y.',\n",
       " 'W',\n",
       " '37-13',\n",
       " 'Sept',\n",
       " '9',\n",
       " '(Sat)',\n",
       " '12',\n",
       " 'p.m.',\n",
       " 'Away',\n",
       " 'Penn',\n",
       " 'State',\n",
       " 'University',\n",
       " 'Park',\n",
       " 'Pa.',\n",
       " 'L',\n",
       " '7-63',\n",
       " 'Sep',\n",
       " '16',\n",
       " '(Sat)',\n",
       " '6',\n",
       " 'PM',\n",
       " 'Home',\n",
       " 'Saint',\n",
       " 'Francis',\n",
       " '(Pa.)',\n",
       " 'Newark',\n",
       " 'Del.',\n",
       " '(Delaware',\n",
       " 'Stadium)',\n",
       " 'W',\n",
       " '42-14',\n",
       " 'Sep',\n",
       " '23',\n",
       " '(Sat)',\n",
       " '6',\n",
       " 'PM',\n",
       " 'Home',\n",
       " 'New',\n",
       " 'Hampshire',\n",
       " 'Newark',\n",
       " 'Del.',\n",
       " '(Delaware',\n",
       " 'Stadium)',\n",
       " 'W',\n",
       " '29-50',\n",
       " 'Oct',\n",
       " '7',\n",
       " '(Sat)',\n",
       " '3',\n",
       " 'PM',\n",
       " 'Home',\n",
       " 'Duquesne',\n",
       " 'Newark',\n",
       " 'Del.',\n",
       " '(Delaware',\n",
       " 'Stadium)',\n",
       " 'W',\n",
       " '43-17',\n",
       " 'Oct',\n",
       " '14',\n",
       " '(Sat)',\n",
       " '3',\n",
       " 'PM',\n",
       " 'Home',\n",
       " 'North',\n",
       " 'Carolina',\n",
       " 'A&T',\n",
       " 'Newark',\n",
       " 'Del.',\n",
       " '(Delaware',\n",
       " 'Stadium)',\n",
       " 'W',\n",
       " '21-6',\n",
       " 'Oct',\n",
       " '21',\n",
       " '(Sat)',\n",
       " '2',\n",
       " 'PM',\n",
       " 'Away',\n",
       " 'Hampton',\n",
       " 'Hampton',\n",
       " 'Va.',\n",
       " 'W',\n",
       " '47-3',\n",
       " 'Oct',\n",
       " '28',\n",
       " '(Sat)',\n",
       " '1',\n",
       " 'PM',\n",
       " 'Away',\n",
       " 'Towson',\n",
       " 'Towson',\n",
       " 'Md.',\n",
       " 'W',\n",
       " '51-13']"
      ]
     },
     "execution_count": 20,
     "metadata": {},
     "output_type": "execute_result"
    }
   ],
   "source": [
    "#remove Elon game from full season list\n",
    "del season2023[-13:]\n",
    "season2023"
   ]
  },
  {
   "cell_type": "code",
   "execution_count": 21,
   "metadata": {},
   "outputs": [
    {
     "data": {
      "text/plain": [
       "['Oct',\n",
       " '28',\n",
       " '(Sat)',\n",
       " '1',\n",
       " 'PM',\n",
       " 'Away',\n",
       " 'Towson',\n",
       " 'Towson',\n",
       " 'Md.',\n",
       " 'W',\n",
       " '51-13']"
      ]
     },
     "execution_count": 21,
     "metadata": {},
     "output_type": "execute_result"
    }
   ],
   "source": [
    "#create list for Towson game\n",
    "towson = season2023[-11:]\n",
    "towson"
   ]
  },
  {
   "cell_type": "code",
   "execution_count": 22,
   "metadata": {},
   "outputs": [
    {
     "data": {
      "text/plain": [
       "['Aug',\n",
       " '31',\n",
       " '(Thu)',\n",
       " '7',\n",
       " 'PM',\n",
       " 'Away',\n",
       " 'Stony',\n",
       " 'Brook',\n",
       " 'Stony',\n",
       " 'Brook',\n",
       " 'N.Y.',\n",
       " 'W',\n",
       " '37-13',\n",
       " 'Sept',\n",
       " '9',\n",
       " '(Sat)',\n",
       " '12',\n",
       " 'p.m.',\n",
       " 'Away',\n",
       " 'Penn',\n",
       " 'State',\n",
       " 'University',\n",
       " 'Park',\n",
       " 'Pa.',\n",
       " 'L',\n",
       " '7-63',\n",
       " 'Sep',\n",
       " '16',\n",
       " '(Sat)',\n",
       " '6',\n",
       " 'PM',\n",
       " 'Home',\n",
       " 'Saint',\n",
       " 'Francis',\n",
       " '(Pa.)',\n",
       " 'Newark',\n",
       " 'Del.',\n",
       " '(Delaware',\n",
       " 'Stadium)',\n",
       " 'W',\n",
       " '42-14',\n",
       " 'Sep',\n",
       " '23',\n",
       " '(Sat)',\n",
       " '6',\n",
       " 'PM',\n",
       " 'Home',\n",
       " 'New',\n",
       " 'Hampshire',\n",
       " 'Newark',\n",
       " 'Del.',\n",
       " '(Delaware',\n",
       " 'Stadium)',\n",
       " 'W',\n",
       " '29-50',\n",
       " 'Oct',\n",
       " '7',\n",
       " '(Sat)',\n",
       " '3',\n",
       " 'PM',\n",
       " 'Home',\n",
       " 'Duquesne',\n",
       " 'Newark',\n",
       " 'Del.',\n",
       " '(Delaware',\n",
       " 'Stadium)',\n",
       " 'W',\n",
       " '43-17',\n",
       " 'Oct',\n",
       " '14',\n",
       " '(Sat)',\n",
       " '3',\n",
       " 'PM',\n",
       " 'Home',\n",
       " 'North',\n",
       " 'Carolina',\n",
       " 'A&T',\n",
       " 'Newark',\n",
       " 'Del.',\n",
       " '(Delaware',\n",
       " 'Stadium)',\n",
       " 'W',\n",
       " '21-6',\n",
       " 'Oct',\n",
       " '21',\n",
       " '(Sat)',\n",
       " '2',\n",
       " 'PM',\n",
       " 'Away',\n",
       " 'Hampton',\n",
       " 'Hampton',\n",
       " 'Va.',\n",
       " 'W',\n",
       " '47-3']"
      ]
     },
     "execution_count": 22,
     "metadata": {},
     "output_type": "execute_result"
    }
   ],
   "source": [
    "#remove Towson game from full season list\n",
    "del season2023[-11:]\n",
    "season2023"
   ]
  },
  {
   "cell_type": "code",
   "execution_count": 23,
   "metadata": {},
   "outputs": [
    {
     "data": {
      "text/plain": [
       "['Oct',\n",
       " '21',\n",
       " '(Sat)',\n",
       " '2',\n",
       " 'PM',\n",
       " 'Away',\n",
       " 'Hampton',\n",
       " 'Hampton',\n",
       " 'Va.',\n",
       " 'W',\n",
       " '47-3']"
      ]
     },
     "execution_count": 23,
     "metadata": {},
     "output_type": "execute_result"
    }
   ],
   "source": [
    "#create list for Hampton game\n",
    "hampton = season2023[-11:]\n",
    "hampton"
   ]
  },
  {
   "cell_type": "code",
   "execution_count": 24,
   "metadata": {},
   "outputs": [
    {
     "data": {
      "text/plain": [
       "['Aug',\n",
       " '31',\n",
       " '(Thu)',\n",
       " '7',\n",
       " 'PM',\n",
       " 'Away',\n",
       " 'Stony',\n",
       " 'Brook',\n",
       " 'Stony',\n",
       " 'Brook',\n",
       " 'N.Y.',\n",
       " 'W',\n",
       " '37-13',\n",
       " 'Sept',\n",
       " '9',\n",
       " '(Sat)',\n",
       " '12',\n",
       " 'p.m.',\n",
       " 'Away',\n",
       " 'Penn',\n",
       " 'State',\n",
       " 'University',\n",
       " 'Park',\n",
       " 'Pa.',\n",
       " 'L',\n",
       " '7-63',\n",
       " 'Sep',\n",
       " '16',\n",
       " '(Sat)',\n",
       " '6',\n",
       " 'PM',\n",
       " 'Home',\n",
       " 'Saint',\n",
       " 'Francis',\n",
       " '(Pa.)',\n",
       " 'Newark',\n",
       " 'Del.',\n",
       " '(Delaware',\n",
       " 'Stadium)',\n",
       " 'W',\n",
       " '42-14',\n",
       " 'Sep',\n",
       " '23',\n",
       " '(Sat)',\n",
       " '6',\n",
       " 'PM',\n",
       " 'Home',\n",
       " 'New',\n",
       " 'Hampshire',\n",
       " 'Newark',\n",
       " 'Del.',\n",
       " '(Delaware',\n",
       " 'Stadium)',\n",
       " 'W',\n",
       " '29-50',\n",
       " 'Oct',\n",
       " '7',\n",
       " '(Sat)',\n",
       " '3',\n",
       " 'PM',\n",
       " 'Home',\n",
       " 'Duquesne',\n",
       " 'Newark',\n",
       " 'Del.',\n",
       " '(Delaware',\n",
       " 'Stadium)',\n",
       " 'W',\n",
       " '43-17',\n",
       " 'Oct',\n",
       " '14',\n",
       " '(Sat)',\n",
       " '3',\n",
       " 'PM',\n",
       " 'Home',\n",
       " 'North',\n",
       " 'Carolina',\n",
       " 'A&T',\n",
       " 'Newark',\n",
       " 'Del.',\n",
       " '(Delaware',\n",
       " 'Stadium)',\n",
       " 'W',\n",
       " '21-6']"
      ]
     },
     "execution_count": 24,
     "metadata": {},
     "output_type": "execute_result"
    }
   ],
   "source": [
    "#remove Hampton game from full season list\n",
    "del season2023[-11:]\n",
    "season2023"
   ]
  },
  {
   "cell_type": "code",
   "execution_count": 25,
   "metadata": {},
   "outputs": [
    {
     "data": {
      "text/plain": [
       "['Oct',\n",
       " '14',\n",
       " '(Sat)',\n",
       " '3',\n",
       " 'PM',\n",
       " 'Home',\n",
       " 'North',\n",
       " 'Carolina',\n",
       " 'A&T',\n",
       " 'Newark',\n",
       " 'Del.',\n",
       " '(Delaware',\n",
       " 'Stadium)',\n",
       " 'W',\n",
       " '21-6']"
      ]
     },
     "execution_count": 25,
     "metadata": {},
     "output_type": "execute_result"
    }
   ],
   "source": [
    "#create list for North Carolina A&T game\n",
    "ncat = season2023[-15:]\n",
    "ncat"
   ]
  },
  {
   "cell_type": "code",
   "execution_count": 26,
   "metadata": {},
   "outputs": [
    {
     "data": {
      "text/plain": [
       "['Aug',\n",
       " '31',\n",
       " '(Thu)',\n",
       " '7',\n",
       " 'PM',\n",
       " 'Away',\n",
       " 'Stony',\n",
       " 'Brook',\n",
       " 'Stony',\n",
       " 'Brook',\n",
       " 'N.Y.',\n",
       " 'W',\n",
       " '37-13',\n",
       " 'Sept',\n",
       " '9',\n",
       " '(Sat)',\n",
       " '12',\n",
       " 'p.m.',\n",
       " 'Away',\n",
       " 'Penn',\n",
       " 'State',\n",
       " 'University',\n",
       " 'Park',\n",
       " 'Pa.',\n",
       " 'L',\n",
       " '7-63',\n",
       " 'Sep',\n",
       " '16',\n",
       " '(Sat)',\n",
       " '6',\n",
       " 'PM',\n",
       " 'Home',\n",
       " 'Saint',\n",
       " 'Francis',\n",
       " '(Pa.)',\n",
       " 'Newark',\n",
       " 'Del.',\n",
       " '(Delaware',\n",
       " 'Stadium)',\n",
       " 'W',\n",
       " '42-14',\n",
       " 'Sep',\n",
       " '23',\n",
       " '(Sat)',\n",
       " '6',\n",
       " 'PM',\n",
       " 'Home',\n",
       " 'New',\n",
       " 'Hampshire',\n",
       " 'Newark',\n",
       " 'Del.',\n",
       " '(Delaware',\n",
       " 'Stadium)',\n",
       " 'W',\n",
       " '29-50',\n",
       " 'Oct',\n",
       " '7',\n",
       " '(Sat)',\n",
       " '3',\n",
       " 'PM',\n",
       " 'Home',\n",
       " 'Duquesne',\n",
       " 'Newark',\n",
       " 'Del.',\n",
       " '(Delaware',\n",
       " 'Stadium)',\n",
       " 'W',\n",
       " '43-17']"
      ]
     },
     "execution_count": 26,
     "metadata": {},
     "output_type": "execute_result"
    }
   ],
   "source": [
    "#remove North Carolina A&T game from full season list\n",
    "del season2023[-15:]\n",
    "season2023"
   ]
  },
  {
   "cell_type": "code",
   "execution_count": 27,
   "metadata": {},
   "outputs": [
    {
     "data": {
      "text/plain": [
       "['Oct',\n",
       " '7',\n",
       " '(Sat)',\n",
       " '3',\n",
       " 'PM',\n",
       " 'Home',\n",
       " 'Duquesne',\n",
       " 'Newark',\n",
       " 'Del.',\n",
       " '(Delaware',\n",
       " 'Stadium)',\n",
       " 'W',\n",
       " '43-17']"
      ]
     },
     "execution_count": 27,
     "metadata": {},
     "output_type": "execute_result"
    }
   ],
   "source": [
    "#create list for Duquesne game\n",
    "duquesne = season2023[-13:]\n",
    "duquesne"
   ]
  },
  {
   "cell_type": "code",
   "execution_count": 28,
   "metadata": {},
   "outputs": [
    {
     "data": {
      "text/plain": [
       "['Aug',\n",
       " '31',\n",
       " '(Thu)',\n",
       " '7',\n",
       " 'PM',\n",
       " 'Away',\n",
       " 'Stony',\n",
       " 'Brook',\n",
       " 'Stony',\n",
       " 'Brook',\n",
       " 'N.Y.',\n",
       " 'W',\n",
       " '37-13',\n",
       " 'Sept',\n",
       " '9',\n",
       " '(Sat)',\n",
       " '12',\n",
       " 'p.m.',\n",
       " 'Away',\n",
       " 'Penn',\n",
       " 'State',\n",
       " 'University',\n",
       " 'Park',\n",
       " 'Pa.',\n",
       " 'L',\n",
       " '7-63',\n",
       " 'Sep',\n",
       " '16',\n",
       " '(Sat)',\n",
       " '6',\n",
       " 'PM',\n",
       " 'Home',\n",
       " 'Saint',\n",
       " 'Francis',\n",
       " '(Pa.)',\n",
       " 'Newark',\n",
       " 'Del.',\n",
       " '(Delaware',\n",
       " 'Stadium)',\n",
       " 'W',\n",
       " '42-14',\n",
       " 'Sep',\n",
       " '23',\n",
       " '(Sat)',\n",
       " '6',\n",
       " 'PM',\n",
       " 'Home',\n",
       " 'New',\n",
       " 'Hampshire',\n",
       " 'Newark',\n",
       " 'Del.',\n",
       " '(Delaware',\n",
       " 'Stadium)',\n",
       " 'W',\n",
       " '29-50']"
      ]
     },
     "execution_count": 28,
     "metadata": {},
     "output_type": "execute_result"
    }
   ],
   "source": [
    "#Remove Duquesne game from full seaason list\n",
    "del season2023[-13:]\n",
    "season2023"
   ]
  },
  {
   "cell_type": "code",
   "execution_count": 29,
   "metadata": {},
   "outputs": [
    {
     "data": {
      "text/plain": [
       "['Sep',\n",
       " '23',\n",
       " '(Sat)',\n",
       " '6',\n",
       " 'PM',\n",
       " 'Home',\n",
       " 'New',\n",
       " 'Hampshire',\n",
       " 'Newark',\n",
       " 'Del.',\n",
       " '(Delaware',\n",
       " 'Stadium)',\n",
       " 'W',\n",
       " '29-50']"
      ]
     },
     "execution_count": 29,
     "metadata": {},
     "output_type": "execute_result"
    }
   ],
   "source": [
    "#create list for New Hampshire game\n",
    "newhampshire = season2023[-14:]\n",
    "newhampshire"
   ]
  },
  {
   "cell_type": "code",
   "execution_count": 30,
   "metadata": {},
   "outputs": [
    {
     "data": {
      "text/plain": [
       "['Aug',\n",
       " '31',\n",
       " '(Thu)',\n",
       " '7',\n",
       " 'PM',\n",
       " 'Away',\n",
       " 'Stony',\n",
       " 'Brook',\n",
       " 'Stony',\n",
       " 'Brook',\n",
       " 'N.Y.',\n",
       " 'W',\n",
       " '37-13',\n",
       " 'Sept',\n",
       " '9',\n",
       " '(Sat)',\n",
       " '12',\n",
       " 'p.m.',\n",
       " 'Away',\n",
       " 'Penn',\n",
       " 'State',\n",
       " 'University',\n",
       " 'Park',\n",
       " 'Pa.',\n",
       " 'L',\n",
       " '7-63',\n",
       " 'Sep',\n",
       " '16',\n",
       " '(Sat)',\n",
       " '6',\n",
       " 'PM',\n",
       " 'Home',\n",
       " 'Saint',\n",
       " 'Francis',\n",
       " '(Pa.)',\n",
       " 'Newark',\n",
       " 'Del.',\n",
       " '(Delaware',\n",
       " 'Stadium)',\n",
       " 'W',\n",
       " '42-14']"
      ]
     },
     "execution_count": 30,
     "metadata": {},
     "output_type": "execute_result"
    }
   ],
   "source": [
    "#remove New Hampshire game from full season list\n",
    "del season2023[-14:]\n",
    "season2023"
   ]
  },
  {
   "cell_type": "code",
   "execution_count": 31,
   "metadata": {},
   "outputs": [
    {
     "data": {
      "text/plain": [
       "['Sep',\n",
       " '16',\n",
       " '(Sat)',\n",
       " '6',\n",
       " 'PM',\n",
       " 'Home',\n",
       " 'Saint',\n",
       " 'Francis',\n",
       " '(Pa.)',\n",
       " 'Newark',\n",
       " 'Del.',\n",
       " '(Delaware',\n",
       " 'Stadium)',\n",
       " 'W',\n",
       " '42-14']"
      ]
     },
     "execution_count": 31,
     "metadata": {},
     "output_type": "execute_result"
    }
   ],
   "source": [
    "#create list for Saint Francis game\n",
    "saintfrancis = season2023[-15:]\n",
    "saintfrancis"
   ]
  },
  {
   "cell_type": "code",
   "execution_count": 32,
   "metadata": {},
   "outputs": [
    {
     "data": {
      "text/plain": [
       "['Aug',\n",
       " '31',\n",
       " '(Thu)',\n",
       " '7',\n",
       " 'PM',\n",
       " 'Away',\n",
       " 'Stony',\n",
       " 'Brook',\n",
       " 'Stony',\n",
       " 'Brook',\n",
       " 'N.Y.',\n",
       " 'W',\n",
       " '37-13',\n",
       " 'Sept',\n",
       " '9',\n",
       " '(Sat)',\n",
       " '12',\n",
       " 'p.m.',\n",
       " 'Away',\n",
       " 'Penn',\n",
       " 'State',\n",
       " 'University',\n",
       " 'Park',\n",
       " 'Pa.',\n",
       " 'L',\n",
       " '7-63']"
      ]
     },
     "execution_count": 32,
     "metadata": {},
     "output_type": "execute_result"
    }
   ],
   "source": [
    "#remove Saint Francis game from full season list\n",
    "del season2023[-15:]\n",
    "season2023"
   ]
  },
  {
   "cell_type": "code",
   "execution_count": 33,
   "metadata": {},
   "outputs": [
    {
     "data": {
      "text/plain": [
       "['Sept',\n",
       " '9',\n",
       " '(Sat)',\n",
       " '12',\n",
       " 'p.m.',\n",
       " 'Away',\n",
       " 'Penn',\n",
       " 'State',\n",
       " 'University',\n",
       " 'Park',\n",
       " 'Pa.',\n",
       " 'L',\n",
       " '7-63']"
      ]
     },
     "execution_count": 33,
     "metadata": {},
     "output_type": "execute_result"
    }
   ],
   "source": [
    "#create list for Penn State game\n",
    "pennstate = season2023[-13:]\n",
    "pennstate"
   ]
  },
  {
   "cell_type": "code",
   "execution_count": 34,
   "metadata": {},
   "outputs": [
    {
     "data": {
      "text/plain": [
       "['Aug',\n",
       " '31',\n",
       " '(Thu)',\n",
       " '7',\n",
       " 'PM',\n",
       " 'Away',\n",
       " 'Stony',\n",
       " 'Brook',\n",
       " 'Stony',\n",
       " 'Brook',\n",
       " 'N.Y.',\n",
       " 'W',\n",
       " '37-13']"
      ]
     },
     "execution_count": 34,
     "metadata": {},
     "output_type": "execute_result"
    }
   ],
   "source": [
    "#remove Penn State game from full season list\n",
    "del season2023[-13:]\n",
    "season2023"
   ]
  },
  {
   "cell_type": "code",
   "execution_count": 35,
   "metadata": {},
   "outputs": [
    {
     "data": {
      "text/plain": [
       "['Aug',\n",
       " '31',\n",
       " '(Thu)',\n",
       " '7',\n",
       " 'PM',\n",
       " 'Away',\n",
       " 'Stony',\n",
       " 'Brook',\n",
       " 'Stony',\n",
       " 'Brook',\n",
       " 'N.Y.',\n",
       " 'W',\n",
       " '37-13']"
      ]
     },
     "execution_count": 35,
     "metadata": {},
     "output_type": "execute_result"
    }
   ],
   "source": [
    "#create list for Stony Brook game\n",
    "stonybrook = season2023\n",
    "stonybrook"
   ]
  },
  {
   "cell_type": "code",
   "execution_count": 36,
   "metadata": {},
   "outputs": [
    {
     "data": {
      "text/plain": [
       "13"
      ]
     },
     "execution_count": 36,
     "metadata": {},
     "output_type": "execute_result"
    },
    {
     "data": {
      "text/plain": [
       "13"
      ]
     },
     "execution_count": 36,
     "metadata": {},
     "output_type": "execute_result"
    },
    {
     "data": {
      "text/plain": [
       "15"
      ]
     },
     "execution_count": 36,
     "metadata": {},
     "output_type": "execute_result"
    },
    {
     "data": {
      "text/plain": [
       "14"
      ]
     },
     "execution_count": 36,
     "metadata": {},
     "output_type": "execute_result"
    },
    {
     "data": {
      "text/plain": [
       "13"
      ]
     },
     "execution_count": 36,
     "metadata": {},
     "output_type": "execute_result"
    },
    {
     "data": {
      "text/plain": [
       "15"
      ]
     },
     "execution_count": 36,
     "metadata": {},
     "output_type": "execute_result"
    },
    {
     "data": {
      "text/plain": [
       "11"
      ]
     },
     "execution_count": 36,
     "metadata": {},
     "output_type": "execute_result"
    },
    {
     "data": {
      "text/plain": [
       "11"
      ]
     },
     "execution_count": 36,
     "metadata": {},
     "output_type": "execute_result"
    },
    {
     "data": {
      "text/plain": [
       "13"
      ]
     },
     "execution_count": 36,
     "metadata": {},
     "output_type": "execute_result"
    },
    {
     "data": {
      "text/plain": [
       "12"
      ]
     },
     "execution_count": 36,
     "metadata": {},
     "output_type": "execute_result"
    },
    {
     "data": {
      "text/plain": [
       "13"
      ]
     },
     "execution_count": 36,
     "metadata": {},
     "output_type": "execute_result"
    },
    {
     "data": {
      "text/plain": [
       "10"
      ]
     },
     "execution_count": 36,
     "metadata": {},
     "output_type": "execute_result"
    },
    {
     "data": {
      "text/plain": [
       "12"
      ]
     },
     "execution_count": 36,
     "metadata": {},
     "output_type": "execute_result"
    }
   ],
   "source": [
    "#get length of list for each game\n",
    "len(stonybrook)\n",
    "len(pennstate)\n",
    "len(saintfrancis)\n",
    "len(newhampshire)\n",
    "len(duquesne)\n",
    "len(ncat)\n",
    "len(hampton)\n",
    "len(towson)\n",
    "len(elon)\n",
    "len(campbell)\n",
    "len(villanova)\n",
    "len(lafayette)\n",
    "len(montana)"
   ]
  },
  {
   "cell_type": "code",
   "execution_count": 37,
   "metadata": {},
   "outputs": [
    {
     "data": {
      "text/plain": [
       "['Aug',\n",
       " '31',\n",
       " '(Thu)',\n",
       " '7',\n",
       " 'PM',\n",
       " 'Away',\n",
       " 'Stony',\n",
       " 'Brook',\n",
       " 'Stony',\n",
       " 'Brook',\n",
       " 'N.Y.',\n",
       " 'W',\n",
       " '37-13']"
      ]
     },
     "execution_count": 37,
     "metadata": {},
     "output_type": "execute_result"
    }
   ],
   "source": [
    "#list for Stony Brook game\n",
    "stonybrook"
   ]
  },
  {
   "cell_type": "code",
   "execution_count": 38,
   "metadata": {},
   "outputs": [
    {
     "data": {
      "text/plain": [
       "10"
      ]
     },
     "execution_count": 38,
     "metadata": {},
     "output_type": "execute_result"
    },
    {
     "data": {
      "text/plain": [
       "['Aug 31 2023',\n",
       " '(Thu)',\n",
       " '7 PM',\n",
       " 'Away',\n",
       " 'Stony Brook',\n",
       " 'Stony Brook',\n",
       " 'N.Y.',\n",
       " 'W',\n",
       " '37',\n",
       " '13']"
      ]
     },
     "execution_count": 38,
     "metadata": {},
     "output_type": "execute_result"
    }
   ],
   "source": [
    "#clean up Stony Brook list\n",
    "stonybrook[:2] = [' '.join(stonybrook[:2]) + ' 2023']  \n",
    "stonybrook[2:4] = [' '.join(stonybrook[2:4])] \n",
    "stonybrook[4:6] = [' '.join(stonybrook[4:6])]\n",
    "stonybrook[5:7] = [' '.join(stonybrook[5:7])]\n",
    "stonybrook[8:] = stonybrook[-1].split('-')\n",
    "len(stonybrook)\n",
    "stonybrook\n"
   ]
  },
  {
   "cell_type": "code",
   "execution_count": 39,
   "metadata": {},
   "outputs": [
    {
     "data": {
      "text/plain": [
       "['Sept',\n",
       " '9',\n",
       " '(Sat)',\n",
       " '12',\n",
       " 'p.m.',\n",
       " 'Away',\n",
       " 'Penn',\n",
       " 'State',\n",
       " 'University',\n",
       " 'Park',\n",
       " 'Pa.',\n",
       " 'L',\n",
       " '7-63']"
      ]
     },
     "execution_count": 39,
     "metadata": {},
     "output_type": "execute_result"
    }
   ],
   "source": [
    "#list for Penn State game\n",
    "pennstate"
   ]
  },
  {
   "cell_type": "code",
   "execution_count": 40,
   "metadata": {},
   "outputs": [
    {
     "data": {
      "text/plain": [
       "10"
      ]
     },
     "execution_count": 40,
     "metadata": {},
     "output_type": "execute_result"
    },
    {
     "data": {
      "text/plain": [
       "['Sept 9 2023',\n",
       " '(Sat)',\n",
       " '12 p.m.',\n",
       " 'Away',\n",
       " 'Penn State',\n",
       " 'University Park',\n",
       " 'Pa.',\n",
       " 'L',\n",
       " '7',\n",
       " '63']"
      ]
     },
     "execution_count": 40,
     "metadata": {},
     "output_type": "execute_result"
    }
   ],
   "source": [
    "#clean up Penn State list\n",
    "pennstate[:2] = [' '.join(pennstate[:2]) + ' 2023'] \n",
    "pennstate[2:4] = [' '.join(pennstate[2:4])]\n",
    "pennstate[4:6 ]= [' '.join(pennstate[4:6])]\n",
    "pennstate[5:7] = [' '.join(pennstate[5:7])]\n",
    "pennstate[8:] = pennstate[-1].split('-')\n",
    "len(pennstate)\n",
    "pennstate"
   ]
  },
  {
   "cell_type": "code",
   "execution_count": 41,
   "metadata": {},
   "outputs": [
    {
     "data": {
      "text/plain": [
       "['Sep',\n",
       " '16',\n",
       " '(Sat)',\n",
       " '6',\n",
       " 'PM',\n",
       " 'Home',\n",
       " 'Saint',\n",
       " 'Francis',\n",
       " '(Pa.)',\n",
       " 'Newark',\n",
       " 'Del.',\n",
       " '(Delaware',\n",
       " 'Stadium)',\n",
       " 'W',\n",
       " '42-14']"
      ]
     },
     "execution_count": 41,
     "metadata": {},
     "output_type": "execute_result"
    }
   ],
   "source": [
    "#Saint Francis game\n",
    "saintfrancis"
   ]
  },
  {
   "cell_type": "code",
   "execution_count": 42,
   "metadata": {},
   "outputs": [
    {
     "data": {
      "text/plain": [
       "10"
      ]
     },
     "execution_count": 42,
     "metadata": {},
     "output_type": "execute_result"
    },
    {
     "data": {
      "text/plain": [
       "['Sep 16 2023',\n",
       " '(Sat)',\n",
       " '6 PM',\n",
       " 'Home',\n",
       " 'Saint Francis (Pa.)',\n",
       " 'Newark',\n",
       " 'Del.',\n",
       " 'W',\n",
       " '42',\n",
       " '14']"
      ]
     },
     "execution_count": 42,
     "metadata": {},
     "output_type": "execute_result"
    }
   ],
   "source": [
    "#clean up Saint Francis list\n",
    "del saintfrancis[-4:-2]\n",
    "saintfrancis[:2] = [' '.join(saintfrancis[:2]) + ' 2023'] \n",
    "saintfrancis[2:4] = [' '.join(saintfrancis[2:4])]\n",
    "saintfrancis[4:7]= [' '.join(saintfrancis[4:7])]\n",
    "saintfrancis[8:] = saintfrancis[-1].split('-')\n",
    "len(saintfrancis)\n",
    "saintfrancis"
   ]
  },
  {
   "cell_type": "code",
   "execution_count": 43,
   "metadata": {},
   "outputs": [
    {
     "data": {
      "text/plain": [
       "['Sep',\n",
       " '23',\n",
       " '(Sat)',\n",
       " '6',\n",
       " 'PM',\n",
       " 'Home',\n",
       " 'New',\n",
       " 'Hampshire',\n",
       " 'Newark',\n",
       " 'Del.',\n",
       " '(Delaware',\n",
       " 'Stadium)',\n",
       " 'W',\n",
       " '29-50']"
      ]
     },
     "execution_count": 43,
     "metadata": {},
     "output_type": "execute_result"
    }
   ],
   "source": [
    "#New Hampshire game\n",
    "newhampshire"
   ]
  },
  {
   "cell_type": "code",
   "execution_count": 44,
   "metadata": {},
   "outputs": [
    {
     "data": {
      "text/plain": [
       "10"
      ]
     },
     "execution_count": 44,
     "metadata": {},
     "output_type": "execute_result"
    },
    {
     "data": {
      "text/plain": [
       "['Sep 23 2023',\n",
       " '(Sat)',\n",
       " '6 PM',\n",
       " 'Home',\n",
       " 'New Hampshire',\n",
       " 'Newark',\n",
       " 'Del.',\n",
       " 'W',\n",
       " '29',\n",
       " '50']"
      ]
     },
     "execution_count": 44,
     "metadata": {},
     "output_type": "execute_result"
    }
   ],
   "source": [
    "#clean up New Hampshire list\n",
    "del newhampshire[-4:-2]\n",
    "newhampshire[:2] = [' '.join(newhampshire[:2]) + ' 2023'] \n",
    "newhampshire[2:4] = [' '.join(newhampshire[2:4])]\n",
    "newhampshire[4:6 ]= [' '.join(newhampshire[4:6])]\n",
    "newhampshire[8:] = newhampshire[-1].split('-')\n",
    "len(newhampshire)\n",
    "newhampshire"
   ]
  },
  {
   "cell_type": "code",
   "execution_count": 45,
   "metadata": {},
   "outputs": [
    {
     "data": {
      "text/plain": [
       "['Oct',\n",
       " '7',\n",
       " '(Sat)',\n",
       " '3',\n",
       " 'PM',\n",
       " 'Home',\n",
       " 'Duquesne',\n",
       " 'Newark',\n",
       " 'Del.',\n",
       " '(Delaware',\n",
       " 'Stadium)',\n",
       " 'W',\n",
       " '43-17']"
      ]
     },
     "execution_count": 45,
     "metadata": {},
     "output_type": "execute_result"
    }
   ],
   "source": [
    "#Duquesne game\n",
    "duquesne"
   ]
  },
  {
   "cell_type": "code",
   "execution_count": 46,
   "metadata": {},
   "outputs": [
    {
     "data": {
      "text/plain": [
       "10"
      ]
     },
     "execution_count": 46,
     "metadata": {},
     "output_type": "execute_result"
    },
    {
     "data": {
      "text/plain": [
       "['Oct 7 2023',\n",
       " '(Sat)',\n",
       " '3 PM',\n",
       " 'Home',\n",
       " 'Duquesne',\n",
       " 'Newark',\n",
       " 'Del.',\n",
       " 'W',\n",
       " '43',\n",
       " '17']"
      ]
     },
     "execution_count": 46,
     "metadata": {},
     "output_type": "execute_result"
    }
   ],
   "source": [
    "#clean up Duquesne list\n",
    "del duquesne[-4:-2]\n",
    "duquesne[:2] = [' '.join(duquesne[:2]) + ' 2023'] \n",
    "duquesne[2:4] = [' '.join(duquesne[2:4])]\n",
    "duquesne[8:] = duquesne[-1].split('-')\n",
    "len(duquesne)\n",
    "duquesne"
   ]
  },
  {
   "cell_type": "code",
   "execution_count": 47,
   "metadata": {},
   "outputs": [
    {
     "data": {
      "text/plain": [
       "['Oct',\n",
       " '14',\n",
       " '(Sat)',\n",
       " '3',\n",
       " 'PM',\n",
       " 'Home',\n",
       " 'North',\n",
       " 'Carolina',\n",
       " 'A&T',\n",
       " 'Newark',\n",
       " 'Del.',\n",
       " '(Delaware',\n",
       " 'Stadium)',\n",
       " 'W',\n",
       " '21-6']"
      ]
     },
     "execution_count": 47,
     "metadata": {},
     "output_type": "execute_result"
    }
   ],
   "source": [
    "#North Carolina A&T game\n",
    "ncat"
   ]
  },
  {
   "cell_type": "code",
   "execution_count": 48,
   "metadata": {},
   "outputs": [
    {
     "data": {
      "text/plain": [
       "10"
      ]
     },
     "execution_count": 48,
     "metadata": {},
     "output_type": "execute_result"
    },
    {
     "data": {
      "text/plain": [
       "['Oct 14 2023',\n",
       " '(Sat)',\n",
       " '3 PM',\n",
       " 'Home',\n",
       " 'North Carolina A&T',\n",
       " 'Newark',\n",
       " 'Del.',\n",
       " 'W',\n",
       " '21',\n",
       " '6']"
      ]
     },
     "execution_count": 48,
     "metadata": {},
     "output_type": "execute_result"
    }
   ],
   "source": [
    "#clean up North Carolina A&T list\n",
    "del ncat[-4:-2]\n",
    "ncat[:2] = [' '.join(ncat[:2]) + ' 2023'] \n",
    "ncat[2:4] = [' '.join(ncat[2:4])]\n",
    "ncat[4:7] = [' '.join(ncat[4:7])]\n",
    "ncat[8:] = ncat[-1].split('-')\n",
    "len(ncat)\n",
    "ncat"
   ]
  },
  {
   "cell_type": "code",
   "execution_count": 49,
   "metadata": {},
   "outputs": [
    {
     "data": {
      "text/plain": [
       "['Oct',\n",
       " '21',\n",
       " '(Sat)',\n",
       " '2',\n",
       " 'PM',\n",
       " 'Away',\n",
       " 'Hampton',\n",
       " 'Hampton',\n",
       " 'Va.',\n",
       " 'W',\n",
       " '47-3']"
      ]
     },
     "execution_count": 49,
     "metadata": {},
     "output_type": "execute_result"
    }
   ],
   "source": [
    "#Hampton game\n",
    "hampton"
   ]
  },
  {
   "cell_type": "code",
   "execution_count": 50,
   "metadata": {},
   "outputs": [
    {
     "data": {
      "text/plain": [
       "10"
      ]
     },
     "execution_count": 50,
     "metadata": {},
     "output_type": "execute_result"
    },
    {
     "data": {
      "text/plain": [
       "['Oct 21 2023',\n",
       " '(Sat)',\n",
       " '2 PM',\n",
       " 'Away',\n",
       " 'Hampton',\n",
       " 'Hampton',\n",
       " 'Va.',\n",
       " 'W',\n",
       " '47',\n",
       " '3']"
      ]
     },
     "execution_count": 50,
     "metadata": {},
     "output_type": "execute_result"
    }
   ],
   "source": [
    "#clean up hampton list\n",
    "hampton[:2] = [' '.join(hampton[:2]) + ' 2023'] \n",
    "hampton[2:4] = [' '.join(hampton[2:4])]\n",
    "hampton[8:] = hampton[-1].split('-')\n",
    "len(hampton)\n",
    "hampton"
   ]
  },
  {
   "cell_type": "code",
   "execution_count": 51,
   "metadata": {},
   "outputs": [
    {
     "data": {
      "text/plain": [
       "['Oct',\n",
       " '28',\n",
       " '(Sat)',\n",
       " '1',\n",
       " 'PM',\n",
       " 'Away',\n",
       " 'Towson',\n",
       " 'Towson',\n",
       " 'Md.',\n",
       " 'W',\n",
       " '51-13']"
      ]
     },
     "execution_count": 51,
     "metadata": {},
     "output_type": "execute_result"
    }
   ],
   "source": [
    "#Towson game\n",
    "towson"
   ]
  },
  {
   "cell_type": "code",
   "execution_count": 52,
   "metadata": {},
   "outputs": [
    {
     "data": {
      "text/plain": [
       "10"
      ]
     },
     "execution_count": 52,
     "metadata": {},
     "output_type": "execute_result"
    },
    {
     "data": {
      "text/plain": [
       "['Oct 28 2023',\n",
       " '(Sat)',\n",
       " '1 PM',\n",
       " 'Away',\n",
       " 'Towson',\n",
       " 'Towson',\n",
       " 'Md.',\n",
       " 'W',\n",
       " '51',\n",
       " '13']"
      ]
     },
     "execution_count": 52,
     "metadata": {},
     "output_type": "execute_result"
    }
   ],
   "source": [
    "#clean up Towson list\n",
    "towson[:2] = [' '.join(towson[:2]) + ' 2023'] \n",
    "towson[2:4] = [' '.join(towson[2:4])]\n",
    "towson[8:] = towson[-1].split('-')\n",
    "len(towson)\n",
    "towson"
   ]
  },
  {
   "cell_type": "code",
   "execution_count": 53,
   "metadata": {},
   "outputs": [
    {
     "data": {
      "text/plain": [
       "['Nov',\n",
       " '4',\n",
       " '(Sat)',\n",
       " '1',\n",
       " 'PM',\n",
       " 'Home',\n",
       " 'Elon',\n",
       " 'Newark',\n",
       " 'Del.',\n",
       " '(Delaware',\n",
       " 'Stadium)',\n",
       " 'L',\n",
       " '27-33']"
      ]
     },
     "execution_count": 53,
     "metadata": {},
     "output_type": "execute_result"
    }
   ],
   "source": [
    "#Elon game\n",
    "elon"
   ]
  },
  {
   "cell_type": "code",
   "execution_count": 54,
   "metadata": {},
   "outputs": [
    {
     "data": {
      "text/plain": [
       "10"
      ]
     },
     "execution_count": 54,
     "metadata": {},
     "output_type": "execute_result"
    },
    {
     "data": {
      "text/plain": [
       "['Nov 4 2023',\n",
       " '(Sat)',\n",
       " '1 PM',\n",
       " 'Home',\n",
       " 'Elon',\n",
       " 'Newark',\n",
       " 'Del.',\n",
       " 'L',\n",
       " '27',\n",
       " '33']"
      ]
     },
     "execution_count": 54,
     "metadata": {},
     "output_type": "execute_result"
    }
   ],
   "source": [
    "#clean up Elon list\n",
    "del elon[-4:-2]\n",
    "elon[:2] = [' '.join(elon[:2]) + ' 2023'] \n",
    "elon[2:4] = [' '.join(elon[2:4])]\n",
    "elon[8:] = elon[-1].split('-')\n",
    "len(elon)\n",
    "elon"
   ]
  },
  {
   "cell_type": "code",
   "execution_count": 55,
   "metadata": {},
   "outputs": [
    {
     "data": {
      "text/plain": [
       "['Nov',\n",
       " '11',\n",
       " '(Sat)',\n",
       " '1',\n",
       " 'PM',\n",
       " 'Away',\n",
       " 'Campbell',\n",
       " 'Buies',\n",
       " 'Creek',\n",
       " 'N.C.',\n",
       " 'W',\n",
       " '45-7']"
      ]
     },
     "execution_count": 55,
     "metadata": {},
     "output_type": "execute_result"
    }
   ],
   "source": [
    "#Campbell game\n",
    "campbell"
   ]
  },
  {
   "cell_type": "code",
   "execution_count": 56,
   "metadata": {},
   "outputs": [
    {
     "data": {
      "text/plain": [
       "10"
      ]
     },
     "execution_count": 56,
     "metadata": {},
     "output_type": "execute_result"
    },
    {
     "data": {
      "text/plain": [
       "['Nov 11 2023',\n",
       " '(Sat)',\n",
       " '1 PM',\n",
       " 'Away',\n",
       " 'Campbell',\n",
       " 'Buies Creek',\n",
       " 'N.C.',\n",
       " 'W',\n",
       " '45',\n",
       " '7']"
      ]
     },
     "execution_count": 56,
     "metadata": {},
     "output_type": "execute_result"
    }
   ],
   "source": [
    "#clean up Campbell list\n",
    "campbell[:2] = [' '.join(campbell[:2]) + ' 2023']  \n",
    "campbell[2:4] = [' '.join(campbell[2:4])] \n",
    "campbell[5:7] = [' '.join(campbell[5:7])]\n",
    "campbell[8:] = campbell[-1].split('-')\n",
    "len(campbell)\n",
    "campbell"
   ]
  },
  {
   "cell_type": "code",
   "execution_count": 57,
   "metadata": {},
   "outputs": [
    {
     "data": {
      "text/plain": [
       "['Nov',\n",
       " '18',\n",
       " '(Sat)',\n",
       " '1',\n",
       " 'PM',\n",
       " 'Home',\n",
       " 'Villanova',\n",
       " 'Newark',\n",
       " 'Del.',\n",
       " '(Delaware',\n",
       " 'Stadium)',\n",
       " 'L',\n",
       " '7-35']"
      ]
     },
     "execution_count": 57,
     "metadata": {},
     "output_type": "execute_result"
    }
   ],
   "source": [
    "#Villanova game\n",
    "villanova"
   ]
  },
  {
   "cell_type": "code",
   "execution_count": 58,
   "metadata": {},
   "outputs": [
    {
     "data": {
      "text/plain": [
       "10"
      ]
     },
     "execution_count": 58,
     "metadata": {},
     "output_type": "execute_result"
    },
    {
     "data": {
      "text/plain": [
       "['Nov 18 2023',\n",
       " '(Sat)',\n",
       " '1 PM',\n",
       " 'Home',\n",
       " 'Villanova',\n",
       " 'Newark',\n",
       " 'Del.',\n",
       " 'L',\n",
       " '7',\n",
       " '35']"
      ]
     },
     "execution_count": 58,
     "metadata": {},
     "output_type": "execute_result"
    }
   ],
   "source": [
    "#clean up Villanova list\n",
    "del villanova[-4:-2]\n",
    "villanova[:2] = [' '.join(villanova[:2]) + ' 2023'] \n",
    "villanova[2:4] = [' '.join(villanova[2:4])]\n",
    "villanova[8:] = villanova[-1].split('-')\n",
    "len(villanova)\n",
    "villanova"
   ]
  },
  {
   "cell_type": "code",
   "execution_count": 59,
   "metadata": {},
   "outputs": [
    {
     "data": {
      "text/plain": [
       "['Nov', '25', '(Sat)', '2', 'p.m.', 'Home', 'Lafayette', 'TBD', 'W', '36-34']"
      ]
     },
     "execution_count": 59,
     "metadata": {},
     "output_type": "execute_result"
    }
   ],
   "source": [
    "#Lafayette game\n",
    "lafayette"
   ]
  },
  {
   "cell_type": "code",
   "execution_count": 60,
   "metadata": {},
   "outputs": [
    {
     "data": {
      "text/plain": [
       "10"
      ]
     },
     "execution_count": 60,
     "metadata": {},
     "output_type": "execute_result"
    },
    {
     "data": {
      "text/plain": [
       "['Nov 25 2023',\n",
       " '(Sat)',\n",
       " '2 p.m.',\n",
       " 'Home',\n",
       " 'Lafayette',\n",
       " 'Newark',\n",
       " 'Del.',\n",
       " 'W',\n",
       " '36',\n",
       " '34']"
      ]
     },
     "execution_count": 60,
     "metadata": {},
     "output_type": "execute_result"
    }
   ],
   "source": [
    "#clean up Lafayette list\n",
    "lafayette[:2] = [' '.join(lafayette[:2]) + ' 2023']\n",
    "lafayette[2:4] = [' '.join(lafayette[2:4])]\n",
    "lafayette[5] = 'Newark'\n",
    "lafayette.insert(6, 'Del.')\n",
    "lafayette[8:] = lafayette[-1].split('-')\n",
    "len(lafayette)\n",
    "lafayette"
   ]
  },
  {
   "cell_type": "code",
   "execution_count": 61,
   "metadata": {},
   "outputs": [
    {
     "data": {
      "text/plain": [
       "['Dec',\n",
       " '2',\n",
       " '(Sat)',\n",
       " '9',\n",
       " 'p.m.',\n",
       " 'Away',\n",
       " '#2',\n",
       " 'Montana',\n",
       " 'Missoula',\n",
       " 'Mont.',\n",
       " 'L',\n",
       " '19-49']"
      ]
     },
     "execution_count": 61,
     "metadata": {},
     "output_type": "execute_result"
    }
   ],
   "source": [
    "#Montana game\n",
    "montana"
   ]
  },
  {
   "cell_type": "code",
   "execution_count": 62,
   "metadata": {},
   "outputs": [
    {
     "data": {
      "text/plain": [
       "10"
      ]
     },
     "execution_count": 62,
     "metadata": {},
     "output_type": "execute_result"
    },
    {
     "data": {
      "text/plain": [
       "['Dec 2 2023',\n",
       " '(Sat)',\n",
       " '9 p.m.',\n",
       " 'Away',\n",
       " 'Montana',\n",
       " 'Missoula',\n",
       " 'Mont.',\n",
       " 'L',\n",
       " '19',\n",
       " '49']"
      ]
     },
     "execution_count": 62,
     "metadata": {},
     "output_type": "execute_result"
    }
   ],
   "source": [
    "#clean up Montana list\n",
    "montana[:2] = [' '.join(montana[:2]) + ' 2023']\n",
    "montana[2:4] = [' '.join(montana[2:4])]\n",
    "del montana[4]\n",
    "montana[8:] = montana[8].split('-')\n",
    "len(montana)\n",
    "montana"
   ]
  },
  {
   "cell_type": "code",
   "execution_count": 63,
   "metadata": {},
   "outputs": [
    {
     "data": {
      "text/plain": [
       "10"
      ]
     },
     "execution_count": 63,
     "metadata": {},
     "output_type": "execute_result"
    },
    {
     "data": {
      "text/plain": [
       "10"
      ]
     },
     "execution_count": 63,
     "metadata": {},
     "output_type": "execute_result"
    },
    {
     "data": {
      "text/plain": [
       "10"
      ]
     },
     "execution_count": 63,
     "metadata": {},
     "output_type": "execute_result"
    },
    {
     "data": {
      "text/plain": [
       "10"
      ]
     },
     "execution_count": 63,
     "metadata": {},
     "output_type": "execute_result"
    },
    {
     "data": {
      "text/plain": [
       "10"
      ]
     },
     "execution_count": 63,
     "metadata": {},
     "output_type": "execute_result"
    },
    {
     "data": {
      "text/plain": [
       "10"
      ]
     },
     "execution_count": 63,
     "metadata": {},
     "output_type": "execute_result"
    },
    {
     "data": {
      "text/plain": [
       "10"
      ]
     },
     "execution_count": 63,
     "metadata": {},
     "output_type": "execute_result"
    },
    {
     "data": {
      "text/plain": [
       "10"
      ]
     },
     "execution_count": 63,
     "metadata": {},
     "output_type": "execute_result"
    },
    {
     "data": {
      "text/plain": [
       "10"
      ]
     },
     "execution_count": 63,
     "metadata": {},
     "output_type": "execute_result"
    },
    {
     "data": {
      "text/plain": [
       "10"
      ]
     },
     "execution_count": 63,
     "metadata": {},
     "output_type": "execute_result"
    },
    {
     "data": {
      "text/plain": [
       "10"
      ]
     },
     "execution_count": 63,
     "metadata": {},
     "output_type": "execute_result"
    },
    {
     "data": {
      "text/plain": [
       "10"
      ]
     },
     "execution_count": 63,
     "metadata": {},
     "output_type": "execute_result"
    },
    {
     "data": {
      "text/plain": [
       "10"
      ]
     },
     "execution_count": 63,
     "metadata": {},
     "output_type": "execute_result"
    }
   ],
   "source": [
    "#get lengths of cleaned lists to make sure they are all equal length\n",
    "len(stonybrook)\n",
    "len(pennstate)\n",
    "len(saintfrancis)\n",
    "len(newhampshire)\n",
    "len(duquesne)\n",
    "len(ncat)\n",
    "len(hampton)\n",
    "len(towson)\n",
    "len(elon)\n",
    "len(campbell)\n",
    "len(villanova)\n",
    "len(lafayette)\n",
    "len(montana)"
   ]
  },
  {
   "cell_type": "code",
   "execution_count": 64,
   "metadata": {},
   "outputs": [
    {
     "data": {
      "text/plain": [
       "130"
      ]
     },
     "execution_count": 64,
     "metadata": {},
     "output_type": "execute_result"
    },
    {
     "data": {
      "text/plain": [
       "['Aug 31 2023',\n",
       " '(Thu)',\n",
       " '7 PM',\n",
       " 'Away',\n",
       " 'Stony Brook',\n",
       " 'Stony Brook',\n",
       " 'N.Y.',\n",
       " 'W',\n",
       " '37',\n",
       " '13']"
      ]
     },
     "execution_count": 64,
     "metadata": {},
     "output_type": "execute_result"
    }
   ],
   "source": [
    "#create single list of all cleaned lists\n",
    "fulldata = stonybrook + pennstate + saintfrancis + newhampshire + duquesne + ncat + hampton + towson + elon + campbell + villanova + lafayette + montana\n",
    "len(fulldata)\n",
    "fulldata[:10]"
   ]
  },
  {
   "cell_type": "code",
   "execution_count": 65,
   "metadata": {},
   "outputs": [
    {
     "data": {
      "text/plain": [
       "[['Aug 31 2023',\n",
       "  '(Thu)',\n",
       "  '7 PM',\n",
       "  'Away',\n",
       "  'Stony Brook',\n",
       "  'Stony Brook',\n",
       "  'N.Y.',\n",
       "  'W',\n",
       "  '37',\n",
       "  '13'],\n",
       " ['Sept 9 2023',\n",
       "  '(Sat)',\n",
       "  '12 p.m.',\n",
       "  'Away',\n",
       "  'Penn State',\n",
       "  'University Park',\n",
       "  'Pa.',\n",
       "  'L',\n",
       "  '7',\n",
       "  '63']]"
      ]
     },
     "execution_count": 65,
     "metadata": {},
     "output_type": "execute_result"
    }
   ],
   "source": [
    "#create list of lists with each game list being an element in the list\n",
    "list_of_lists = [fulldata[i:i+10] for i in range (0,len(fulldata),10)]\n",
    "list_of_lists[:2]"
   ]
  },
  {
   "cell_type": "code",
   "execution_count": 66,
   "metadata": {},
   "outputs": [
    {
     "data": {
      "text/html": [
       "<div>\n",
       "<style scoped>\n",
       "    .dataframe tbody tr th:only-of-type {\n",
       "        vertical-align: middle;\n",
       "    }\n",
       "\n",
       "    .dataframe tbody tr th {\n",
       "        vertical-align: top;\n",
       "    }\n",
       "\n",
       "    .dataframe thead th {\n",
       "        text-align: right;\n",
       "    }\n",
       "</style>\n",
       "<table border=\"1\" class=\"dataframe\">\n",
       "  <thead>\n",
       "    <tr style=\"text-align: right;\">\n",
       "      <th></th>\n",
       "      <th>date</th>\n",
       "      <th>day of week</th>\n",
       "      <th>kickoff</th>\n",
       "      <th>homeaway</th>\n",
       "      <th>opponent</th>\n",
       "      <th>city</th>\n",
       "      <th>state</th>\n",
       "      <th>winloss</th>\n",
       "      <th>UDscore</th>\n",
       "      <th>oppscore</th>\n",
       "    </tr>\n",
       "  </thead>\n",
       "  <tbody>\n",
       "    <tr>\n",
       "      <th>0</th>\n",
       "      <td>Aug 31 2023</td>\n",
       "      <td>(Thu)</td>\n",
       "      <td>7 PM</td>\n",
       "      <td>Away</td>\n",
       "      <td>Stony Brook</td>\n",
       "      <td>Stony Brook</td>\n",
       "      <td>N.Y.</td>\n",
       "      <td>W</td>\n",
       "      <td>37</td>\n",
       "      <td>13</td>\n",
       "    </tr>\n",
       "    <tr>\n",
       "      <th>1</th>\n",
       "      <td>Sept 9 2023</td>\n",
       "      <td>(Sat)</td>\n",
       "      <td>12 p.m.</td>\n",
       "      <td>Away</td>\n",
       "      <td>Penn State</td>\n",
       "      <td>University Park</td>\n",
       "      <td>Pa.</td>\n",
       "      <td>L</td>\n",
       "      <td>7</td>\n",
       "      <td>63</td>\n",
       "    </tr>\n",
       "    <tr>\n",
       "      <th>2</th>\n",
       "      <td>Sep 16 2023</td>\n",
       "      <td>(Sat)</td>\n",
       "      <td>6 PM</td>\n",
       "      <td>Home</td>\n",
       "      <td>Saint Francis (Pa.)</td>\n",
       "      <td>Newark</td>\n",
       "      <td>Del.</td>\n",
       "      <td>W</td>\n",
       "      <td>42</td>\n",
       "      <td>14</td>\n",
       "    </tr>\n",
       "    <tr>\n",
       "      <th>3</th>\n",
       "      <td>Sep 23 2023</td>\n",
       "      <td>(Sat)</td>\n",
       "      <td>6 PM</td>\n",
       "      <td>Home</td>\n",
       "      <td>New Hampshire</td>\n",
       "      <td>Newark</td>\n",
       "      <td>Del.</td>\n",
       "      <td>W</td>\n",
       "      <td>29</td>\n",
       "      <td>50</td>\n",
       "    </tr>\n",
       "    <tr>\n",
       "      <th>4</th>\n",
       "      <td>Oct 7 2023</td>\n",
       "      <td>(Sat)</td>\n",
       "      <td>3 PM</td>\n",
       "      <td>Home</td>\n",
       "      <td>Duquesne</td>\n",
       "      <td>Newark</td>\n",
       "      <td>Del.</td>\n",
       "      <td>W</td>\n",
       "      <td>43</td>\n",
       "      <td>17</td>\n",
       "    </tr>\n",
       "  </tbody>\n",
       "</table>\n",
       "</div>"
      ],
      "text/plain": [
       "          date day of week  kickoff homeaway             opponent  \\\n",
       "0  Aug 31 2023       (Thu)     7 PM     Away          Stony Brook   \n",
       "1  Sept 9 2023       (Sat)  12 p.m.     Away           Penn State   \n",
       "2  Sep 16 2023       (Sat)     6 PM     Home  Saint Francis (Pa.)   \n",
       "3  Sep 23 2023       (Sat)     6 PM     Home        New Hampshire   \n",
       "4   Oct 7 2023       (Sat)     3 PM     Home             Duquesne   \n",
       "\n",
       "              city state winloss UDscore oppscore  \n",
       "0      Stony Brook  N.Y.       W      37       13  \n",
       "1  University Park   Pa.       L       7       63  \n",
       "2           Newark  Del.       W      42       14  \n",
       "3           Newark  Del.       W      29       50  \n",
       "4           Newark  Del.       W      43       17  "
      ]
     },
     "execution_count": 66,
     "metadata": {},
     "output_type": "execute_result"
    }
   ],
   "source": [
    "#create data frame\n",
    "#use lists of lists as data and create column names\n",
    "df = pd.DataFrame(list_of_lists, columns=['date', 'day of week', 'kickoff', 'homeaway', \n",
    "                                          'opponent', 'city', 'state', 'winloss', 'UDscore', 'oppscore'])\n",
    "df.head()"
   ]
  },
  {
   "cell_type": "code",
   "execution_count": 67,
   "metadata": {},
   "outputs": [
    {
     "name": "stdout",
     "output_type": "stream",
     "text": [
      "<class 'pandas.core.frame.DataFrame'>\n",
      "RangeIndex: 13 entries, 0 to 12\n",
      "Data columns (total 10 columns):\n",
      " #   Column       Non-Null Count  Dtype \n",
      "---  ------       --------------  ----- \n",
      " 0   date         13 non-null     object\n",
      " 1   day of week  13 non-null     object\n",
      " 2   kickoff      13 non-null     object\n",
      " 3   homeaway     13 non-null     object\n",
      " 4   opponent     13 non-null     object\n",
      " 5   city         13 non-null     object\n",
      " 6   state        13 non-null     object\n",
      " 7   winloss      13 non-null     object\n",
      " 8   UDscore      13 non-null     object\n",
      " 9   oppscore     13 non-null     object\n",
      "dtypes: object(10)\n",
      "memory usage: 1.1+ KB\n"
     ]
    }
   ],
   "source": [
    "#get data types for each column\n",
    "df.info()"
   ]
  },
  {
   "cell_type": "code",
   "execution_count": 68,
   "metadata": {},
   "outputs": [
    {
     "name": "stdout",
     "output_type": "stream",
     "text": [
      "<class 'pandas.core.frame.DataFrame'>\n",
      "RangeIndex: 13 entries, 0 to 12\n",
      "Data columns (total 10 columns):\n",
      " #   Column       Non-Null Count  Dtype \n",
      "---  ------       --------------  ----- \n",
      " 0   date         13 non-null     object\n",
      " 1   day of week  13 non-null     object\n",
      " 2   kickoff      13 non-null     object\n",
      " 3   homeaway     13 non-null     object\n",
      " 4   opponent     13 non-null     object\n",
      " 5   city         13 non-null     object\n",
      " 6   state        13 non-null     object\n",
      " 7   winloss      13 non-null     object\n",
      " 8   UDscore      13 non-null     int64 \n",
      " 9   oppscore     13 non-null     int64 \n",
      "dtypes: int64(2), object(8)\n",
      "memory usage: 1.1+ KB\n"
     ]
    }
   ],
   "source": [
    "#make UDscore and oppscore columns numeric\n",
    "df['UDscore']=pd.to_numeric(df['UDscore'])\n",
    "df['oppscore']=pd.to_numeric(df['oppscore'])\n",
    "df.info()"
   ]
  }
 ],
 "metadata": {
  "kernelspec": {
   "display_name": "Python 3",
   "language": "python",
   "name": "python3"
  },
  "language_info": {
   "codemirror_mode": {
    "name": "ipython",
    "version": 3
   },
   "file_extension": ".py",
   "mimetype": "text/x-python",
   "name": "python",
   "nbconvert_exporter": "python",
   "pygments_lexer": "ipython3",
   "version": "3.12.2"
  }
 },
 "nbformat": 4,
 "nbformat_minor": 2
}
