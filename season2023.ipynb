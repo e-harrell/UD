{
 "cells": [
  {
   "cell_type": "code",
   "execution_count": 1308,
   "metadata": {},
   "outputs": [],
   "source": [
    "#Import libraries\n",
    "import requests \n",
    "from lxml import html\n",
    "from IPython.core.interactiveshell import InteractiveShell\n",
    "import pandas as pd\n",
    "import numpy as np\n",
    "#Set Jupyter Notebook to show all output from each cell\n",
    "InteractiveShell.ast_node_interactivity = \"all\"\n",
    "#Scrape UD webpage to get information from 2023 season\n",
    "URL = \"https://admin.bluehens.com/services/schedule_txt.ashx?schedule=4416\" \n",
    "headers={'User-Agent': 'Mozilla/5.0 (Windows NT 10.0; Win64; x64) AppleWebKit/537.36 (KHTML, like Gecko) Chrome/42.0.2311.135 Safari/537.36 Edge/12.246'}\n",
    "r = requests.get(url=URL, headers=headers) \n",
    "#put content into html object\n",
    "mytree = html.fromstring(r.content)\n",
    "#save text from html object to python list\n",
    "season2023 = mytree.xpath('node()')"
   ]
  },
  {
   "cell_type": "code",
   "execution_count": 1309,
   "metadata": {},
   "outputs": [
    {
     "data": {
      "text/plain": [
       "['Aug',\n",
       " '31',\n",
       " '(Thu)',\n",
       " '7',\n",
       " 'PM',\n",
       " 'Away',\n",
       " 'Stony',\n",
       " 'Brook',\n",
       " 'Stony',\n",
       " 'Brook',\n",
       " 'N.Y.',\n",
       " 'W',\n",
       " '37-13Sep',\n",
       " '9',\n",
       " '(Sat)',\n",
       " '12',\n",
       " 'p.m.',\n",
       " 'Away',\n",
       " 'Penn',\n",
       " 'State',\n",
       " 'University',\n",
       " 'Park',\n",
       " 'Pa.',\n",
       " 'L',\n",
       " '7-63',\n",
       " 'Sep',\n",
       " '16',\n",
       " '(Sat)',\n",
       " '6',\n",
       " 'PM',\n",
       " 'Home',\n",
       " 'Saint',\n",
       " 'Francis',\n",
       " '(Pa.)',\n",
       " 'Newark',\n",
       " 'Del.',\n",
       " '(Delaware',\n",
       " 'Stadium)',\n",
       " 'W',\n",
       " '42-14Sep',\n",
       " '23',\n",
       " '(Sat)',\n",
       " '6',\n",
       " 'PM',\n",
       " 'Home',\n",
       " 'New',\n",
       " 'Hampshire',\n",
       " 'Newark',\n",
       " 'Del.',\n",
       " '(Delaware',\n",
       " 'Stadium)',\n",
       " 'W',\n",
       " '29-25Oct',\n",
       " '7',\n",
       " '(Sat)',\n",
       " '3',\n",
       " 'PM',\n",
       " 'Home',\n",
       " 'Duquesne',\n",
       " 'Newark',\n",
       " 'Del.',\n",
       " '(Delaware',\n",
       " 'Stadium)',\n",
       " 'W',\n",
       " '43-17Oct',\n",
       " '14',\n",
       " '(Sat)',\n",
       " '3',\n",
       " 'PM',\n",
       " 'Home',\n",
       " 'North',\n",
       " 'Carolina',\n",
       " 'A&T',\n",
       " 'Newark',\n",
       " 'Del.',\n",
       " '(Delaware',\n",
       " 'Stadium)',\n",
       " 'W',\n",
       " '21-6',\n",
       " 'Oct',\n",
       " '21',\n",
       " '(Sat)',\n",
       " '2',\n",
       " 'PM',\n",
       " 'Away',\n",
       " 'Hampton',\n",
       " 'Hampton',\n",
       " 'Va.',\n",
       " 'W',\n",
       " '47-3',\n",
       " 'Oct',\n",
       " '28',\n",
       " '(Sat)',\n",
       " '1',\n",
       " 'PM',\n",
       " 'Away',\n",
       " 'Towson',\n",
       " 'Towson',\n",
       " 'Md.',\n",
       " 'W',\n",
       " '51-13Nov',\n",
       " '4',\n",
       " '(Sat)',\n",
       " '1',\n",
       " 'PM',\n",
       " 'Home',\n",
       " 'Elon',\n",
       " 'Newark',\n",
       " 'Del.',\n",
       " '(Delaware',\n",
       " 'Stadium)',\n",
       " 'L',\n",
       " '27-33Nov',\n",
       " '11',\n",
       " '(Sat)',\n",
       " '1',\n",
       " 'PM',\n",
       " 'Away',\n",
       " 'Campbell',\n",
       " 'Buies',\n",
       " 'Creek',\n",
       " 'N.C.',\n",
       " 'W',\n",
       " '45-7',\n",
       " 'Nov',\n",
       " '18',\n",
       " '(Sat)',\n",
       " '1',\n",
       " 'PM',\n",
       " 'Home',\n",
       " 'Villanova',\n",
       " 'Newark',\n",
       " 'Del.',\n",
       " '(Delaware',\n",
       " 'Stadium)',\n",
       " 'L',\n",
       " '7-35',\n",
       " 'Nov',\n",
       " '25',\n",
       " '(Sat)',\n",
       " '2',\n",
       " 'p.m.',\n",
       " 'Home',\n",
       " 'Lafayette',\n",
       " 'TBD',\n",
       " 'W',\n",
       " '36-34Dec',\n",
       " '2',\n",
       " '(Sat)',\n",
       " '9',\n",
       " 'p.m.',\n",
       " 'Away',\n",
       " '#2',\n",
       " 'Montana',\n",
       " 'Missoula',\n",
       " 'Mont.',\n",
       " 'L',\n",
       " '19-49']"
      ]
     },
     "execution_count": 1309,
     "metadata": {},
     "output_type": "execute_result"
    }
   ],
   "source": [
    "#cleaning up Python list with data from all games\n",
    "season2023 = season2023[0].split(\" \")\n",
    "season2023=season2023[102:]\n",
    "season2023=[x.replace(\"\\n\\r\", \"\") for x in season2023]\n",
    "season2023=[y.replace(\",\",\"\") for y in season2023]\n",
    "season2023=[z.strip() for z in season2023]\n",
    "season2023 = list(filter(None, season2023))\n",
    "season2023"
   ]
  },
  {
   "cell_type": "code",
   "execution_count": 1310,
   "metadata": {},
   "outputs": [
    {
     "data": {
      "text/plain": [
       "12"
      ]
     },
     "execution_count": 1310,
     "metadata": {},
     "output_type": "execute_result"
    },
    {
     "data": {
      "text/plain": [
       "['37-13', 'Sept', '9']"
      ]
     },
     "execution_count": 1310,
     "metadata": {},
     "output_type": "execute_result"
    }
   ],
   "source": [
    "#separating score and month of next game\n",
    "season2023.index('37-13Sep')\n",
    "season2023[12] = '37-13'\n",
    "season2023.insert(13, 'Sept')\n",
    "season2023[12:15]"
   ]
  },
  {
   "cell_type": "code",
   "execution_count": 1311,
   "metadata": {},
   "outputs": [
    {
     "data": {
      "text/plain": [
       "40"
      ]
     },
     "execution_count": 1311,
     "metadata": {},
     "output_type": "execute_result"
    },
    {
     "data": {
      "text/plain": [
       "['42-14', 'Sep', '23']"
      ]
     },
     "execution_count": 1311,
     "metadata": {},
     "output_type": "execute_result"
    }
   ],
   "source": [
    "#separating score and month of next game\n",
    "season2023.index('42-14Sep')\n",
    "season2023[40] = '42-14'\n",
    "season2023.insert(41, 'Sep')\n",
    "season2023[40:43]"
   ]
  },
  {
   "cell_type": "code",
   "execution_count": 1312,
   "metadata": {},
   "outputs": [
    {
     "data": {
      "text/plain": [
       "54"
      ]
     },
     "execution_count": 1312,
     "metadata": {},
     "output_type": "execute_result"
    },
    {
     "data": {
      "text/plain": [
       "['29-25', 'Oct', '7']"
      ]
     },
     "execution_count": 1312,
     "metadata": {},
     "output_type": "execute_result"
    }
   ],
   "source": [
    "#separating score and month of next game\n",
    "season2023.index('29-25Oct')\n",
    "season2023[54] = '29-25'\n",
    "season2023.insert(55, 'Oct')\n",
    "season2023[54:57]"
   ]
  },
  {
   "cell_type": "code",
   "execution_count": 1313,
   "metadata": {},
   "outputs": [
    {
     "data": {
      "text/plain": [
       "67"
      ]
     },
     "execution_count": 1313,
     "metadata": {},
     "output_type": "execute_result"
    },
    {
     "data": {
      "text/plain": [
       "['43-17', 'Oct', '14']"
      ]
     },
     "execution_count": 1313,
     "metadata": {},
     "output_type": "execute_result"
    }
   ],
   "source": [
    "#separating score and month of next game\n",
    "season2023.index('43-17Oct')\n",
    "season2023[67] = '43-17'\n",
    "season2023.insert(68, 'Oct')\n",
    "season2023[67:70]"
   ]
  },
  {
   "cell_type": "code",
   "execution_count": 1314,
   "metadata": {},
   "outputs": [
    {
     "data": {
      "text/plain": [
       "104"
      ]
     },
     "execution_count": 1314,
     "metadata": {},
     "output_type": "execute_result"
    },
    {
     "data": {
      "text/plain": [
       "['51-13', 'Nov', '4']"
      ]
     },
     "execution_count": 1314,
     "metadata": {},
     "output_type": "execute_result"
    }
   ],
   "source": [
    "#separating score and month of next game\n",
    "season2023.index('51-13Nov')\n",
    "season2023[104] = '51-13'\n",
    "season2023.insert(105, 'Nov')\n",
    "season2023[104:107]"
   ]
  },
  {
   "cell_type": "code",
   "execution_count": 1315,
   "metadata": {},
   "outputs": [
    {
     "data": {
      "text/plain": [
       "117"
      ]
     },
     "execution_count": 1315,
     "metadata": {},
     "output_type": "execute_result"
    },
    {
     "data": {
      "text/plain": [
       "['27-33', 'Nov', '11']"
      ]
     },
     "execution_count": 1315,
     "metadata": {},
     "output_type": "execute_result"
    }
   ],
   "source": [
    "#separating score and month of next game\n",
    "season2023.index('27-33Nov')\n",
    "season2023[117] = '27-33'\n",
    "season2023.insert(118, 'Nov')\n",
    "season2023[117:120]"
   ]
  },
  {
   "cell_type": "code",
   "execution_count": 1316,
   "metadata": {},
   "outputs": [
    {
     "data": {
      "text/plain": [
       "152"
      ]
     },
     "execution_count": 1316,
     "metadata": {},
     "output_type": "execute_result"
    },
    {
     "data": {
      "text/plain": [
       "['36-34', 'Dec', '2']"
      ]
     },
     "execution_count": 1316,
     "metadata": {},
     "output_type": "execute_result"
    }
   ],
   "source": [
    "#separating score and month of next game\n",
    "season2023.index('36-34Dec')\n",
    "season2023[152] = '36-34'\n",
    "season2023.insert(153, 'Dec')\n",
    "season2023[152:155]"
   ]
  },
  {
   "cell_type": "code",
   "execution_count": 1317,
   "metadata": {},
   "outputs": [
    {
     "data": {
      "text/plain": [
       "165"
      ]
     },
     "execution_count": 1317,
     "metadata": {},
     "output_type": "execute_result"
    },
    {
     "data": {
      "text/plain": [
       "['Aug',\n",
       " '31',\n",
       " '(Thu)',\n",
       " '7',\n",
       " 'PM',\n",
       " 'Away',\n",
       " 'Stony',\n",
       " 'Brook',\n",
       " 'Stony',\n",
       " 'Brook',\n",
       " 'N.Y.',\n",
       " 'W',\n",
       " '37-13',\n",
       " 'Sept',\n",
       " '9',\n",
       " '(Sat)',\n",
       " '12',\n",
       " 'p.m.',\n",
       " 'Away',\n",
       " 'Penn',\n",
       " 'State',\n",
       " 'University',\n",
       " 'Park',\n",
       " 'Pa.',\n",
       " 'L',\n",
       " '7-63',\n",
       " 'Sep',\n",
       " '16',\n",
       " '(Sat)',\n",
       " '6',\n",
       " 'PM',\n",
       " 'Home',\n",
       " 'Saint',\n",
       " 'Francis',\n",
       " '(Pa.)',\n",
       " 'Newark',\n",
       " 'Del.',\n",
       " '(Delaware',\n",
       " 'Stadium)',\n",
       " 'W',\n",
       " '42-14',\n",
       " 'Sep',\n",
       " '23',\n",
       " '(Sat)',\n",
       " '6',\n",
       " 'PM',\n",
       " 'Home',\n",
       " 'New',\n",
       " 'Hampshire',\n",
       " 'Newark',\n",
       " 'Del.',\n",
       " '(Delaware',\n",
       " 'Stadium)',\n",
       " 'W',\n",
       " '29-25',\n",
       " 'Oct',\n",
       " '7',\n",
       " '(Sat)',\n",
       " '3',\n",
       " 'PM',\n",
       " 'Home',\n",
       " 'Duquesne',\n",
       " 'Newark',\n",
       " 'Del.',\n",
       " '(Delaware',\n",
       " 'Stadium)',\n",
       " 'W',\n",
       " '43-17',\n",
       " 'Oct',\n",
       " '14',\n",
       " '(Sat)',\n",
       " '3',\n",
       " 'PM',\n",
       " 'Home',\n",
       " 'North',\n",
       " 'Carolina',\n",
       " 'A&T',\n",
       " 'Newark',\n",
       " 'Del.',\n",
       " '(Delaware',\n",
       " 'Stadium)',\n",
       " 'W',\n",
       " '21-6',\n",
       " 'Oct',\n",
       " '21',\n",
       " '(Sat)',\n",
       " '2',\n",
       " 'PM',\n",
       " 'Away',\n",
       " 'Hampton',\n",
       " 'Hampton',\n",
       " 'Va.',\n",
       " 'W',\n",
       " '47-3',\n",
       " 'Oct',\n",
       " '28',\n",
       " '(Sat)',\n",
       " '1',\n",
       " 'PM',\n",
       " 'Away',\n",
       " 'Towson',\n",
       " 'Towson',\n",
       " 'Md.',\n",
       " 'W',\n",
       " '51-13',\n",
       " 'Nov',\n",
       " '4',\n",
       " '(Sat)',\n",
       " '1',\n",
       " 'PM',\n",
       " 'Home',\n",
       " 'Elon',\n",
       " 'Newark',\n",
       " 'Del.',\n",
       " '(Delaware',\n",
       " 'Stadium)',\n",
       " 'L',\n",
       " '27-33',\n",
       " 'Nov',\n",
       " '11',\n",
       " '(Sat)',\n",
       " '1',\n",
       " 'PM',\n",
       " 'Away',\n",
       " 'Campbell',\n",
       " 'Buies',\n",
       " 'Creek',\n",
       " 'N.C.',\n",
       " 'W',\n",
       " '45-7',\n",
       " 'Nov',\n",
       " '18',\n",
       " '(Sat)',\n",
       " '1',\n",
       " 'PM',\n",
       " 'Home',\n",
       " 'Villanova',\n",
       " 'Newark',\n",
       " 'Del.',\n",
       " '(Delaware',\n",
       " 'Stadium)',\n",
       " 'L',\n",
       " '7-35',\n",
       " 'Nov',\n",
       " '25',\n",
       " '(Sat)',\n",
       " '2',\n",
       " 'p.m.',\n",
       " 'Home',\n",
       " 'Lafayette',\n",
       " 'TBD',\n",
       " 'W',\n",
       " '36-34',\n",
       " 'Dec',\n",
       " '2',\n",
       " '(Sat)',\n",
       " '9',\n",
       " 'p.m.',\n",
       " 'Away',\n",
       " '#2',\n",
       " 'Montana',\n",
       " 'Missoula',\n",
       " 'Mont.',\n",
       " 'L',\n",
       " '19-49']"
      ]
     },
     "execution_count": 1317,
     "metadata": {},
     "output_type": "execute_result"
    }
   ],
   "source": [
    "#get length of list with data from all games\n",
    "len(season2023)\n",
    "season2023"
   ]
  },
  {
   "cell_type": "code",
   "execution_count": 1318,
   "metadata": {},
   "outputs": [
    {
     "data": {
      "text/plain": [
       "['Dec',\n",
       " '2',\n",
       " '(Sat)',\n",
       " '9',\n",
       " 'p.m.',\n",
       " 'Away',\n",
       " '#2',\n",
       " 'Montana',\n",
       " 'Missoula',\n",
       " 'Mont.',\n",
       " 'L',\n",
       " '19-49']"
      ]
     },
     "execution_count": 1318,
     "metadata": {},
     "output_type": "execute_result"
    }
   ],
   "source": [
    "#create list for Montana game\n",
    "montana = season2023[-12:]\n",
    "montana"
   ]
  },
  {
   "cell_type": "code",
   "execution_count": 1319,
   "metadata": {},
   "outputs": [
    {
     "data": {
      "text/plain": [
       "['Aug',\n",
       " '31',\n",
       " '(Thu)',\n",
       " '7',\n",
       " 'PM',\n",
       " 'Away',\n",
       " 'Stony',\n",
       " 'Brook',\n",
       " 'Stony',\n",
       " 'Brook',\n",
       " 'N.Y.',\n",
       " 'W',\n",
       " '37-13',\n",
       " 'Sept',\n",
       " '9',\n",
       " '(Sat)',\n",
       " '12',\n",
       " 'p.m.',\n",
       " 'Away',\n",
       " 'Penn',\n",
       " 'State',\n",
       " 'University',\n",
       " 'Park',\n",
       " 'Pa.',\n",
       " 'L',\n",
       " '7-63',\n",
       " 'Sep',\n",
       " '16',\n",
       " '(Sat)',\n",
       " '6',\n",
       " 'PM',\n",
       " 'Home',\n",
       " 'Saint',\n",
       " 'Francis',\n",
       " '(Pa.)',\n",
       " 'Newark',\n",
       " 'Del.',\n",
       " '(Delaware',\n",
       " 'Stadium)',\n",
       " 'W',\n",
       " '42-14',\n",
       " 'Sep',\n",
       " '23',\n",
       " '(Sat)',\n",
       " '6',\n",
       " 'PM',\n",
       " 'Home',\n",
       " 'New',\n",
       " 'Hampshire',\n",
       " 'Newark',\n",
       " 'Del.',\n",
       " '(Delaware',\n",
       " 'Stadium)',\n",
       " 'W',\n",
       " '29-25',\n",
       " 'Oct',\n",
       " '7',\n",
       " '(Sat)',\n",
       " '3',\n",
       " 'PM',\n",
       " 'Home',\n",
       " 'Duquesne',\n",
       " 'Newark',\n",
       " 'Del.',\n",
       " '(Delaware',\n",
       " 'Stadium)',\n",
       " 'W',\n",
       " '43-17',\n",
       " 'Oct',\n",
       " '14',\n",
       " '(Sat)',\n",
       " '3',\n",
       " 'PM',\n",
       " 'Home',\n",
       " 'North',\n",
       " 'Carolina',\n",
       " 'A&T',\n",
       " 'Newark',\n",
       " 'Del.',\n",
       " '(Delaware',\n",
       " 'Stadium)',\n",
       " 'W',\n",
       " '21-6',\n",
       " 'Oct',\n",
       " '21',\n",
       " '(Sat)',\n",
       " '2',\n",
       " 'PM',\n",
       " 'Away',\n",
       " 'Hampton',\n",
       " 'Hampton',\n",
       " 'Va.',\n",
       " 'W',\n",
       " '47-3',\n",
       " 'Oct',\n",
       " '28',\n",
       " '(Sat)',\n",
       " '1',\n",
       " 'PM',\n",
       " 'Away',\n",
       " 'Towson',\n",
       " 'Towson',\n",
       " 'Md.',\n",
       " 'W',\n",
       " '51-13',\n",
       " 'Nov',\n",
       " '4',\n",
       " '(Sat)',\n",
       " '1',\n",
       " 'PM',\n",
       " 'Home',\n",
       " 'Elon',\n",
       " 'Newark',\n",
       " 'Del.',\n",
       " '(Delaware',\n",
       " 'Stadium)',\n",
       " 'L',\n",
       " '27-33',\n",
       " 'Nov',\n",
       " '11',\n",
       " '(Sat)',\n",
       " '1',\n",
       " 'PM',\n",
       " 'Away',\n",
       " 'Campbell',\n",
       " 'Buies',\n",
       " 'Creek',\n",
       " 'N.C.',\n",
       " 'W',\n",
       " '45-7',\n",
       " 'Nov',\n",
       " '18',\n",
       " '(Sat)',\n",
       " '1',\n",
       " 'PM',\n",
       " 'Home',\n",
       " 'Villanova',\n",
       " 'Newark',\n",
       " 'Del.',\n",
       " '(Delaware',\n",
       " 'Stadium)',\n",
       " 'L',\n",
       " '7-35',\n",
       " 'Nov',\n",
       " '25',\n",
       " '(Sat)',\n",
       " '2',\n",
       " 'p.m.',\n",
       " 'Home',\n",
       " 'Lafayette',\n",
       " 'TBD',\n",
       " 'W',\n",
       " '36-34']"
      ]
     },
     "execution_count": 1319,
     "metadata": {},
     "output_type": "execute_result"
    }
   ],
   "source": [
    "#remove Montana game from full season list\n",
    "del season2023[-12:]\n",
    "season2023"
   ]
  },
  {
   "cell_type": "code",
   "execution_count": 1320,
   "metadata": {},
   "outputs": [
    {
     "data": {
      "text/plain": [
       "['Nov', '25', '(Sat)', '2', 'p.m.', 'Home', 'Lafayette', 'TBD', 'W', '36-34']"
      ]
     },
     "execution_count": 1320,
     "metadata": {},
     "output_type": "execute_result"
    }
   ],
   "source": [
    "#create list for Lafayette game\n",
    "lafayette = season2023[-10:]\n",
    "lafayette"
   ]
  },
  {
   "cell_type": "code",
   "execution_count": 1321,
   "metadata": {},
   "outputs": [
    {
     "data": {
      "text/plain": [
       "['Aug',\n",
       " '31',\n",
       " '(Thu)',\n",
       " '7',\n",
       " 'PM',\n",
       " 'Away',\n",
       " 'Stony',\n",
       " 'Brook',\n",
       " 'Stony',\n",
       " 'Brook',\n",
       " 'N.Y.',\n",
       " 'W',\n",
       " '37-13',\n",
       " 'Sept',\n",
       " '9',\n",
       " '(Sat)',\n",
       " '12',\n",
       " 'p.m.',\n",
       " 'Away',\n",
       " 'Penn',\n",
       " 'State',\n",
       " 'University',\n",
       " 'Park',\n",
       " 'Pa.',\n",
       " 'L',\n",
       " '7-63',\n",
       " 'Sep',\n",
       " '16',\n",
       " '(Sat)',\n",
       " '6',\n",
       " 'PM',\n",
       " 'Home',\n",
       " 'Saint',\n",
       " 'Francis',\n",
       " '(Pa.)',\n",
       " 'Newark',\n",
       " 'Del.',\n",
       " '(Delaware',\n",
       " 'Stadium)',\n",
       " 'W',\n",
       " '42-14',\n",
       " 'Sep',\n",
       " '23',\n",
       " '(Sat)',\n",
       " '6',\n",
       " 'PM',\n",
       " 'Home',\n",
       " 'New',\n",
       " 'Hampshire',\n",
       " 'Newark',\n",
       " 'Del.',\n",
       " '(Delaware',\n",
       " 'Stadium)',\n",
       " 'W',\n",
       " '29-25',\n",
       " 'Oct',\n",
       " '7',\n",
       " '(Sat)',\n",
       " '3',\n",
       " 'PM',\n",
       " 'Home',\n",
       " 'Duquesne',\n",
       " 'Newark',\n",
       " 'Del.',\n",
       " '(Delaware',\n",
       " 'Stadium)',\n",
       " 'W',\n",
       " '43-17',\n",
       " 'Oct',\n",
       " '14',\n",
       " '(Sat)',\n",
       " '3',\n",
       " 'PM',\n",
       " 'Home',\n",
       " 'North',\n",
       " 'Carolina',\n",
       " 'A&T',\n",
       " 'Newark',\n",
       " 'Del.',\n",
       " '(Delaware',\n",
       " 'Stadium)',\n",
       " 'W',\n",
       " '21-6',\n",
       " 'Oct',\n",
       " '21',\n",
       " '(Sat)',\n",
       " '2',\n",
       " 'PM',\n",
       " 'Away',\n",
       " 'Hampton',\n",
       " 'Hampton',\n",
       " 'Va.',\n",
       " 'W',\n",
       " '47-3',\n",
       " 'Oct',\n",
       " '28',\n",
       " '(Sat)',\n",
       " '1',\n",
       " 'PM',\n",
       " 'Away',\n",
       " 'Towson',\n",
       " 'Towson',\n",
       " 'Md.',\n",
       " 'W',\n",
       " '51-13',\n",
       " 'Nov',\n",
       " '4',\n",
       " '(Sat)',\n",
       " '1',\n",
       " 'PM',\n",
       " 'Home',\n",
       " 'Elon',\n",
       " 'Newark',\n",
       " 'Del.',\n",
       " '(Delaware',\n",
       " 'Stadium)',\n",
       " 'L',\n",
       " '27-33',\n",
       " 'Nov',\n",
       " '11',\n",
       " '(Sat)',\n",
       " '1',\n",
       " 'PM',\n",
       " 'Away',\n",
       " 'Campbell',\n",
       " 'Buies',\n",
       " 'Creek',\n",
       " 'N.C.',\n",
       " 'W',\n",
       " '45-7',\n",
       " 'Nov',\n",
       " '18',\n",
       " '(Sat)',\n",
       " '1',\n",
       " 'PM',\n",
       " 'Home',\n",
       " 'Villanova',\n",
       " 'Newark',\n",
       " 'Del.',\n",
       " '(Delaware',\n",
       " 'Stadium)',\n",
       " 'L',\n",
       " '7-35']"
      ]
     },
     "execution_count": 1321,
     "metadata": {},
     "output_type": "execute_result"
    }
   ],
   "source": [
    "#remove Lafayette game from full season list\n",
    "del season2023[-10:]\n",
    "season2023"
   ]
  },
  {
   "cell_type": "code",
   "execution_count": 1322,
   "metadata": {},
   "outputs": [
    {
     "data": {
      "text/plain": [
       "['Nov',\n",
       " '18',\n",
       " '(Sat)',\n",
       " '1',\n",
       " 'PM',\n",
       " 'Home',\n",
       " 'Villanova',\n",
       " 'Newark',\n",
       " 'Del.',\n",
       " '(Delaware',\n",
       " 'Stadium)',\n",
       " 'L',\n",
       " '7-35']"
      ]
     },
     "execution_count": 1322,
     "metadata": {},
     "output_type": "execute_result"
    }
   ],
   "source": [
    "#create list for Villanova game\n",
    "villanova = season2023[-13:]\n",
    "villanova"
   ]
  },
  {
   "cell_type": "code",
   "execution_count": 1323,
   "metadata": {},
   "outputs": [
    {
     "data": {
      "text/plain": [
       "['Aug',\n",
       " '31',\n",
       " '(Thu)',\n",
       " '7',\n",
       " 'PM',\n",
       " 'Away',\n",
       " 'Stony',\n",
       " 'Brook',\n",
       " 'Stony',\n",
       " 'Brook',\n",
       " 'N.Y.',\n",
       " 'W',\n",
       " '37-13',\n",
       " 'Sept',\n",
       " '9',\n",
       " '(Sat)',\n",
       " '12',\n",
       " 'p.m.',\n",
       " 'Away',\n",
       " 'Penn',\n",
       " 'State',\n",
       " 'University',\n",
       " 'Park',\n",
       " 'Pa.',\n",
       " 'L',\n",
       " '7-63',\n",
       " 'Sep',\n",
       " '16',\n",
       " '(Sat)',\n",
       " '6',\n",
       " 'PM',\n",
       " 'Home',\n",
       " 'Saint',\n",
       " 'Francis',\n",
       " '(Pa.)',\n",
       " 'Newark',\n",
       " 'Del.',\n",
       " '(Delaware',\n",
       " 'Stadium)',\n",
       " 'W',\n",
       " '42-14',\n",
       " 'Sep',\n",
       " '23',\n",
       " '(Sat)',\n",
       " '6',\n",
       " 'PM',\n",
       " 'Home',\n",
       " 'New',\n",
       " 'Hampshire',\n",
       " 'Newark',\n",
       " 'Del.',\n",
       " '(Delaware',\n",
       " 'Stadium)',\n",
       " 'W',\n",
       " '29-25',\n",
       " 'Oct',\n",
       " '7',\n",
       " '(Sat)',\n",
       " '3',\n",
       " 'PM',\n",
       " 'Home',\n",
       " 'Duquesne',\n",
       " 'Newark',\n",
       " 'Del.',\n",
       " '(Delaware',\n",
       " 'Stadium)',\n",
       " 'W',\n",
       " '43-17',\n",
       " 'Oct',\n",
       " '14',\n",
       " '(Sat)',\n",
       " '3',\n",
       " 'PM',\n",
       " 'Home',\n",
       " 'North',\n",
       " 'Carolina',\n",
       " 'A&T',\n",
       " 'Newark',\n",
       " 'Del.',\n",
       " '(Delaware',\n",
       " 'Stadium)',\n",
       " 'W',\n",
       " '21-6',\n",
       " 'Oct',\n",
       " '21',\n",
       " '(Sat)',\n",
       " '2',\n",
       " 'PM',\n",
       " 'Away',\n",
       " 'Hampton',\n",
       " 'Hampton',\n",
       " 'Va.',\n",
       " 'W',\n",
       " '47-3',\n",
       " 'Oct',\n",
       " '28',\n",
       " '(Sat)',\n",
       " '1',\n",
       " 'PM',\n",
       " 'Away',\n",
       " 'Towson',\n",
       " 'Towson',\n",
       " 'Md.',\n",
       " 'W',\n",
       " '51-13',\n",
       " 'Nov',\n",
       " '4',\n",
       " '(Sat)',\n",
       " '1',\n",
       " 'PM',\n",
       " 'Home',\n",
       " 'Elon',\n",
       " 'Newark',\n",
       " 'Del.',\n",
       " '(Delaware',\n",
       " 'Stadium)',\n",
       " 'L',\n",
       " '27-33',\n",
       " 'Nov',\n",
       " '11',\n",
       " '(Sat)',\n",
       " '1',\n",
       " 'PM',\n",
       " 'Away',\n",
       " 'Campbell',\n",
       " 'Buies',\n",
       " 'Creek',\n",
       " 'N.C.',\n",
       " 'W',\n",
       " '45-7']"
      ]
     },
     "execution_count": 1323,
     "metadata": {},
     "output_type": "execute_result"
    }
   ],
   "source": [
    "#remove Villanova game from full season list\n",
    "del season2023[-13:]\n",
    "season2023"
   ]
  },
  {
   "cell_type": "code",
   "execution_count": 1324,
   "metadata": {},
   "outputs": [
    {
     "data": {
      "text/plain": [
       "['Nov',\n",
       " '11',\n",
       " '(Sat)',\n",
       " '1',\n",
       " 'PM',\n",
       " 'Away',\n",
       " 'Campbell',\n",
       " 'Buies',\n",
       " 'Creek',\n",
       " 'N.C.',\n",
       " 'W',\n",
       " '45-7']"
      ]
     },
     "execution_count": 1324,
     "metadata": {},
     "output_type": "execute_result"
    }
   ],
   "source": [
    "#create list for Campbell game\n",
    "campbell = season2023[-12:]\n",
    "campbell"
   ]
  },
  {
   "cell_type": "code",
   "execution_count": 1325,
   "metadata": {},
   "outputs": [
    {
     "data": {
      "text/plain": [
       "['Aug',\n",
       " '31',\n",
       " '(Thu)',\n",
       " '7',\n",
       " 'PM',\n",
       " 'Away',\n",
       " 'Stony',\n",
       " 'Brook',\n",
       " 'Stony',\n",
       " 'Brook',\n",
       " 'N.Y.',\n",
       " 'W',\n",
       " '37-13',\n",
       " 'Sept',\n",
       " '9',\n",
       " '(Sat)',\n",
       " '12',\n",
       " 'p.m.',\n",
       " 'Away',\n",
       " 'Penn',\n",
       " 'State',\n",
       " 'University',\n",
       " 'Park',\n",
       " 'Pa.',\n",
       " 'L',\n",
       " '7-63',\n",
       " 'Sep',\n",
       " '16',\n",
       " '(Sat)',\n",
       " '6',\n",
       " 'PM',\n",
       " 'Home',\n",
       " 'Saint',\n",
       " 'Francis',\n",
       " '(Pa.)',\n",
       " 'Newark',\n",
       " 'Del.',\n",
       " '(Delaware',\n",
       " 'Stadium)',\n",
       " 'W',\n",
       " '42-14',\n",
       " 'Sep',\n",
       " '23',\n",
       " '(Sat)',\n",
       " '6',\n",
       " 'PM',\n",
       " 'Home',\n",
       " 'New',\n",
       " 'Hampshire',\n",
       " 'Newark',\n",
       " 'Del.',\n",
       " '(Delaware',\n",
       " 'Stadium)',\n",
       " 'W',\n",
       " '29-25',\n",
       " 'Oct',\n",
       " '7',\n",
       " '(Sat)',\n",
       " '3',\n",
       " 'PM',\n",
       " 'Home',\n",
       " 'Duquesne',\n",
       " 'Newark',\n",
       " 'Del.',\n",
       " '(Delaware',\n",
       " 'Stadium)',\n",
       " 'W',\n",
       " '43-17',\n",
       " 'Oct',\n",
       " '14',\n",
       " '(Sat)',\n",
       " '3',\n",
       " 'PM',\n",
       " 'Home',\n",
       " 'North',\n",
       " 'Carolina',\n",
       " 'A&T',\n",
       " 'Newark',\n",
       " 'Del.',\n",
       " '(Delaware',\n",
       " 'Stadium)',\n",
       " 'W',\n",
       " '21-6',\n",
       " 'Oct',\n",
       " '21',\n",
       " '(Sat)',\n",
       " '2',\n",
       " 'PM',\n",
       " 'Away',\n",
       " 'Hampton',\n",
       " 'Hampton',\n",
       " 'Va.',\n",
       " 'W',\n",
       " '47-3',\n",
       " 'Oct',\n",
       " '28',\n",
       " '(Sat)',\n",
       " '1',\n",
       " 'PM',\n",
       " 'Away',\n",
       " 'Towson',\n",
       " 'Towson',\n",
       " 'Md.',\n",
       " 'W',\n",
       " '51-13',\n",
       " 'Nov',\n",
       " '4',\n",
       " '(Sat)',\n",
       " '1',\n",
       " 'PM',\n",
       " 'Home',\n",
       " 'Elon',\n",
       " 'Newark',\n",
       " 'Del.',\n",
       " '(Delaware',\n",
       " 'Stadium)',\n",
       " 'L',\n",
       " '27-33']"
      ]
     },
     "execution_count": 1325,
     "metadata": {},
     "output_type": "execute_result"
    }
   ],
   "source": [
    "#remove Campbell game from full season list\n",
    "del season2023[-12:]\n",
    "season2023"
   ]
  },
  {
   "cell_type": "code",
   "execution_count": 1326,
   "metadata": {},
   "outputs": [
    {
     "data": {
      "text/plain": [
       "['Nov',\n",
       " '4',\n",
       " '(Sat)',\n",
       " '1',\n",
       " 'PM',\n",
       " 'Home',\n",
       " 'Elon',\n",
       " 'Newark',\n",
       " 'Del.',\n",
       " '(Delaware',\n",
       " 'Stadium)',\n",
       " 'L',\n",
       " '27-33']"
      ]
     },
     "execution_count": 1326,
     "metadata": {},
     "output_type": "execute_result"
    }
   ],
   "source": [
    "#create list for Elon game\n",
    "elon = season2023[-13:]\n",
    "elon"
   ]
  },
  {
   "cell_type": "code",
   "execution_count": 1327,
   "metadata": {},
   "outputs": [
    {
     "data": {
      "text/plain": [
       "['Aug',\n",
       " '31',\n",
       " '(Thu)',\n",
       " '7',\n",
       " 'PM',\n",
       " 'Away',\n",
       " 'Stony',\n",
       " 'Brook',\n",
       " 'Stony',\n",
       " 'Brook',\n",
       " 'N.Y.',\n",
       " 'W',\n",
       " '37-13',\n",
       " 'Sept',\n",
       " '9',\n",
       " '(Sat)',\n",
       " '12',\n",
       " 'p.m.',\n",
       " 'Away',\n",
       " 'Penn',\n",
       " 'State',\n",
       " 'University',\n",
       " 'Park',\n",
       " 'Pa.',\n",
       " 'L',\n",
       " '7-63',\n",
       " 'Sep',\n",
       " '16',\n",
       " '(Sat)',\n",
       " '6',\n",
       " 'PM',\n",
       " 'Home',\n",
       " 'Saint',\n",
       " 'Francis',\n",
       " '(Pa.)',\n",
       " 'Newark',\n",
       " 'Del.',\n",
       " '(Delaware',\n",
       " 'Stadium)',\n",
       " 'W',\n",
       " '42-14',\n",
       " 'Sep',\n",
       " '23',\n",
       " '(Sat)',\n",
       " '6',\n",
       " 'PM',\n",
       " 'Home',\n",
       " 'New',\n",
       " 'Hampshire',\n",
       " 'Newark',\n",
       " 'Del.',\n",
       " '(Delaware',\n",
       " 'Stadium)',\n",
       " 'W',\n",
       " '29-25',\n",
       " 'Oct',\n",
       " '7',\n",
       " '(Sat)',\n",
       " '3',\n",
       " 'PM',\n",
       " 'Home',\n",
       " 'Duquesne',\n",
       " 'Newark',\n",
       " 'Del.',\n",
       " '(Delaware',\n",
       " 'Stadium)',\n",
       " 'W',\n",
       " '43-17',\n",
       " 'Oct',\n",
       " '14',\n",
       " '(Sat)',\n",
       " '3',\n",
       " 'PM',\n",
       " 'Home',\n",
       " 'North',\n",
       " 'Carolina',\n",
       " 'A&T',\n",
       " 'Newark',\n",
       " 'Del.',\n",
       " '(Delaware',\n",
       " 'Stadium)',\n",
       " 'W',\n",
       " '21-6',\n",
       " 'Oct',\n",
       " '21',\n",
       " '(Sat)',\n",
       " '2',\n",
       " 'PM',\n",
       " 'Away',\n",
       " 'Hampton',\n",
       " 'Hampton',\n",
       " 'Va.',\n",
       " 'W',\n",
       " '47-3',\n",
       " 'Oct',\n",
       " '28',\n",
       " '(Sat)',\n",
       " '1',\n",
       " 'PM',\n",
       " 'Away',\n",
       " 'Towson',\n",
       " 'Towson',\n",
       " 'Md.',\n",
       " 'W',\n",
       " '51-13']"
      ]
     },
     "execution_count": 1327,
     "metadata": {},
     "output_type": "execute_result"
    }
   ],
   "source": [
    "#remove Elon game from full season list\n",
    "del season2023[-13:]\n",
    "season2023"
   ]
  },
  {
   "cell_type": "code",
   "execution_count": 1328,
   "metadata": {},
   "outputs": [
    {
     "data": {
      "text/plain": [
       "['Oct',\n",
       " '28',\n",
       " '(Sat)',\n",
       " '1',\n",
       " 'PM',\n",
       " 'Away',\n",
       " 'Towson',\n",
       " 'Towson',\n",
       " 'Md.',\n",
       " 'W',\n",
       " '51-13']"
      ]
     },
     "execution_count": 1328,
     "metadata": {},
     "output_type": "execute_result"
    }
   ],
   "source": [
    "#create list for Towson game\n",
    "towson = season2023[-11:]\n",
    "towson"
   ]
  },
  {
   "cell_type": "code",
   "execution_count": 1329,
   "metadata": {},
   "outputs": [
    {
     "data": {
      "text/plain": [
       "['Aug',\n",
       " '31',\n",
       " '(Thu)',\n",
       " '7',\n",
       " 'PM',\n",
       " 'Away',\n",
       " 'Stony',\n",
       " 'Brook',\n",
       " 'Stony',\n",
       " 'Brook',\n",
       " 'N.Y.',\n",
       " 'W',\n",
       " '37-13',\n",
       " 'Sept',\n",
       " '9',\n",
       " '(Sat)',\n",
       " '12',\n",
       " 'p.m.',\n",
       " 'Away',\n",
       " 'Penn',\n",
       " 'State',\n",
       " 'University',\n",
       " 'Park',\n",
       " 'Pa.',\n",
       " 'L',\n",
       " '7-63',\n",
       " 'Sep',\n",
       " '16',\n",
       " '(Sat)',\n",
       " '6',\n",
       " 'PM',\n",
       " 'Home',\n",
       " 'Saint',\n",
       " 'Francis',\n",
       " '(Pa.)',\n",
       " 'Newark',\n",
       " 'Del.',\n",
       " '(Delaware',\n",
       " 'Stadium)',\n",
       " 'W',\n",
       " '42-14',\n",
       " 'Sep',\n",
       " '23',\n",
       " '(Sat)',\n",
       " '6',\n",
       " 'PM',\n",
       " 'Home',\n",
       " 'New',\n",
       " 'Hampshire',\n",
       " 'Newark',\n",
       " 'Del.',\n",
       " '(Delaware',\n",
       " 'Stadium)',\n",
       " 'W',\n",
       " '29-25',\n",
       " 'Oct',\n",
       " '7',\n",
       " '(Sat)',\n",
       " '3',\n",
       " 'PM',\n",
       " 'Home',\n",
       " 'Duquesne',\n",
       " 'Newark',\n",
       " 'Del.',\n",
       " '(Delaware',\n",
       " 'Stadium)',\n",
       " 'W',\n",
       " '43-17',\n",
       " 'Oct',\n",
       " '14',\n",
       " '(Sat)',\n",
       " '3',\n",
       " 'PM',\n",
       " 'Home',\n",
       " 'North',\n",
       " 'Carolina',\n",
       " 'A&T',\n",
       " 'Newark',\n",
       " 'Del.',\n",
       " '(Delaware',\n",
       " 'Stadium)',\n",
       " 'W',\n",
       " '21-6',\n",
       " 'Oct',\n",
       " '21',\n",
       " '(Sat)',\n",
       " '2',\n",
       " 'PM',\n",
       " 'Away',\n",
       " 'Hampton',\n",
       " 'Hampton',\n",
       " 'Va.',\n",
       " 'W',\n",
       " '47-3']"
      ]
     },
     "execution_count": 1329,
     "metadata": {},
     "output_type": "execute_result"
    }
   ],
   "source": [
    "#remove Towson game from full season list\n",
    "del season2023[-11:]\n",
    "season2023"
   ]
  },
  {
   "cell_type": "code",
   "execution_count": 1330,
   "metadata": {},
   "outputs": [
    {
     "data": {
      "text/plain": [
       "['Oct',\n",
       " '21',\n",
       " '(Sat)',\n",
       " '2',\n",
       " 'PM',\n",
       " 'Away',\n",
       " 'Hampton',\n",
       " 'Hampton',\n",
       " 'Va.',\n",
       " 'W',\n",
       " '47-3']"
      ]
     },
     "execution_count": 1330,
     "metadata": {},
     "output_type": "execute_result"
    }
   ],
   "source": [
    "#create list for Hampton game\n",
    "hampton = season2023[-11:]\n",
    "hampton"
   ]
  },
  {
   "cell_type": "code",
   "execution_count": 1331,
   "metadata": {},
   "outputs": [
    {
     "data": {
      "text/plain": [
       "['Aug',\n",
       " '31',\n",
       " '(Thu)',\n",
       " '7',\n",
       " 'PM',\n",
       " 'Away',\n",
       " 'Stony',\n",
       " 'Brook',\n",
       " 'Stony',\n",
       " 'Brook',\n",
       " 'N.Y.',\n",
       " 'W',\n",
       " '37-13',\n",
       " 'Sept',\n",
       " '9',\n",
       " '(Sat)',\n",
       " '12',\n",
       " 'p.m.',\n",
       " 'Away',\n",
       " 'Penn',\n",
       " 'State',\n",
       " 'University',\n",
       " 'Park',\n",
       " 'Pa.',\n",
       " 'L',\n",
       " '7-63',\n",
       " 'Sep',\n",
       " '16',\n",
       " '(Sat)',\n",
       " '6',\n",
       " 'PM',\n",
       " 'Home',\n",
       " 'Saint',\n",
       " 'Francis',\n",
       " '(Pa.)',\n",
       " 'Newark',\n",
       " 'Del.',\n",
       " '(Delaware',\n",
       " 'Stadium)',\n",
       " 'W',\n",
       " '42-14',\n",
       " 'Sep',\n",
       " '23',\n",
       " '(Sat)',\n",
       " '6',\n",
       " 'PM',\n",
       " 'Home',\n",
       " 'New',\n",
       " 'Hampshire',\n",
       " 'Newark',\n",
       " 'Del.',\n",
       " '(Delaware',\n",
       " 'Stadium)',\n",
       " 'W',\n",
       " '29-25',\n",
       " 'Oct',\n",
       " '7',\n",
       " '(Sat)',\n",
       " '3',\n",
       " 'PM',\n",
       " 'Home',\n",
       " 'Duquesne',\n",
       " 'Newark',\n",
       " 'Del.',\n",
       " '(Delaware',\n",
       " 'Stadium)',\n",
       " 'W',\n",
       " '43-17',\n",
       " 'Oct',\n",
       " '14',\n",
       " '(Sat)',\n",
       " '3',\n",
       " 'PM',\n",
       " 'Home',\n",
       " 'North',\n",
       " 'Carolina',\n",
       " 'A&T',\n",
       " 'Newark',\n",
       " 'Del.',\n",
       " '(Delaware',\n",
       " 'Stadium)',\n",
       " 'W',\n",
       " '21-6']"
      ]
     },
     "execution_count": 1331,
     "metadata": {},
     "output_type": "execute_result"
    }
   ],
   "source": [
    "#remove Hampton game from full season list\n",
    "del season2023[-11:]\n",
    "season2023"
   ]
  },
  {
   "cell_type": "code",
   "execution_count": 1332,
   "metadata": {},
   "outputs": [
    {
     "data": {
      "text/plain": [
       "['Oct',\n",
       " '14',\n",
       " '(Sat)',\n",
       " '3',\n",
       " 'PM',\n",
       " 'Home',\n",
       " 'North',\n",
       " 'Carolina',\n",
       " 'A&T',\n",
       " 'Newark',\n",
       " 'Del.',\n",
       " '(Delaware',\n",
       " 'Stadium)',\n",
       " 'W',\n",
       " '21-6']"
      ]
     },
     "execution_count": 1332,
     "metadata": {},
     "output_type": "execute_result"
    }
   ],
   "source": [
    "#create list for North Carolina A&T game\n",
    "ncat = season2023[-15:]\n",
    "ncat"
   ]
  },
  {
   "cell_type": "code",
   "execution_count": 1333,
   "metadata": {},
   "outputs": [
    {
     "data": {
      "text/plain": [
       "['Aug',\n",
       " '31',\n",
       " '(Thu)',\n",
       " '7',\n",
       " 'PM',\n",
       " 'Away',\n",
       " 'Stony',\n",
       " 'Brook',\n",
       " 'Stony',\n",
       " 'Brook',\n",
       " 'N.Y.',\n",
       " 'W',\n",
       " '37-13',\n",
       " 'Sept',\n",
       " '9',\n",
       " '(Sat)',\n",
       " '12',\n",
       " 'p.m.',\n",
       " 'Away',\n",
       " 'Penn',\n",
       " 'State',\n",
       " 'University',\n",
       " 'Park',\n",
       " 'Pa.',\n",
       " 'L',\n",
       " '7-63',\n",
       " 'Sep',\n",
       " '16',\n",
       " '(Sat)',\n",
       " '6',\n",
       " 'PM',\n",
       " 'Home',\n",
       " 'Saint',\n",
       " 'Francis',\n",
       " '(Pa.)',\n",
       " 'Newark',\n",
       " 'Del.',\n",
       " '(Delaware',\n",
       " 'Stadium)',\n",
       " 'W',\n",
       " '42-14',\n",
       " 'Sep',\n",
       " '23',\n",
       " '(Sat)',\n",
       " '6',\n",
       " 'PM',\n",
       " 'Home',\n",
       " 'New',\n",
       " 'Hampshire',\n",
       " 'Newark',\n",
       " 'Del.',\n",
       " '(Delaware',\n",
       " 'Stadium)',\n",
       " 'W',\n",
       " '29-25',\n",
       " 'Oct',\n",
       " '7',\n",
       " '(Sat)',\n",
       " '3',\n",
       " 'PM',\n",
       " 'Home',\n",
       " 'Duquesne',\n",
       " 'Newark',\n",
       " 'Del.',\n",
       " '(Delaware',\n",
       " 'Stadium)',\n",
       " 'W',\n",
       " '43-17']"
      ]
     },
     "execution_count": 1333,
     "metadata": {},
     "output_type": "execute_result"
    }
   ],
   "source": [
    "#remove North Carolina A&T game from full season list\n",
    "del season2023[-15:]\n",
    "season2023"
   ]
  },
  {
   "cell_type": "code",
   "execution_count": 1334,
   "metadata": {},
   "outputs": [
    {
     "data": {
      "text/plain": [
       "['Oct',\n",
       " '7',\n",
       " '(Sat)',\n",
       " '3',\n",
       " 'PM',\n",
       " 'Home',\n",
       " 'Duquesne',\n",
       " 'Newark',\n",
       " 'Del.',\n",
       " '(Delaware',\n",
       " 'Stadium)',\n",
       " 'W',\n",
       " '43-17']"
      ]
     },
     "execution_count": 1334,
     "metadata": {},
     "output_type": "execute_result"
    }
   ],
   "source": [
    "#create list for Duquesne game\n",
    "duquesne = season2023[-13:]\n",
    "duquesne"
   ]
  },
  {
   "cell_type": "code",
   "execution_count": 1335,
   "metadata": {},
   "outputs": [
    {
     "data": {
      "text/plain": [
       "['Aug',\n",
       " '31',\n",
       " '(Thu)',\n",
       " '7',\n",
       " 'PM',\n",
       " 'Away',\n",
       " 'Stony',\n",
       " 'Brook',\n",
       " 'Stony',\n",
       " 'Brook',\n",
       " 'N.Y.',\n",
       " 'W',\n",
       " '37-13',\n",
       " 'Sept',\n",
       " '9',\n",
       " '(Sat)',\n",
       " '12',\n",
       " 'p.m.',\n",
       " 'Away',\n",
       " 'Penn',\n",
       " 'State',\n",
       " 'University',\n",
       " 'Park',\n",
       " 'Pa.',\n",
       " 'L',\n",
       " '7-63',\n",
       " 'Sep',\n",
       " '16',\n",
       " '(Sat)',\n",
       " '6',\n",
       " 'PM',\n",
       " 'Home',\n",
       " 'Saint',\n",
       " 'Francis',\n",
       " '(Pa.)',\n",
       " 'Newark',\n",
       " 'Del.',\n",
       " '(Delaware',\n",
       " 'Stadium)',\n",
       " 'W',\n",
       " '42-14',\n",
       " 'Sep',\n",
       " '23',\n",
       " '(Sat)',\n",
       " '6',\n",
       " 'PM',\n",
       " 'Home',\n",
       " 'New',\n",
       " 'Hampshire',\n",
       " 'Newark',\n",
       " 'Del.',\n",
       " '(Delaware',\n",
       " 'Stadium)',\n",
       " 'W',\n",
       " '29-25']"
      ]
     },
     "execution_count": 1335,
     "metadata": {},
     "output_type": "execute_result"
    }
   ],
   "source": [
    "#Remove Duquesne game from full seaason list\n",
    "del season2023[-13:]\n",
    "season2023"
   ]
  },
  {
   "cell_type": "code",
   "execution_count": 1336,
   "metadata": {},
   "outputs": [
    {
     "data": {
      "text/plain": [
       "['Sep',\n",
       " '23',\n",
       " '(Sat)',\n",
       " '6',\n",
       " 'PM',\n",
       " 'Home',\n",
       " 'New',\n",
       " 'Hampshire',\n",
       " 'Newark',\n",
       " 'Del.',\n",
       " '(Delaware',\n",
       " 'Stadium)',\n",
       " 'W',\n",
       " '29-25']"
      ]
     },
     "execution_count": 1336,
     "metadata": {},
     "output_type": "execute_result"
    }
   ],
   "source": [
    "#create list for New Hampshire game\n",
    "newhampshire = season2023[-14:]\n",
    "newhampshire"
   ]
  },
  {
   "cell_type": "code",
   "execution_count": 1337,
   "metadata": {},
   "outputs": [
    {
     "data": {
      "text/plain": [
       "['Aug',\n",
       " '31',\n",
       " '(Thu)',\n",
       " '7',\n",
       " 'PM',\n",
       " 'Away',\n",
       " 'Stony',\n",
       " 'Brook',\n",
       " 'Stony',\n",
       " 'Brook',\n",
       " 'N.Y.',\n",
       " 'W',\n",
       " '37-13',\n",
       " 'Sept',\n",
       " '9',\n",
       " '(Sat)',\n",
       " '12',\n",
       " 'p.m.',\n",
       " 'Away',\n",
       " 'Penn',\n",
       " 'State',\n",
       " 'University',\n",
       " 'Park',\n",
       " 'Pa.',\n",
       " 'L',\n",
       " '7-63',\n",
       " 'Sep',\n",
       " '16',\n",
       " '(Sat)',\n",
       " '6',\n",
       " 'PM',\n",
       " 'Home',\n",
       " 'Saint',\n",
       " 'Francis',\n",
       " '(Pa.)',\n",
       " 'Newark',\n",
       " 'Del.',\n",
       " '(Delaware',\n",
       " 'Stadium)',\n",
       " 'W',\n",
       " '42-14']"
      ]
     },
     "execution_count": 1337,
     "metadata": {},
     "output_type": "execute_result"
    }
   ],
   "source": [
    "#remove New Hampshire game from full season list\n",
    "del season2023[-14:]\n",
    "season2023"
   ]
  },
  {
   "cell_type": "code",
   "execution_count": 1338,
   "metadata": {},
   "outputs": [
    {
     "data": {
      "text/plain": [
       "['Sep',\n",
       " '16',\n",
       " '(Sat)',\n",
       " '6',\n",
       " 'PM',\n",
       " 'Home',\n",
       " 'Saint',\n",
       " 'Francis',\n",
       " '(Pa.)',\n",
       " 'Newark',\n",
       " 'Del.',\n",
       " '(Delaware',\n",
       " 'Stadium)',\n",
       " 'W',\n",
       " '42-14']"
      ]
     },
     "execution_count": 1338,
     "metadata": {},
     "output_type": "execute_result"
    }
   ],
   "source": [
    "#create list for Saint Francis game\n",
    "saintfrancis = season2023[-15:]\n",
    "saintfrancis"
   ]
  },
  {
   "cell_type": "code",
   "execution_count": 1339,
   "metadata": {},
   "outputs": [
    {
     "data": {
      "text/plain": [
       "['Aug',\n",
       " '31',\n",
       " '(Thu)',\n",
       " '7',\n",
       " 'PM',\n",
       " 'Away',\n",
       " 'Stony',\n",
       " 'Brook',\n",
       " 'Stony',\n",
       " 'Brook',\n",
       " 'N.Y.',\n",
       " 'W',\n",
       " '37-13',\n",
       " 'Sept',\n",
       " '9',\n",
       " '(Sat)',\n",
       " '12',\n",
       " 'p.m.',\n",
       " 'Away',\n",
       " 'Penn',\n",
       " 'State',\n",
       " 'University',\n",
       " 'Park',\n",
       " 'Pa.',\n",
       " 'L',\n",
       " '7-63']"
      ]
     },
     "execution_count": 1339,
     "metadata": {},
     "output_type": "execute_result"
    }
   ],
   "source": [
    "#remove Saint Francis game from full season list\n",
    "del season2023[-15:]\n",
    "season2023"
   ]
  },
  {
   "cell_type": "code",
   "execution_count": 1340,
   "metadata": {},
   "outputs": [
    {
     "data": {
      "text/plain": [
       "['Sept',\n",
       " '9',\n",
       " '(Sat)',\n",
       " '12',\n",
       " 'p.m.',\n",
       " 'Away',\n",
       " 'Penn',\n",
       " 'State',\n",
       " 'University',\n",
       " 'Park',\n",
       " 'Pa.',\n",
       " 'L',\n",
       " '7-63']"
      ]
     },
     "execution_count": 1340,
     "metadata": {},
     "output_type": "execute_result"
    }
   ],
   "source": [
    "#create list for Penn State game\n",
    "pennstate = season2023[-13:]\n",
    "pennstate"
   ]
  },
  {
   "cell_type": "code",
   "execution_count": 1341,
   "metadata": {},
   "outputs": [
    {
     "data": {
      "text/plain": [
       "['Aug',\n",
       " '31',\n",
       " '(Thu)',\n",
       " '7',\n",
       " 'PM',\n",
       " 'Away',\n",
       " 'Stony',\n",
       " 'Brook',\n",
       " 'Stony',\n",
       " 'Brook',\n",
       " 'N.Y.',\n",
       " 'W',\n",
       " '37-13']"
      ]
     },
     "execution_count": 1341,
     "metadata": {},
     "output_type": "execute_result"
    }
   ],
   "source": [
    "#remove Penn State game from full season list\n",
    "del season2023[-13:]\n",
    "season2023"
   ]
  },
  {
   "cell_type": "code",
   "execution_count": 1342,
   "metadata": {},
   "outputs": [
    {
     "data": {
      "text/plain": [
       "['Aug',\n",
       " '31',\n",
       " '(Thu)',\n",
       " '7',\n",
       " 'PM',\n",
       " 'Away',\n",
       " 'Stony',\n",
       " 'Brook',\n",
       " 'Stony',\n",
       " 'Brook',\n",
       " 'N.Y.',\n",
       " 'W',\n",
       " '37-13']"
      ]
     },
     "execution_count": 1342,
     "metadata": {},
     "output_type": "execute_result"
    }
   ],
   "source": [
    "#create list for Stony Brook game\n",
    "stonybrook = season2023\n",
    "stonybrook"
   ]
  },
  {
   "cell_type": "code",
   "execution_count": 1343,
   "metadata": {},
   "outputs": [
    {
     "data": {
      "text/plain": [
       "13"
      ]
     },
     "execution_count": 1343,
     "metadata": {},
     "output_type": "execute_result"
    },
    {
     "data": {
      "text/plain": [
       "13"
      ]
     },
     "execution_count": 1343,
     "metadata": {},
     "output_type": "execute_result"
    },
    {
     "data": {
      "text/plain": [
       "15"
      ]
     },
     "execution_count": 1343,
     "metadata": {},
     "output_type": "execute_result"
    },
    {
     "data": {
      "text/plain": [
       "14"
      ]
     },
     "execution_count": 1343,
     "metadata": {},
     "output_type": "execute_result"
    },
    {
     "data": {
      "text/plain": [
       "13"
      ]
     },
     "execution_count": 1343,
     "metadata": {},
     "output_type": "execute_result"
    },
    {
     "data": {
      "text/plain": [
       "15"
      ]
     },
     "execution_count": 1343,
     "metadata": {},
     "output_type": "execute_result"
    },
    {
     "data": {
      "text/plain": [
       "11"
      ]
     },
     "execution_count": 1343,
     "metadata": {},
     "output_type": "execute_result"
    },
    {
     "data": {
      "text/plain": [
       "11"
      ]
     },
     "execution_count": 1343,
     "metadata": {},
     "output_type": "execute_result"
    },
    {
     "data": {
      "text/plain": [
       "13"
      ]
     },
     "execution_count": 1343,
     "metadata": {},
     "output_type": "execute_result"
    },
    {
     "data": {
      "text/plain": [
       "12"
      ]
     },
     "execution_count": 1343,
     "metadata": {},
     "output_type": "execute_result"
    },
    {
     "data": {
      "text/plain": [
       "13"
      ]
     },
     "execution_count": 1343,
     "metadata": {},
     "output_type": "execute_result"
    },
    {
     "data": {
      "text/plain": [
       "10"
      ]
     },
     "execution_count": 1343,
     "metadata": {},
     "output_type": "execute_result"
    },
    {
     "data": {
      "text/plain": [
       "12"
      ]
     },
     "execution_count": 1343,
     "metadata": {},
     "output_type": "execute_result"
    }
   ],
   "source": [
    "#get length of list for each game\n",
    "len(stonybrook)\n",
    "len(pennstate)\n",
    "len(saintfrancis)\n",
    "len(newhampshire)\n",
    "len(duquesne)\n",
    "len(ncat)\n",
    "len(hampton)\n",
    "len(towson)\n",
    "len(elon)\n",
    "len(campbell)\n",
    "len(villanova)\n",
    "len(lafayette)\n",
    "len(montana)"
   ]
  },
  {
   "cell_type": "code",
   "execution_count": 1344,
   "metadata": {},
   "outputs": [
    {
     "data": {
      "text/plain": [
       "['Aug',\n",
       " '31',\n",
       " '(Thu)',\n",
       " '7',\n",
       " 'PM',\n",
       " 'Away',\n",
       " 'Stony',\n",
       " 'Brook',\n",
       " 'Stony',\n",
       " 'Brook',\n",
       " 'N.Y.',\n",
       " 'W',\n",
       " '37-13']"
      ]
     },
     "execution_count": 1344,
     "metadata": {},
     "output_type": "execute_result"
    }
   ],
   "source": [
    "#list for Stony Brook game\n",
    "stonybrook"
   ]
  },
  {
   "cell_type": "code",
   "execution_count": 1345,
   "metadata": {},
   "outputs": [
    {
     "data": {
      "text/plain": [
       "12"
      ]
     },
     "execution_count": 1345,
     "metadata": {},
     "output_type": "execute_result"
    },
    {
     "data": {
      "text/plain": [
       "['Aug',\n",
       " '31',\n",
       " '2023',\n",
       " '(Thu)',\n",
       " '7 PM',\n",
       " 'Away',\n",
       " 'Stony Brook',\n",
       " 'Stony Brook',\n",
       " 'N.Y.',\n",
       " 'W',\n",
       " '37',\n",
       " '13']"
      ]
     },
     "execution_count": 1345,
     "metadata": {},
     "output_type": "execute_result"
    }
   ],
   "source": [
    "#clean up Stony Brook list\n",
    "stonybrook.insert(2,'2023') \n",
    "stonybrook[4:6] = [' '.join(stonybrook[4:6])]\n",
    "stonybrook[6:8] = [' '.join(stonybrook[6:8])]\n",
    "stonybrook[7:9] = [' '.join(stonybrook[7:9])]\n",
    "stonybrook[-1:] = stonybrook[-1].split('-')\n",
    "len(stonybrook)\n",
    "stonybrook\n"
   ]
  },
  {
   "cell_type": "code",
   "execution_count": 1346,
   "metadata": {},
   "outputs": [
    {
     "data": {
      "text/plain": [
       "['Sept',\n",
       " '9',\n",
       " '(Sat)',\n",
       " '12',\n",
       " 'p.m.',\n",
       " 'Away',\n",
       " 'Penn',\n",
       " 'State',\n",
       " 'University',\n",
       " 'Park',\n",
       " 'Pa.',\n",
       " 'L',\n",
       " '7-63']"
      ]
     },
     "execution_count": 1346,
     "metadata": {},
     "output_type": "execute_result"
    }
   ],
   "source": [
    "#list for Penn State game\n",
    "pennstate"
   ]
  },
  {
   "cell_type": "code",
   "execution_count": 1347,
   "metadata": {},
   "outputs": [
    {
     "data": {
      "text/plain": [
       "12"
      ]
     },
     "execution_count": 1347,
     "metadata": {},
     "output_type": "execute_result"
    },
    {
     "data": {
      "text/plain": [
       "['Sept',\n",
       " '9',\n",
       " '2023',\n",
       " '(Sat)',\n",
       " '12 p.m.',\n",
       " 'Away',\n",
       " 'Penn State',\n",
       " 'University Park',\n",
       " 'Pa.',\n",
       " 'L',\n",
       " '7',\n",
       " '63']"
      ]
     },
     "execution_count": 1347,
     "metadata": {},
     "output_type": "execute_result"
    }
   ],
   "source": [
    "#clean up Penn State list\n",
    "pennstate.insert(2,'2023')\n",
    "pennstate[4:6 ]= [' '.join(pennstate[4:6])]\n",
    "pennstate[6:8] = [' '.join(pennstate[6:8])]\n",
    "pennstate[7:9] = [' '.join(pennstate[7:9])]\n",
    "pennstate[-1:] = pennstate[-1].split('-')\n",
    "len(pennstate)\n",
    "pennstate"
   ]
  },
  {
   "cell_type": "code",
   "execution_count": 1348,
   "metadata": {},
   "outputs": [
    {
     "data": {
      "text/plain": [
       "['Sep',\n",
       " '16',\n",
       " '(Sat)',\n",
       " '6',\n",
       " 'PM',\n",
       " 'Home',\n",
       " 'Saint',\n",
       " 'Francis',\n",
       " '(Pa.)',\n",
       " 'Newark',\n",
       " 'Del.',\n",
       " '(Delaware',\n",
       " 'Stadium)',\n",
       " 'W',\n",
       " '42-14']"
      ]
     },
     "execution_count": 1348,
     "metadata": {},
     "output_type": "execute_result"
    }
   ],
   "source": [
    "#Saint Francis game\n",
    "saintfrancis"
   ]
  },
  {
   "cell_type": "code",
   "execution_count": 1349,
   "metadata": {},
   "outputs": [
    {
     "data": {
      "text/plain": [
       "12"
      ]
     },
     "execution_count": 1349,
     "metadata": {},
     "output_type": "execute_result"
    },
    {
     "data": {
      "text/plain": [
       "['Sep',\n",
       " '16',\n",
       " '2023',\n",
       " '(Sat)',\n",
       " '6 PM',\n",
       " 'Home',\n",
       " 'Saint Francis (Pa.)',\n",
       " 'Newark',\n",
       " 'Del.',\n",
       " 'W',\n",
       " '42',\n",
       " '14']"
      ]
     },
     "execution_count": 1349,
     "metadata": {},
     "output_type": "execute_result"
    }
   ],
   "source": [
    "#clean up Saint Francis list\n",
    "del saintfrancis[-4:-2]\n",
    "saintfrancis.insert(2, '2023')\n",
    "saintfrancis[4:6] = [' '.join(saintfrancis[4:6])]\n",
    "saintfrancis[6:9]= [' '.join(saintfrancis[6:9])]\n",
    "saintfrancis[-1:] = saintfrancis[-1].split('-')\n",
    "len(saintfrancis)\n",
    "saintfrancis"
   ]
  },
  {
   "cell_type": "code",
   "execution_count": 1350,
   "metadata": {},
   "outputs": [
    {
     "data": {
      "text/plain": [
       "['Sep',\n",
       " '23',\n",
       " '(Sat)',\n",
       " '6',\n",
       " 'PM',\n",
       " 'Home',\n",
       " 'New',\n",
       " 'Hampshire',\n",
       " 'Newark',\n",
       " 'Del.',\n",
       " '(Delaware',\n",
       " 'Stadium)',\n",
       " 'W',\n",
       " '29-25']"
      ]
     },
     "execution_count": 1350,
     "metadata": {},
     "output_type": "execute_result"
    }
   ],
   "source": [
    "#New Hampshire game\n",
    "newhampshire"
   ]
  },
  {
   "cell_type": "code",
   "execution_count": 1351,
   "metadata": {},
   "outputs": [
    {
     "data": {
      "text/plain": [
       "12"
      ]
     },
     "execution_count": 1351,
     "metadata": {},
     "output_type": "execute_result"
    },
    {
     "data": {
      "text/plain": [
       "['Sep',\n",
       " '23',\n",
       " '2023',\n",
       " '(Sat)',\n",
       " '6 PM',\n",
       " 'Home',\n",
       " 'New Hampshire',\n",
       " 'Newark',\n",
       " 'Del.',\n",
       " 'W',\n",
       " '29',\n",
       " '25']"
      ]
     },
     "execution_count": 1351,
     "metadata": {},
     "output_type": "execute_result"
    }
   ],
   "source": [
    "#clean up New Hampshire list\n",
    "del newhampshire[-4:-2]\n",
    "newhampshire.insert(2, '2023')\n",
    "newhampshire[4:6] = [' '.join(newhampshire[4:6])]\n",
    "newhampshire[6:8 ]= [' '.join(newhampshire[6:8])]\n",
    "newhampshire[-1:] = newhampshire[-1].split('-')\n",
    "len(newhampshire)\n",
    "newhampshire"
   ]
  },
  {
   "cell_type": "code",
   "execution_count": 1352,
   "metadata": {},
   "outputs": [
    {
     "data": {
      "text/plain": [
       "['Oct',\n",
       " '7',\n",
       " '(Sat)',\n",
       " '3',\n",
       " 'PM',\n",
       " 'Home',\n",
       " 'Duquesne',\n",
       " 'Newark',\n",
       " 'Del.',\n",
       " '(Delaware',\n",
       " 'Stadium)',\n",
       " 'W',\n",
       " '43-17']"
      ]
     },
     "execution_count": 1352,
     "metadata": {},
     "output_type": "execute_result"
    }
   ],
   "source": [
    "#Duquesne game\n",
    "duquesne"
   ]
  },
  {
   "cell_type": "code",
   "execution_count": 1353,
   "metadata": {},
   "outputs": [
    {
     "data": {
      "text/plain": [
       "12"
      ]
     },
     "execution_count": 1353,
     "metadata": {},
     "output_type": "execute_result"
    },
    {
     "data": {
      "text/plain": [
       "['Oct',\n",
       " '7',\n",
       " '2023',\n",
       " '(Sat)',\n",
       " '3 PM',\n",
       " 'Home',\n",
       " 'Duquesne',\n",
       " 'Newark',\n",
       " 'Del.',\n",
       " 'W',\n",
       " '43',\n",
       " '17']"
      ]
     },
     "execution_count": 1353,
     "metadata": {},
     "output_type": "execute_result"
    }
   ],
   "source": [
    "#clean up Duquesne list\n",
    "del duquesne[-4:-2]\n",
    "duquesne.insert(2, '2023')\n",
    "duquesne[4:6] = [' '.join(duquesne[4:6])]\n",
    "duquesne[-1:] = duquesne[-1].split('-')\n",
    "len(duquesne)\n",
    "duquesne"
   ]
  },
  {
   "cell_type": "code",
   "execution_count": 1354,
   "metadata": {},
   "outputs": [
    {
     "data": {
      "text/plain": [
       "['Oct',\n",
       " '14',\n",
       " '(Sat)',\n",
       " '3',\n",
       " 'PM',\n",
       " 'Home',\n",
       " 'North',\n",
       " 'Carolina',\n",
       " 'A&T',\n",
       " 'Newark',\n",
       " 'Del.',\n",
       " '(Delaware',\n",
       " 'Stadium)',\n",
       " 'W',\n",
       " '21-6']"
      ]
     },
     "execution_count": 1354,
     "metadata": {},
     "output_type": "execute_result"
    }
   ],
   "source": [
    "#North Carolina A&T game\n",
    "ncat"
   ]
  },
  {
   "cell_type": "code",
   "execution_count": 1355,
   "metadata": {},
   "outputs": [
    {
     "data": {
      "text/plain": [
       "12"
      ]
     },
     "execution_count": 1355,
     "metadata": {},
     "output_type": "execute_result"
    },
    {
     "data": {
      "text/plain": [
       "['Oct',\n",
       " '14',\n",
       " '2023',\n",
       " '(Sat)',\n",
       " '3 PM',\n",
       " 'Home',\n",
       " 'North Carolina A&T',\n",
       " 'Newark',\n",
       " 'Del.',\n",
       " 'W',\n",
       " '21',\n",
       " '6']"
      ]
     },
     "execution_count": 1355,
     "metadata": {},
     "output_type": "execute_result"
    }
   ],
   "source": [
    "#clean up North Carolina A&T list\n",
    "del ncat[-4:-2]\n",
    "ncat.insert(2,'2023')\n",
    "ncat[4:6] = [' '.join(ncat[4:6])]\n",
    "ncat[6:9] = [' '.join(ncat[6:9])]\n",
    "ncat[-1:] = ncat[-1].split('-')\n",
    "len(ncat)\n",
    "ncat"
   ]
  },
  {
   "cell_type": "code",
   "execution_count": 1356,
   "metadata": {},
   "outputs": [
    {
     "data": {
      "text/plain": [
       "['Oct',\n",
       " '21',\n",
       " '(Sat)',\n",
       " '2',\n",
       " 'PM',\n",
       " 'Away',\n",
       " 'Hampton',\n",
       " 'Hampton',\n",
       " 'Va.',\n",
       " 'W',\n",
       " '47-3']"
      ]
     },
     "execution_count": 1356,
     "metadata": {},
     "output_type": "execute_result"
    }
   ],
   "source": [
    "#Hampton game\n",
    "hampton"
   ]
  },
  {
   "cell_type": "code",
   "execution_count": 1357,
   "metadata": {},
   "outputs": [
    {
     "data": {
      "text/plain": [
       "12"
      ]
     },
     "execution_count": 1357,
     "metadata": {},
     "output_type": "execute_result"
    },
    {
     "data": {
      "text/plain": [
       "['Oct',\n",
       " '21',\n",
       " '2023',\n",
       " '(Sat)',\n",
       " '2 PM',\n",
       " 'Away',\n",
       " 'Hampton',\n",
       " 'Hampton',\n",
       " 'Va.',\n",
       " 'W',\n",
       " '47',\n",
       " '3']"
      ]
     },
     "execution_count": 1357,
     "metadata": {},
     "output_type": "execute_result"
    }
   ],
   "source": [
    "#clean up hampton list\n",
    "hampton.insert(2,'2023')\n",
    "hampton[4:6] = [' '.join(hampton[4:6])]\n",
    "hampton[-1:] = hampton[-1].split('-')\n",
    "len(hampton)\n",
    "hampton"
   ]
  },
  {
   "cell_type": "code",
   "execution_count": 1358,
   "metadata": {},
   "outputs": [
    {
     "data": {
      "text/plain": [
       "['Oct',\n",
       " '28',\n",
       " '(Sat)',\n",
       " '1',\n",
       " 'PM',\n",
       " 'Away',\n",
       " 'Towson',\n",
       " 'Towson',\n",
       " 'Md.',\n",
       " 'W',\n",
       " '51-13']"
      ]
     },
     "execution_count": 1358,
     "metadata": {},
     "output_type": "execute_result"
    }
   ],
   "source": [
    "#Towson game\n",
    "towson"
   ]
  },
  {
   "cell_type": "code",
   "execution_count": 1359,
   "metadata": {},
   "outputs": [
    {
     "data": {
      "text/plain": [
       "12"
      ]
     },
     "execution_count": 1359,
     "metadata": {},
     "output_type": "execute_result"
    },
    {
     "data": {
      "text/plain": [
       "['Oct',\n",
       " '28',\n",
       " '2023',\n",
       " '(Sat)',\n",
       " '1 PM',\n",
       " 'Away',\n",
       " 'Towson',\n",
       " 'Towson',\n",
       " 'Md.',\n",
       " 'W',\n",
       " '51',\n",
       " '13']"
      ]
     },
     "execution_count": 1359,
     "metadata": {},
     "output_type": "execute_result"
    }
   ],
   "source": [
    "#clean up Towson list\n",
    "towson.insert(2,'2023')\n",
    "towson[4:6] = [' '.join(towson[4:6])]\n",
    "towson[-1:] = towson[-1].split('-')\n",
    "len(towson)\n",
    "towson"
   ]
  },
  {
   "cell_type": "code",
   "execution_count": 1360,
   "metadata": {},
   "outputs": [
    {
     "data": {
      "text/plain": [
       "['Nov',\n",
       " '4',\n",
       " '(Sat)',\n",
       " '1',\n",
       " 'PM',\n",
       " 'Home',\n",
       " 'Elon',\n",
       " 'Newark',\n",
       " 'Del.',\n",
       " '(Delaware',\n",
       " 'Stadium)',\n",
       " 'L',\n",
       " '27-33']"
      ]
     },
     "execution_count": 1360,
     "metadata": {},
     "output_type": "execute_result"
    }
   ],
   "source": [
    "#Elon game\n",
    "elon"
   ]
  },
  {
   "cell_type": "code",
   "execution_count": 1361,
   "metadata": {},
   "outputs": [
    {
     "data": {
      "text/plain": [
       "12"
      ]
     },
     "execution_count": 1361,
     "metadata": {},
     "output_type": "execute_result"
    },
    {
     "data": {
      "text/plain": [
       "['Nov',\n",
       " '4',\n",
       " '2023',\n",
       " '(Sat)',\n",
       " '1 PM',\n",
       " 'Home',\n",
       " 'Elon',\n",
       " 'Newark',\n",
       " 'Del.',\n",
       " 'L',\n",
       " '27',\n",
       " '33']"
      ]
     },
     "execution_count": 1361,
     "metadata": {},
     "output_type": "execute_result"
    }
   ],
   "source": [
    "#clean up Elon list\n",
    "del elon[-4:-2]\n",
    "elon.insert(2,'2023')\n",
    "elon[4:6] = [' '.join(elon[4:6])]\n",
    "elon[-1:] = elon[-1].split('-')\n",
    "len(elon)\n",
    "elon"
   ]
  },
  {
   "cell_type": "code",
   "execution_count": 1362,
   "metadata": {},
   "outputs": [
    {
     "data": {
      "text/plain": [
       "['Nov',\n",
       " '11',\n",
       " '(Sat)',\n",
       " '1',\n",
       " 'PM',\n",
       " 'Away',\n",
       " 'Campbell',\n",
       " 'Buies',\n",
       " 'Creek',\n",
       " 'N.C.',\n",
       " 'W',\n",
       " '45-7']"
      ]
     },
     "execution_count": 1362,
     "metadata": {},
     "output_type": "execute_result"
    }
   ],
   "source": [
    "#Campbell game\n",
    "campbell"
   ]
  },
  {
   "cell_type": "code",
   "execution_count": 1363,
   "metadata": {},
   "outputs": [
    {
     "data": {
      "text/plain": [
       "12"
      ]
     },
     "execution_count": 1363,
     "metadata": {},
     "output_type": "execute_result"
    },
    {
     "data": {
      "text/plain": [
       "['Nov',\n",
       " '11',\n",
       " '2023',\n",
       " '(Sat)',\n",
       " '1 PM',\n",
       " 'Away',\n",
       " 'Campbell',\n",
       " 'Buies Creek',\n",
       " 'N.C.',\n",
       " 'W',\n",
       " '45',\n",
       " '7']"
      ]
     },
     "execution_count": 1363,
     "metadata": {},
     "output_type": "execute_result"
    }
   ],
   "source": [
    "#clean up Campbell list\n",
    "campbell.insert(2, '2023')\n",
    "campbell[4:6] = [' '.join(campbell[4:6])] \n",
    "campbell[7:9] = [' '.join(campbell[7:9])]\n",
    "campbell[-1:] = campbell[-1].split('-')\n",
    "len(campbell)\n",
    "campbell"
   ]
  },
  {
   "cell_type": "code",
   "execution_count": 1364,
   "metadata": {},
   "outputs": [
    {
     "data": {
      "text/plain": [
       "['Nov',\n",
       " '18',\n",
       " '(Sat)',\n",
       " '1',\n",
       " 'PM',\n",
       " 'Home',\n",
       " 'Villanova',\n",
       " 'Newark',\n",
       " 'Del.',\n",
       " '(Delaware',\n",
       " 'Stadium)',\n",
       " 'L',\n",
       " '7-35']"
      ]
     },
     "execution_count": 1364,
     "metadata": {},
     "output_type": "execute_result"
    }
   ],
   "source": [
    "#Villanova game\n",
    "villanova"
   ]
  },
  {
   "cell_type": "code",
   "execution_count": 1365,
   "metadata": {},
   "outputs": [
    {
     "data": {
      "text/plain": [
       "12"
      ]
     },
     "execution_count": 1365,
     "metadata": {},
     "output_type": "execute_result"
    },
    {
     "data": {
      "text/plain": [
       "['Nov',\n",
       " '18',\n",
       " '2023',\n",
       " '(Sat)',\n",
       " '1 PM',\n",
       " 'Home',\n",
       " 'Villanova',\n",
       " 'Newark',\n",
       " 'Del.',\n",
       " 'L',\n",
       " '7',\n",
       " '35']"
      ]
     },
     "execution_count": 1365,
     "metadata": {},
     "output_type": "execute_result"
    }
   ],
   "source": [
    "#clean up Villanova list\n",
    "del villanova[-4:-2]\n",
    "villanova.insert(2, '2023')\n",
    "villanova[4:6] = [' '.join(villanova[4:6])]\n",
    "villanova[-1:] = villanova[-1].split('-')\n",
    "len(villanova)\n",
    "villanova"
   ]
  },
  {
   "cell_type": "code",
   "execution_count": 1366,
   "metadata": {},
   "outputs": [
    {
     "data": {
      "text/plain": [
       "['Nov', '25', '(Sat)', '2', 'p.m.', 'Home', 'Lafayette', 'TBD', 'W', '36-34']"
      ]
     },
     "execution_count": 1366,
     "metadata": {},
     "output_type": "execute_result"
    }
   ],
   "source": [
    "#Lafayette game\n",
    "lafayette"
   ]
  },
  {
   "cell_type": "code",
   "execution_count": 1367,
   "metadata": {},
   "outputs": [
    {
     "data": {
      "text/plain": [
       "12"
      ]
     },
     "execution_count": 1367,
     "metadata": {},
     "output_type": "execute_result"
    },
    {
     "data": {
      "text/plain": [
       "['Nov',\n",
       " '25',\n",
       " '2023',\n",
       " '(Sat)',\n",
       " '2 p.m.',\n",
       " 'Home',\n",
       " 'Lafayette',\n",
       " 'Newark',\n",
       " 'Del.',\n",
       " 'W',\n",
       " '36',\n",
       " '34']"
      ]
     },
     "execution_count": 1367,
     "metadata": {},
     "output_type": "execute_result"
    }
   ],
   "source": [
    "#clean up Lafayette list\n",
    "lafayette.insert(2, '2023')\n",
    "lafayette[4:6] = [' '.join(lafayette[4:6])]\n",
    "lafayette[7] = 'Newark'\n",
    "lafayette.insert(8, 'Del.')\n",
    "lafayette[-1:] = lafayette[-1].split('-')\n",
    "len(lafayette)\n",
    "lafayette"
   ]
  },
  {
   "cell_type": "code",
   "execution_count": 1368,
   "metadata": {},
   "outputs": [
    {
     "data": {
      "text/plain": [
       "['Dec',\n",
       " '2',\n",
       " '(Sat)',\n",
       " '9',\n",
       " 'p.m.',\n",
       " 'Away',\n",
       " '#2',\n",
       " 'Montana',\n",
       " 'Missoula',\n",
       " 'Mont.',\n",
       " 'L',\n",
       " '19-49']"
      ]
     },
     "execution_count": 1368,
     "metadata": {},
     "output_type": "execute_result"
    }
   ],
   "source": [
    "#Montana game\n",
    "montana"
   ]
  },
  {
   "cell_type": "code",
   "execution_count": 1369,
   "metadata": {},
   "outputs": [
    {
     "data": {
      "text/plain": [
       "12"
      ]
     },
     "execution_count": 1369,
     "metadata": {},
     "output_type": "execute_result"
    },
    {
     "data": {
      "text/plain": [
       "['Dec',\n",
       " '2',\n",
       " '2023',\n",
       " '(Sat)',\n",
       " '9 p.m.',\n",
       " 'Away',\n",
       " 'Montana',\n",
       " 'Missoula',\n",
       " 'Mont.',\n",
       " 'L',\n",
       " '19',\n",
       " '49']"
      ]
     },
     "execution_count": 1369,
     "metadata": {},
     "output_type": "execute_result"
    }
   ],
   "source": [
    "#clean up Montana list\n",
    "del montana[6]\n",
    "montana.insert(2,'2023')\n",
    "montana[4:6] = [' '.join(montana[4:6])]\n",
    "montana[-1:] = montana[-1].split('-')\n",
    "len(montana)\n",
    "montana"
   ]
  },
  {
   "cell_type": "code",
   "execution_count": 1370,
   "metadata": {},
   "outputs": [
    {
     "data": {
      "text/plain": [
       "12"
      ]
     },
     "execution_count": 1370,
     "metadata": {},
     "output_type": "execute_result"
    },
    {
     "data": {
      "text/plain": [
       "12"
      ]
     },
     "execution_count": 1370,
     "metadata": {},
     "output_type": "execute_result"
    },
    {
     "data": {
      "text/plain": [
       "12"
      ]
     },
     "execution_count": 1370,
     "metadata": {},
     "output_type": "execute_result"
    },
    {
     "data": {
      "text/plain": [
       "12"
      ]
     },
     "execution_count": 1370,
     "metadata": {},
     "output_type": "execute_result"
    },
    {
     "data": {
      "text/plain": [
       "12"
      ]
     },
     "execution_count": 1370,
     "metadata": {},
     "output_type": "execute_result"
    },
    {
     "data": {
      "text/plain": [
       "12"
      ]
     },
     "execution_count": 1370,
     "metadata": {},
     "output_type": "execute_result"
    },
    {
     "data": {
      "text/plain": [
       "12"
      ]
     },
     "execution_count": 1370,
     "metadata": {},
     "output_type": "execute_result"
    },
    {
     "data": {
      "text/plain": [
       "12"
      ]
     },
     "execution_count": 1370,
     "metadata": {},
     "output_type": "execute_result"
    },
    {
     "data": {
      "text/plain": [
       "12"
      ]
     },
     "execution_count": 1370,
     "metadata": {},
     "output_type": "execute_result"
    },
    {
     "data": {
      "text/plain": [
       "12"
      ]
     },
     "execution_count": 1370,
     "metadata": {},
     "output_type": "execute_result"
    },
    {
     "data": {
      "text/plain": [
       "12"
      ]
     },
     "execution_count": 1370,
     "metadata": {},
     "output_type": "execute_result"
    },
    {
     "data": {
      "text/plain": [
       "12"
      ]
     },
     "execution_count": 1370,
     "metadata": {},
     "output_type": "execute_result"
    },
    {
     "data": {
      "text/plain": [
       "12"
      ]
     },
     "execution_count": 1370,
     "metadata": {},
     "output_type": "execute_result"
    }
   ],
   "source": [
    "#get lengths of cleaned lists to make sure they are all equal length\n",
    "len(stonybrook)\n",
    "len(pennstate)\n",
    "len(saintfrancis)\n",
    "len(newhampshire)\n",
    "len(duquesne)\n",
    "len(ncat)\n",
    "len(hampton)\n",
    "len(towson)\n",
    "len(elon)\n",
    "len(campbell)\n",
    "len(villanova)\n",
    "len(lafayette)\n",
    "len(montana)"
   ]
  },
  {
   "cell_type": "code",
   "execution_count": 1374,
   "metadata": {},
   "outputs": [
    {
     "data": {
      "text/plain": [
       "156"
      ]
     },
     "execution_count": 1374,
     "metadata": {},
     "output_type": "execute_result"
    },
    {
     "data": {
      "text/plain": [
       "['Aug',\n",
       " '31',\n",
       " '2023',\n",
       " '(Thu)',\n",
       " '7 PM',\n",
       " 'Away',\n",
       " 'Stony Brook',\n",
       " 'Stony Brook',\n",
       " 'N.Y.',\n",
       " 'W',\n",
       " '37',\n",
       " '13']"
      ]
     },
     "execution_count": 1374,
     "metadata": {},
     "output_type": "execute_result"
    }
   ],
   "source": [
    "#create single list of all cleaned lists\n",
    "fulldata = stonybrook + pennstate + saintfrancis + newhampshire + duquesne + ncat + hampton + towson + elon + campbell + villanova + lafayette + montana\n",
    "len(fulldata)\n",
    "fulldata[:12]"
   ]
  },
  {
   "cell_type": "code",
   "execution_count": 1375,
   "metadata": {},
   "outputs": [
    {
     "data": {
      "text/plain": [
       "[['Aug',\n",
       "  '31',\n",
       "  '2023',\n",
       "  '(Thu)',\n",
       "  '7 PM',\n",
       "  'Away',\n",
       "  'Stony Brook',\n",
       "  'Stony Brook',\n",
       "  'N.Y.',\n",
       "  'W',\n",
       "  '37',\n",
       "  '13'],\n",
       " ['Sept',\n",
       "  '9',\n",
       "  '2023',\n",
       "  '(Sat)',\n",
       "  '12 p.m.',\n",
       "  'Away',\n",
       "  'Penn State',\n",
       "  'University Park',\n",
       "  'Pa.',\n",
       "  'L',\n",
       "  '7',\n",
       "  '63']]"
      ]
     },
     "execution_count": 1375,
     "metadata": {},
     "output_type": "execute_result"
    }
   ],
   "source": [
    "#create list of lists with each game list being an element in the list\n",
    "list_of_lists = [fulldata[i:i+12] for i in range (0,len(fulldata),12)]\n",
    "list_of_lists[:2]"
   ]
  },
  {
   "cell_type": "code",
   "execution_count": 1378,
   "metadata": {},
   "outputs": [
    {
     "data": {
      "text/html": [
       "<div>\n",
       "<style scoped>\n",
       "    .dataframe tbody tr th:only-of-type {\n",
       "        vertical-align: middle;\n",
       "    }\n",
       "\n",
       "    .dataframe tbody tr th {\n",
       "        vertical-align: top;\n",
       "    }\n",
       "\n",
       "    .dataframe thead th {\n",
       "        text-align: right;\n",
       "    }\n",
       "</style>\n",
       "<table border=\"1\" class=\"dataframe\">\n",
       "  <thead>\n",
       "    <tr style=\"text-align: right;\">\n",
       "      <th></th>\n",
       "      <th>month</th>\n",
       "      <th>day</th>\n",
       "      <th>year</th>\n",
       "      <th>day of week</th>\n",
       "      <th>time</th>\n",
       "      <th>homeaway</th>\n",
       "      <th>opponent</th>\n",
       "      <th>city</th>\n",
       "      <th>state</th>\n",
       "      <th>winloss</th>\n",
       "      <th>UDscore</th>\n",
       "      <th>oppscore</th>\n",
       "    </tr>\n",
       "  </thead>\n",
       "  <tbody>\n",
       "    <tr>\n",
       "      <th>0</th>\n",
       "      <td>Aug</td>\n",
       "      <td>31</td>\n",
       "      <td>2023</td>\n",
       "      <td>(Thu)</td>\n",
       "      <td>7 PM</td>\n",
       "      <td>Away</td>\n",
       "      <td>Stony Brook</td>\n",
       "      <td>Stony Brook</td>\n",
       "      <td>N.Y.</td>\n",
       "      <td>W</td>\n",
       "      <td>37</td>\n",
       "      <td>13</td>\n",
       "    </tr>\n",
       "    <tr>\n",
       "      <th>1</th>\n",
       "      <td>Sept</td>\n",
       "      <td>9</td>\n",
       "      <td>2023</td>\n",
       "      <td>(Sat)</td>\n",
       "      <td>12 p.m.</td>\n",
       "      <td>Away</td>\n",
       "      <td>Penn State</td>\n",
       "      <td>University Park</td>\n",
       "      <td>Pa.</td>\n",
       "      <td>L</td>\n",
       "      <td>7</td>\n",
       "      <td>63</td>\n",
       "    </tr>\n",
       "    <tr>\n",
       "      <th>2</th>\n",
       "      <td>Sep</td>\n",
       "      <td>16</td>\n",
       "      <td>2023</td>\n",
       "      <td>(Sat)</td>\n",
       "      <td>6 PM</td>\n",
       "      <td>Home</td>\n",
       "      <td>Saint Francis (Pa.)</td>\n",
       "      <td>Newark</td>\n",
       "      <td>Del.</td>\n",
       "      <td>W</td>\n",
       "      <td>42</td>\n",
       "      <td>14</td>\n",
       "    </tr>\n",
       "    <tr>\n",
       "      <th>3</th>\n",
       "      <td>Sep</td>\n",
       "      <td>23</td>\n",
       "      <td>2023</td>\n",
       "      <td>(Sat)</td>\n",
       "      <td>6 PM</td>\n",
       "      <td>Home</td>\n",
       "      <td>New Hampshire</td>\n",
       "      <td>Newark</td>\n",
       "      <td>Del.</td>\n",
       "      <td>W</td>\n",
       "      <td>29</td>\n",
       "      <td>25</td>\n",
       "    </tr>\n",
       "    <tr>\n",
       "      <th>4</th>\n",
       "      <td>Oct</td>\n",
       "      <td>7</td>\n",
       "      <td>2023</td>\n",
       "      <td>(Sat)</td>\n",
       "      <td>3 PM</td>\n",
       "      <td>Home</td>\n",
       "      <td>Duquesne</td>\n",
       "      <td>Newark</td>\n",
       "      <td>Del.</td>\n",
       "      <td>W</td>\n",
       "      <td>43</td>\n",
       "      <td>17</td>\n",
       "    </tr>\n",
       "    <tr>\n",
       "      <th>5</th>\n",
       "      <td>Oct</td>\n",
       "      <td>14</td>\n",
       "      <td>2023</td>\n",
       "      <td>(Sat)</td>\n",
       "      <td>3 PM</td>\n",
       "      <td>Home</td>\n",
       "      <td>North Carolina A&amp;T</td>\n",
       "      <td>Newark</td>\n",
       "      <td>Del.</td>\n",
       "      <td>W</td>\n",
       "      <td>21</td>\n",
       "      <td>6</td>\n",
       "    </tr>\n",
       "    <tr>\n",
       "      <th>6</th>\n",
       "      <td>Oct</td>\n",
       "      <td>21</td>\n",
       "      <td>2023</td>\n",
       "      <td>(Sat)</td>\n",
       "      <td>2 PM</td>\n",
       "      <td>Away</td>\n",
       "      <td>Hampton</td>\n",
       "      <td>Hampton</td>\n",
       "      <td>Va.</td>\n",
       "      <td>W</td>\n",
       "      <td>47</td>\n",
       "      <td>3</td>\n",
       "    </tr>\n",
       "    <tr>\n",
       "      <th>7</th>\n",
       "      <td>Oct</td>\n",
       "      <td>28</td>\n",
       "      <td>2023</td>\n",
       "      <td>(Sat)</td>\n",
       "      <td>1 PM</td>\n",
       "      <td>Away</td>\n",
       "      <td>Towson</td>\n",
       "      <td>Towson</td>\n",
       "      <td>Md.</td>\n",
       "      <td>W</td>\n",
       "      <td>51</td>\n",
       "      <td>13</td>\n",
       "    </tr>\n",
       "    <tr>\n",
       "      <th>8</th>\n",
       "      <td>Nov</td>\n",
       "      <td>4</td>\n",
       "      <td>2023</td>\n",
       "      <td>(Sat)</td>\n",
       "      <td>1 PM</td>\n",
       "      <td>Home</td>\n",
       "      <td>Elon</td>\n",
       "      <td>Newark</td>\n",
       "      <td>Del.</td>\n",
       "      <td>L</td>\n",
       "      <td>27</td>\n",
       "      <td>33</td>\n",
       "    </tr>\n",
       "    <tr>\n",
       "      <th>9</th>\n",
       "      <td>Nov</td>\n",
       "      <td>11</td>\n",
       "      <td>2023</td>\n",
       "      <td>(Sat)</td>\n",
       "      <td>1 PM</td>\n",
       "      <td>Away</td>\n",
       "      <td>Campbell</td>\n",
       "      <td>Buies Creek</td>\n",
       "      <td>N.C.</td>\n",
       "      <td>W</td>\n",
       "      <td>45</td>\n",
       "      <td>7</td>\n",
       "    </tr>\n",
       "    <tr>\n",
       "      <th>10</th>\n",
       "      <td>Nov</td>\n",
       "      <td>18</td>\n",
       "      <td>2023</td>\n",
       "      <td>(Sat)</td>\n",
       "      <td>1 PM</td>\n",
       "      <td>Home</td>\n",
       "      <td>Villanova</td>\n",
       "      <td>Newark</td>\n",
       "      <td>Del.</td>\n",
       "      <td>L</td>\n",
       "      <td>7</td>\n",
       "      <td>35</td>\n",
       "    </tr>\n",
       "    <tr>\n",
       "      <th>11</th>\n",
       "      <td>Nov</td>\n",
       "      <td>25</td>\n",
       "      <td>2023</td>\n",
       "      <td>(Sat)</td>\n",
       "      <td>2 p.m.</td>\n",
       "      <td>Home</td>\n",
       "      <td>Lafayette</td>\n",
       "      <td>Newark</td>\n",
       "      <td>Del.</td>\n",
       "      <td>W</td>\n",
       "      <td>36</td>\n",
       "      <td>34</td>\n",
       "    </tr>\n",
       "    <tr>\n",
       "      <th>12</th>\n",
       "      <td>Dec</td>\n",
       "      <td>2</td>\n",
       "      <td>2023</td>\n",
       "      <td>(Sat)</td>\n",
       "      <td>9 p.m.</td>\n",
       "      <td>Away</td>\n",
       "      <td>Montana</td>\n",
       "      <td>Missoula</td>\n",
       "      <td>Mont.</td>\n",
       "      <td>L</td>\n",
       "      <td>19</td>\n",
       "      <td>49</td>\n",
       "    </tr>\n",
       "  </tbody>\n",
       "</table>\n",
       "</div>"
      ],
      "text/plain": [
       "   month day  year day of week     time homeaway             opponent  \\\n",
       "0    Aug  31  2023       (Thu)     7 PM     Away          Stony Brook   \n",
       "1   Sept   9  2023       (Sat)  12 p.m.     Away           Penn State   \n",
       "2    Sep  16  2023       (Sat)     6 PM     Home  Saint Francis (Pa.)   \n",
       "3    Sep  23  2023       (Sat)     6 PM     Home        New Hampshire   \n",
       "4    Oct   7  2023       (Sat)     3 PM     Home             Duquesne   \n",
       "5    Oct  14  2023       (Sat)     3 PM     Home   North Carolina A&T   \n",
       "6    Oct  21  2023       (Sat)     2 PM     Away              Hampton   \n",
       "7    Oct  28  2023       (Sat)     1 PM     Away               Towson   \n",
       "8    Nov   4  2023       (Sat)     1 PM     Home                 Elon   \n",
       "9    Nov  11  2023       (Sat)     1 PM     Away             Campbell   \n",
       "10   Nov  18  2023       (Sat)     1 PM     Home            Villanova   \n",
       "11   Nov  25  2023       (Sat)   2 p.m.     Home            Lafayette   \n",
       "12   Dec   2  2023       (Sat)   9 p.m.     Away              Montana   \n",
       "\n",
       "               city  state winloss UDscore oppscore  \n",
       "0       Stony Brook   N.Y.       W      37       13  \n",
       "1   University Park    Pa.       L       7       63  \n",
       "2            Newark   Del.       W      42       14  \n",
       "3            Newark   Del.       W      29       25  \n",
       "4            Newark   Del.       W      43       17  \n",
       "5            Newark   Del.       W      21        6  \n",
       "6           Hampton    Va.       W      47        3  \n",
       "7            Towson    Md.       W      51       13  \n",
       "8            Newark   Del.       L      27       33  \n",
       "9       Buies Creek   N.C.       W      45        7  \n",
       "10           Newark   Del.       L       7       35  \n",
       "11           Newark   Del.       W      36       34  \n",
       "12         Missoula  Mont.       L      19       49  "
      ]
     },
     "execution_count": 1378,
     "metadata": {},
     "output_type": "execute_result"
    }
   ],
   "source": [
    "#create data frame\n",
    "#use lists of lists as data and create column names\n",
    "df = pd.DataFrame(list_of_lists, columns=['month', 'day','year', 'day of week', 'time', 'homeaway', \n",
    "                                          'opponent', 'city', 'state', 'winloss', 'UDscore', 'oppscore'])\n",
    "df"
   ]
  },
  {
   "cell_type": "code",
   "execution_count": 1379,
   "metadata": {},
   "outputs": [
    {
     "name": "stdout",
     "output_type": "stream",
     "text": [
      "<class 'pandas.core.frame.DataFrame'>\n",
      "RangeIndex: 13 entries, 0 to 12\n",
      "Data columns (total 12 columns):\n",
      " #   Column       Non-Null Count  Dtype \n",
      "---  ------       --------------  ----- \n",
      " 0   month        13 non-null     object\n",
      " 1   day          13 non-null     object\n",
      " 2   year         13 non-null     object\n",
      " 3   day of week  13 non-null     object\n",
      " 4   time         13 non-null     object\n",
      " 5   homeaway     13 non-null     object\n",
      " 6   opponent     13 non-null     object\n",
      " 7   city         13 non-null     object\n",
      " 8   state        13 non-null     object\n",
      " 9   winloss      13 non-null     object\n",
      " 10  UDscore      13 non-null     object\n",
      " 11  oppscore     13 non-null     object\n",
      "dtypes: object(12)\n",
      "memory usage: 1.3+ KB\n"
     ]
    }
   ],
   "source": [
    "#get data types for each column\n",
    "df.info()"
   ]
  },
  {
   "cell_type": "code",
   "execution_count": 1380,
   "metadata": {},
   "outputs": [
    {
     "name": "stdout",
     "output_type": "stream",
     "text": [
      "<class 'pandas.core.frame.DataFrame'>\n",
      "RangeIndex: 13 entries, 0 to 12\n",
      "Data columns (total 12 columns):\n",
      " #   Column       Non-Null Count  Dtype \n",
      "---  ------       --------------  ----- \n",
      " 0   month        13 non-null     object\n",
      " 1   day          13 non-null     object\n",
      " 2   year         13 non-null     object\n",
      " 3   day of week  13 non-null     object\n",
      " 4   time         13 non-null     object\n",
      " 5   homeaway     13 non-null     object\n",
      " 6   opponent     13 non-null     object\n",
      " 7   city         13 non-null     object\n",
      " 8   state        13 non-null     object\n",
      " 9   winloss      13 non-null     object\n",
      " 10  UDscore      13 non-null     int64 \n",
      " 11  oppscore     13 non-null     int64 \n",
      "dtypes: int64(2), object(10)\n",
      "memory usage: 1.3+ KB\n"
     ]
    }
   ],
   "source": [
    "#make UDscore and oppscore columns numeric\n",
    "df['UDscore']=pd.to_numeric(df['UDscore'])\n",
    "df['oppscore']=pd.to_numeric(df['oppscore'])\n",
    "df.info()"
   ]
  },
  {
   "cell_type": "code",
   "execution_count": 1384,
   "metadata": {},
   "outputs": [
    {
     "data": {
      "text/plain": [
       "array(['Aug', 'Sept', 'Sep', 'Oct', 'Nov', 'Dec'], dtype=object)"
      ]
     },
     "execution_count": 1384,
     "metadata": {},
     "output_type": "execute_result"
    },
    {
     "name": "stderr",
     "output_type": "stream",
     "text": [
      "C:\\Users\\E_A_H\\AppData\\Local\\Temp\\ipykernel_3988\\435191618.py:7: FutureWarning: Downcasting behavior in `replace` is deprecated and will be removed in a future version. To retain the old behavior, explicitly call `result.infer_objects(copy=False)`. To opt-in to the future behavior, set `pd.set_option('future.no_silent_downcasting', True)`\n",
      "  df['month']=df['month'].replace('Dec', 12)\n"
     ]
    },
    {
     "data": {
      "text/html": [
       "<div>\n",
       "<style scoped>\n",
       "    .dataframe tbody tr th:only-of-type {\n",
       "        vertical-align: middle;\n",
       "    }\n",
       "\n",
       "    .dataframe tbody tr th {\n",
       "        vertical-align: top;\n",
       "    }\n",
       "\n",
       "    .dataframe thead th {\n",
       "        text-align: right;\n",
       "    }\n",
       "</style>\n",
       "<table border=\"1\" class=\"dataframe\">\n",
       "  <thead>\n",
       "    <tr style=\"text-align: right;\">\n",
       "      <th></th>\n",
       "      <th>month</th>\n",
       "      <th>day</th>\n",
       "      <th>year</th>\n",
       "      <th>day of week</th>\n",
       "      <th>time</th>\n",
       "      <th>homeaway</th>\n",
       "      <th>opponent</th>\n",
       "      <th>city</th>\n",
       "      <th>state</th>\n",
       "      <th>winloss</th>\n",
       "      <th>UDscore</th>\n",
       "      <th>oppscore</th>\n",
       "    </tr>\n",
       "  </thead>\n",
       "  <tbody>\n",
       "    <tr>\n",
       "      <th>0</th>\n",
       "      <td>8</td>\n",
       "      <td>31</td>\n",
       "      <td>2023</td>\n",
       "      <td>(Thu)</td>\n",
       "      <td>7 PM</td>\n",
       "      <td>Away</td>\n",
       "      <td>Stony Brook</td>\n",
       "      <td>Stony Brook</td>\n",
       "      <td>N.Y.</td>\n",
       "      <td>W</td>\n",
       "      <td>37</td>\n",
       "      <td>13</td>\n",
       "    </tr>\n",
       "    <tr>\n",
       "      <th>1</th>\n",
       "      <td>8</td>\n",
       "      <td>9</td>\n",
       "      <td>2023</td>\n",
       "      <td>(Sat)</td>\n",
       "      <td>12 p.m.</td>\n",
       "      <td>Away</td>\n",
       "      <td>Penn State</td>\n",
       "      <td>University Park</td>\n",
       "      <td>Pa.</td>\n",
       "      <td>L</td>\n",
       "      <td>7</td>\n",
       "      <td>63</td>\n",
       "    </tr>\n",
       "    <tr>\n",
       "      <th>2</th>\n",
       "      <td>8</td>\n",
       "      <td>16</td>\n",
       "      <td>2023</td>\n",
       "      <td>(Sat)</td>\n",
       "      <td>6 PM</td>\n",
       "      <td>Home</td>\n",
       "      <td>Saint Francis (Pa.)</td>\n",
       "      <td>Newark</td>\n",
       "      <td>Del.</td>\n",
       "      <td>W</td>\n",
       "      <td>42</td>\n",
       "      <td>14</td>\n",
       "    </tr>\n",
       "    <tr>\n",
       "      <th>3</th>\n",
       "      <td>8</td>\n",
       "      <td>23</td>\n",
       "      <td>2023</td>\n",
       "      <td>(Sat)</td>\n",
       "      <td>6 PM</td>\n",
       "      <td>Home</td>\n",
       "      <td>New Hampshire</td>\n",
       "      <td>Newark</td>\n",
       "      <td>Del.</td>\n",
       "      <td>W</td>\n",
       "      <td>29</td>\n",
       "      <td>25</td>\n",
       "    </tr>\n",
       "    <tr>\n",
       "      <th>4</th>\n",
       "      <td>10</td>\n",
       "      <td>7</td>\n",
       "      <td>2023</td>\n",
       "      <td>(Sat)</td>\n",
       "      <td>3 PM</td>\n",
       "      <td>Home</td>\n",
       "      <td>Duquesne</td>\n",
       "      <td>Newark</td>\n",
       "      <td>Del.</td>\n",
       "      <td>W</td>\n",
       "      <td>43</td>\n",
       "      <td>17</td>\n",
       "    </tr>\n",
       "    <tr>\n",
       "      <th>5</th>\n",
       "      <td>10</td>\n",
       "      <td>14</td>\n",
       "      <td>2023</td>\n",
       "      <td>(Sat)</td>\n",
       "      <td>3 PM</td>\n",
       "      <td>Home</td>\n",
       "      <td>North Carolina A&amp;T</td>\n",
       "      <td>Newark</td>\n",
       "      <td>Del.</td>\n",
       "      <td>W</td>\n",
       "      <td>21</td>\n",
       "      <td>6</td>\n",
       "    </tr>\n",
       "    <tr>\n",
       "      <th>6</th>\n",
       "      <td>10</td>\n",
       "      <td>21</td>\n",
       "      <td>2023</td>\n",
       "      <td>(Sat)</td>\n",
       "      <td>2 PM</td>\n",
       "      <td>Away</td>\n",
       "      <td>Hampton</td>\n",
       "      <td>Hampton</td>\n",
       "      <td>Va.</td>\n",
       "      <td>W</td>\n",
       "      <td>47</td>\n",
       "      <td>3</td>\n",
       "    </tr>\n",
       "    <tr>\n",
       "      <th>7</th>\n",
       "      <td>10</td>\n",
       "      <td>28</td>\n",
       "      <td>2023</td>\n",
       "      <td>(Sat)</td>\n",
       "      <td>1 PM</td>\n",
       "      <td>Away</td>\n",
       "      <td>Towson</td>\n",
       "      <td>Towson</td>\n",
       "      <td>Md.</td>\n",
       "      <td>W</td>\n",
       "      <td>51</td>\n",
       "      <td>13</td>\n",
       "    </tr>\n",
       "    <tr>\n",
       "      <th>8</th>\n",
       "      <td>11</td>\n",
       "      <td>4</td>\n",
       "      <td>2023</td>\n",
       "      <td>(Sat)</td>\n",
       "      <td>1 PM</td>\n",
       "      <td>Home</td>\n",
       "      <td>Elon</td>\n",
       "      <td>Newark</td>\n",
       "      <td>Del.</td>\n",
       "      <td>L</td>\n",
       "      <td>27</td>\n",
       "      <td>33</td>\n",
       "    </tr>\n",
       "    <tr>\n",
       "      <th>9</th>\n",
       "      <td>11</td>\n",
       "      <td>11</td>\n",
       "      <td>2023</td>\n",
       "      <td>(Sat)</td>\n",
       "      <td>1 PM</td>\n",
       "      <td>Away</td>\n",
       "      <td>Campbell</td>\n",
       "      <td>Buies Creek</td>\n",
       "      <td>N.C.</td>\n",
       "      <td>W</td>\n",
       "      <td>45</td>\n",
       "      <td>7</td>\n",
       "    </tr>\n",
       "    <tr>\n",
       "      <th>10</th>\n",
       "      <td>11</td>\n",
       "      <td>18</td>\n",
       "      <td>2023</td>\n",
       "      <td>(Sat)</td>\n",
       "      <td>1 PM</td>\n",
       "      <td>Home</td>\n",
       "      <td>Villanova</td>\n",
       "      <td>Newark</td>\n",
       "      <td>Del.</td>\n",
       "      <td>L</td>\n",
       "      <td>7</td>\n",
       "      <td>35</td>\n",
       "    </tr>\n",
       "    <tr>\n",
       "      <th>11</th>\n",
       "      <td>11</td>\n",
       "      <td>25</td>\n",
       "      <td>2023</td>\n",
       "      <td>(Sat)</td>\n",
       "      <td>2 p.m.</td>\n",
       "      <td>Home</td>\n",
       "      <td>Lafayette</td>\n",
       "      <td>Newark</td>\n",
       "      <td>Del.</td>\n",
       "      <td>W</td>\n",
       "      <td>36</td>\n",
       "      <td>34</td>\n",
       "    </tr>\n",
       "    <tr>\n",
       "      <th>12</th>\n",
       "      <td>12</td>\n",
       "      <td>2</td>\n",
       "      <td>2023</td>\n",
       "      <td>(Sat)</td>\n",
       "      <td>9 p.m.</td>\n",
       "      <td>Away</td>\n",
       "      <td>Montana</td>\n",
       "      <td>Missoula</td>\n",
       "      <td>Mont.</td>\n",
       "      <td>L</td>\n",
       "      <td>19</td>\n",
       "      <td>49</td>\n",
       "    </tr>\n",
       "  </tbody>\n",
       "</table>\n",
       "</div>"
      ],
      "text/plain": [
       "    month day  year day of week     time homeaway             opponent  \\\n",
       "0       8  31  2023       (Thu)     7 PM     Away          Stony Brook   \n",
       "1       8   9  2023       (Sat)  12 p.m.     Away           Penn State   \n",
       "2       8  16  2023       (Sat)     6 PM     Home  Saint Francis (Pa.)   \n",
       "3       8  23  2023       (Sat)     6 PM     Home        New Hampshire   \n",
       "4      10   7  2023       (Sat)     3 PM     Home             Duquesne   \n",
       "5      10  14  2023       (Sat)     3 PM     Home   North Carolina A&T   \n",
       "6      10  21  2023       (Sat)     2 PM     Away              Hampton   \n",
       "7      10  28  2023       (Sat)     1 PM     Away               Towson   \n",
       "8      11   4  2023       (Sat)     1 PM     Home                 Elon   \n",
       "9      11  11  2023       (Sat)     1 PM     Away             Campbell   \n",
       "10     11  18  2023       (Sat)     1 PM     Home            Villanova   \n",
       "11     11  25  2023       (Sat)   2 p.m.     Home            Lafayette   \n",
       "12     12   2  2023       (Sat)   9 p.m.     Away              Montana   \n",
       "\n",
       "               city  state winloss  UDscore  oppscore  \n",
       "0       Stony Brook   N.Y.       W       37        13  \n",
       "1   University Park    Pa.       L        7        63  \n",
       "2            Newark   Del.       W       42        14  \n",
       "3            Newark   Del.       W       29        25  \n",
       "4            Newark   Del.       W       43        17  \n",
       "5            Newark   Del.       W       21         6  \n",
       "6           Hampton    Va.       W       47         3  \n",
       "7            Towson    Md.       W       51        13  \n",
       "8            Newark   Del.       L       27        33  \n",
       "9       Buies Creek   N.C.       W       45         7  \n",
       "10           Newark   Del.       L        7        35  \n",
       "11           Newark   Del.       W       36        34  \n",
       "12         Missoula  Mont.       L       19        49  "
      ]
     },
     "execution_count": 1384,
     "metadata": {},
     "output_type": "execute_result"
    }
   ],
   "source": [
    "#clean up month column\n",
    "df['month'].unique()\n",
    "df['month']=df['month'].replace('Aug', 8)\n",
    "df['month']=df['month'].replace(['Sept','Sep'], 8)\n",
    "df['month']=df['month'].replace('Oct', 10)\n",
    "df['month']=df['month'].replace('Nov', 11)\n",
    "df['month']=df['month'].replace('Dec', 12)\n",
    "df"
   ]
  }
 ],
 "metadata": {
  "kernelspec": {
   "display_name": "Python 3",
   "language": "python",
   "name": "python3"
  },
  "language_info": {
   "codemirror_mode": {
    "name": "ipython",
    "version": 3
   },
   "file_extension": ".py",
   "mimetype": "text/x-python",
   "name": "python",
   "nbconvert_exporter": "python",
   "pygments_lexer": "ipython3",
   "version": "3.12.2"
  }
 },
 "nbformat": 4,
 "nbformat_minor": 2
}
