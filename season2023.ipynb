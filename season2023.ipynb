{
 "cells": [
  {
   "cell_type": "code",
   "execution_count": 1,
   "metadata": {},
   "outputs": [],
   "source": [
    "#Import libraries\n",
    "import requests \n",
    "from lxml import html\n",
    "from IPython.core.interactiveshell import InteractiveShell\n",
    "import pandas as pd\n",
    "import numpy as np\n",
    "#Set Jupyter Notebook to show all output from each cell\n",
    "InteractiveShell.ast_node_interactivity = \"all\"\n",
    "#Scrape UD webpage to get information from 2023 season\n",
    "URL = \"https://admin.bluehens.com/services/schedule_txt.ashx?schedule=4416\" \n",
    "headers={'User-Agent': 'Mozilla/5.0 (Windows NT 10.0; Win64; x64) AppleWebKit/537.36 (KHTML, like Gecko) Chrome/42.0.2311.135 Safari/537.36 Edge/12.246'}\n",
    "r = requests.get(url=URL, headers=headers) \n",
    "#put content into html object\n",
    "mytree = html.fromstring(r.content)\n",
    "#save text from html object to python list\n",
    "season2023 = mytree.xpath('node()')"
   ]
  },
  {
   "cell_type": "code",
   "execution_count": 2,
   "metadata": {},
   "outputs": [
    {
     "data": {
      "text/plain": [
       "['Aug',\n",
       " '31',\n",
       " '(Thu)',\n",
       " '7',\n",
       " 'PM',\n",
       " 'Away',\n",
       " 'Stony',\n",
       " 'Brook',\n",
       " 'Stony',\n",
       " 'Brook',\n",
       " 'N.Y.',\n",
       " 'W',\n",
       " '37-13Sep',\n",
       " '9',\n",
       " '(Sat)',\n",
       " '12',\n",
       " 'p.m.',\n",
       " 'Away',\n",
       " 'Penn',\n",
       " 'State',\n",
       " 'University',\n",
       " 'Park',\n",
       " 'Pa.',\n",
       " 'L',\n",
       " '7-63',\n",
       " 'Sep',\n",
       " '16',\n",
       " '(Sat)',\n",
       " '6',\n",
       " 'PM',\n",
       " 'Home',\n",
       " 'Saint',\n",
       " 'Francis',\n",
       " '(Pa.)',\n",
       " 'Newark',\n",
       " 'Del.',\n",
       " '(Delaware',\n",
       " 'Stadium)',\n",
       " 'W',\n",
       " '42-14Sep',\n",
       " '23',\n",
       " '(Sat)',\n",
       " '6',\n",
       " 'PM',\n",
       " 'Home',\n",
       " 'New',\n",
       " 'Hampshire',\n",
       " 'Newark',\n",
       " 'Del.',\n",
       " '(Delaware',\n",
       " 'Stadium)',\n",
       " 'W',\n",
       " '29-25Oct',\n",
       " '7',\n",
       " '(Sat)',\n",
       " '3',\n",
       " 'PM',\n",
       " 'Home',\n",
       " 'Duquesne',\n",
       " 'Newark',\n",
       " 'Del.',\n",
       " '(Delaware',\n",
       " 'Stadium)',\n",
       " 'W',\n",
       " '43-17Oct',\n",
       " '14',\n",
       " '(Sat)',\n",
       " '3',\n",
       " 'PM',\n",
       " 'Home',\n",
       " 'North',\n",
       " 'Carolina',\n",
       " 'A&T',\n",
       " 'Newark',\n",
       " 'Del.',\n",
       " '(Delaware',\n",
       " 'Stadium)',\n",
       " 'W',\n",
       " '21-6',\n",
       " 'Oct',\n",
       " '21',\n",
       " '(Sat)',\n",
       " '2',\n",
       " 'PM',\n",
       " 'Away',\n",
       " 'Hampton',\n",
       " 'Hampton',\n",
       " 'Va.',\n",
       " 'W',\n",
       " '47-3',\n",
       " 'Oct',\n",
       " '28',\n",
       " '(Sat)',\n",
       " '1',\n",
       " 'PM',\n",
       " 'Away',\n",
       " 'Towson',\n",
       " 'Towson',\n",
       " 'Md.',\n",
       " 'W',\n",
       " '51-13Nov',\n",
       " '4',\n",
       " '(Sat)',\n",
       " '1',\n",
       " 'PM',\n",
       " 'Home',\n",
       " 'Elon',\n",
       " 'Newark',\n",
       " 'Del.',\n",
       " '(Delaware',\n",
       " 'Stadium)',\n",
       " 'L',\n",
       " '27-33Nov',\n",
       " '11',\n",
       " '(Sat)',\n",
       " '1',\n",
       " 'PM',\n",
       " 'Away',\n",
       " 'Campbell',\n",
       " 'Buies',\n",
       " 'Creek',\n",
       " 'N.C.',\n",
       " 'W',\n",
       " '45-7',\n",
       " 'Nov',\n",
       " '18',\n",
       " '(Sat)',\n",
       " '1',\n",
       " 'PM',\n",
       " 'Home',\n",
       " 'Villanova',\n",
       " 'Newark',\n",
       " 'Del.',\n",
       " '(Delaware',\n",
       " 'Stadium)',\n",
       " 'L',\n",
       " '7-35',\n",
       " 'Nov',\n",
       " '25',\n",
       " '(Sat)',\n",
       " '2',\n",
       " 'p.m.',\n",
       " 'Home',\n",
       " 'Lafayette',\n",
       " 'TBD',\n",
       " 'W',\n",
       " '36-34Dec',\n",
       " '2',\n",
       " '(Sat)',\n",
       " '9',\n",
       " 'p.m.',\n",
       " 'Away',\n",
       " '#2',\n",
       " 'Montana',\n",
       " 'Missoula',\n",
       " 'Mont.',\n",
       " 'L',\n",
       " '19-49']"
      ]
     },
     "execution_count": 2,
     "metadata": {},
     "output_type": "execute_result"
    }
   ],
   "source": [
    "#cleaning up Python list with data from all games\n",
    "season2023 = season2023[0].split(\" \")\n",
    "season2023=season2023[102:]\n",
    "season2023=[x.replace(\"\\n\\r\", \"\") for x in season2023]\n",
    "season2023=[y.replace(\",\",\"\") for y in season2023]\n",
    "season2023=[z.strip() for z in season2023]\n",
    "season2023 = list(filter(None, season2023))\n",
    "season2023"
   ]
  },
  {
   "cell_type": "code",
   "execution_count": 3,
   "metadata": {},
   "outputs": [
    {
     "data": {
      "text/plain": [
       "12"
      ]
     },
     "execution_count": 3,
     "metadata": {},
     "output_type": "execute_result"
    },
    {
     "data": {
      "text/plain": [
       "['37-13', 'Sept', '9']"
      ]
     },
     "execution_count": 3,
     "metadata": {},
     "output_type": "execute_result"
    }
   ],
   "source": [
    "#separating score and month of next game\n",
    "season2023.index('37-13Sep')\n",
    "season2023[12] = '37-13'\n",
    "season2023.insert(13, 'Sept')\n",
    "season2023[12:15]"
   ]
  },
  {
   "cell_type": "code",
   "execution_count": 4,
   "metadata": {},
   "outputs": [
    {
     "data": {
      "text/plain": [
       "40"
      ]
     },
     "execution_count": 4,
     "metadata": {},
     "output_type": "execute_result"
    },
    {
     "data": {
      "text/plain": [
       "['42-14', 'Sep', '23']"
      ]
     },
     "execution_count": 4,
     "metadata": {},
     "output_type": "execute_result"
    }
   ],
   "source": [
    "#separating score and month of next game\n",
    "season2023.index('42-14Sep')\n",
    "season2023[40] = '42-14'\n",
    "season2023.insert(41, 'Sep')\n",
    "season2023[40:43]"
   ]
  },
  {
   "cell_type": "code",
   "execution_count": 5,
   "metadata": {},
   "outputs": [
    {
     "data": {
      "text/plain": [
       "54"
      ]
     },
     "execution_count": 5,
     "metadata": {},
     "output_type": "execute_result"
    },
    {
     "data": {
      "text/plain": [
       "['29-25', 'Oct', '7']"
      ]
     },
     "execution_count": 5,
     "metadata": {},
     "output_type": "execute_result"
    }
   ],
   "source": [
    "#separating score and month of next game\n",
    "season2023.index('29-25Oct')\n",
    "season2023[54] = '29-25'\n",
    "season2023.insert(55, 'Oct')\n",
    "season2023[54:57]"
   ]
  },
  {
   "cell_type": "code",
   "execution_count": 6,
   "metadata": {},
   "outputs": [
    {
     "data": {
      "text/plain": [
       "67"
      ]
     },
     "execution_count": 6,
     "metadata": {},
     "output_type": "execute_result"
    },
    {
     "data": {
      "text/plain": [
       "['43-17', 'Oct', '14']"
      ]
     },
     "execution_count": 6,
     "metadata": {},
     "output_type": "execute_result"
    }
   ],
   "source": [
    "#separating score and month of next game\n",
    "season2023.index('43-17Oct')\n",
    "season2023[67] = '43-17'\n",
    "season2023.insert(68, 'Oct')\n",
    "season2023[67:70]"
   ]
  },
  {
   "cell_type": "code",
   "execution_count": 7,
   "metadata": {},
   "outputs": [
    {
     "data": {
      "text/plain": [
       "104"
      ]
     },
     "execution_count": 7,
     "metadata": {},
     "output_type": "execute_result"
    },
    {
     "data": {
      "text/plain": [
       "['51-13', 'Nov', '4']"
      ]
     },
     "execution_count": 7,
     "metadata": {},
     "output_type": "execute_result"
    }
   ],
   "source": [
    "#separating score and month of next game\n",
    "season2023.index('51-13Nov')\n",
    "season2023[104] = '51-13'\n",
    "season2023.insert(105, 'Nov')\n",
    "season2023[104:107]"
   ]
  },
  {
   "cell_type": "code",
   "execution_count": 8,
   "metadata": {},
   "outputs": [
    {
     "data": {
      "text/plain": [
       "117"
      ]
     },
     "execution_count": 8,
     "metadata": {},
     "output_type": "execute_result"
    },
    {
     "data": {
      "text/plain": [
       "['27-33', 'Nov', '11']"
      ]
     },
     "execution_count": 8,
     "metadata": {},
     "output_type": "execute_result"
    }
   ],
   "source": [
    "#separating score and month of next game\n",
    "season2023.index('27-33Nov')\n",
    "season2023[117] = '27-33'\n",
    "season2023.insert(118, 'Nov')\n",
    "season2023[117:120]"
   ]
  },
  {
   "cell_type": "code",
   "execution_count": 9,
   "metadata": {},
   "outputs": [
    {
     "data": {
      "text/plain": [
       "152"
      ]
     },
     "execution_count": 9,
     "metadata": {},
     "output_type": "execute_result"
    },
    {
     "data": {
      "text/plain": [
       "['36-34', 'Dec', '2']"
      ]
     },
     "execution_count": 9,
     "metadata": {},
     "output_type": "execute_result"
    }
   ],
   "source": [
    "#separating score and month of next game\n",
    "season2023.index('36-34Dec')\n",
    "season2023[152] = '36-34'\n",
    "season2023.insert(153, 'Dec')\n",
    "season2023[152:155]"
   ]
  },
  {
   "cell_type": "code",
   "execution_count": 10,
   "metadata": {},
   "outputs": [
    {
     "data": {
      "text/plain": [
       "165"
      ]
     },
     "execution_count": 10,
     "metadata": {},
     "output_type": "execute_result"
    },
    {
     "data": {
      "text/plain": [
       "['Aug',\n",
       " '31',\n",
       " '(Thu)',\n",
       " '7',\n",
       " 'PM',\n",
       " 'Away',\n",
       " 'Stony',\n",
       " 'Brook',\n",
       " 'Stony',\n",
       " 'Brook',\n",
       " 'N.Y.',\n",
       " 'W',\n",
       " '37-13',\n",
       " 'Sept',\n",
       " '9',\n",
       " '(Sat)',\n",
       " '12',\n",
       " 'p.m.',\n",
       " 'Away',\n",
       " 'Penn',\n",
       " 'State',\n",
       " 'University',\n",
       " 'Park',\n",
       " 'Pa.',\n",
       " 'L',\n",
       " '7-63',\n",
       " 'Sep',\n",
       " '16',\n",
       " '(Sat)',\n",
       " '6',\n",
       " 'PM',\n",
       " 'Home',\n",
       " 'Saint',\n",
       " 'Francis',\n",
       " '(Pa.)',\n",
       " 'Newark',\n",
       " 'Del.',\n",
       " '(Delaware',\n",
       " 'Stadium)',\n",
       " 'W',\n",
       " '42-14',\n",
       " 'Sep',\n",
       " '23',\n",
       " '(Sat)',\n",
       " '6',\n",
       " 'PM',\n",
       " 'Home',\n",
       " 'New',\n",
       " 'Hampshire',\n",
       " 'Newark',\n",
       " 'Del.',\n",
       " '(Delaware',\n",
       " 'Stadium)',\n",
       " 'W',\n",
       " '29-25',\n",
       " 'Oct',\n",
       " '7',\n",
       " '(Sat)',\n",
       " '3',\n",
       " 'PM',\n",
       " 'Home',\n",
       " 'Duquesne',\n",
       " 'Newark',\n",
       " 'Del.',\n",
       " '(Delaware',\n",
       " 'Stadium)',\n",
       " 'W',\n",
       " '43-17',\n",
       " 'Oct',\n",
       " '14',\n",
       " '(Sat)',\n",
       " '3',\n",
       " 'PM',\n",
       " 'Home',\n",
       " 'North',\n",
       " 'Carolina',\n",
       " 'A&T',\n",
       " 'Newark',\n",
       " 'Del.',\n",
       " '(Delaware',\n",
       " 'Stadium)',\n",
       " 'W',\n",
       " '21-6',\n",
       " 'Oct',\n",
       " '21',\n",
       " '(Sat)',\n",
       " '2',\n",
       " 'PM',\n",
       " 'Away',\n",
       " 'Hampton',\n",
       " 'Hampton',\n",
       " 'Va.',\n",
       " 'W',\n",
       " '47-3',\n",
       " 'Oct',\n",
       " '28',\n",
       " '(Sat)',\n",
       " '1',\n",
       " 'PM',\n",
       " 'Away',\n",
       " 'Towson',\n",
       " 'Towson',\n",
       " 'Md.',\n",
       " 'W',\n",
       " '51-13',\n",
       " 'Nov',\n",
       " '4',\n",
       " '(Sat)',\n",
       " '1',\n",
       " 'PM',\n",
       " 'Home',\n",
       " 'Elon',\n",
       " 'Newark',\n",
       " 'Del.',\n",
       " '(Delaware',\n",
       " 'Stadium)',\n",
       " 'L',\n",
       " '27-33',\n",
       " 'Nov',\n",
       " '11',\n",
       " '(Sat)',\n",
       " '1',\n",
       " 'PM',\n",
       " 'Away',\n",
       " 'Campbell',\n",
       " 'Buies',\n",
       " 'Creek',\n",
       " 'N.C.',\n",
       " 'W',\n",
       " '45-7',\n",
       " 'Nov',\n",
       " '18',\n",
       " '(Sat)',\n",
       " '1',\n",
       " 'PM',\n",
       " 'Home',\n",
       " 'Villanova',\n",
       " 'Newark',\n",
       " 'Del.',\n",
       " '(Delaware',\n",
       " 'Stadium)',\n",
       " 'L',\n",
       " '7-35',\n",
       " 'Nov',\n",
       " '25',\n",
       " '(Sat)',\n",
       " '2',\n",
       " 'p.m.',\n",
       " 'Home',\n",
       " 'Lafayette',\n",
       " 'TBD',\n",
       " 'W',\n",
       " '36-34',\n",
       " 'Dec',\n",
       " '2',\n",
       " '(Sat)',\n",
       " '9',\n",
       " 'p.m.',\n",
       " 'Away',\n",
       " '#2',\n",
       " 'Montana',\n",
       " 'Missoula',\n",
       " 'Mont.',\n",
       " 'L',\n",
       " '19-49']"
      ]
     },
     "execution_count": 10,
     "metadata": {},
     "output_type": "execute_result"
    }
   ],
   "source": [
    "#get length of list with data from all games\n",
    "len(season2023)\n",
    "season2023"
   ]
  },
  {
   "cell_type": "code",
   "execution_count": 11,
   "metadata": {},
   "outputs": [
    {
     "data": {
      "text/plain": [
       "['Dec',\n",
       " '2',\n",
       " '(Sat)',\n",
       " '9',\n",
       " 'p.m.',\n",
       " 'Away',\n",
       " '#2',\n",
       " 'Montana',\n",
       " 'Missoula',\n",
       " 'Mont.',\n",
       " 'L',\n",
       " '19-49']"
      ]
     },
     "execution_count": 11,
     "metadata": {},
     "output_type": "execute_result"
    }
   ],
   "source": [
    "#create list for Montana game\n",
    "montana = season2023[-12:]\n",
    "montana"
   ]
  },
  {
   "cell_type": "code",
   "execution_count": 12,
   "metadata": {},
   "outputs": [
    {
     "data": {
      "text/plain": [
       "['Aug',\n",
       " '31',\n",
       " '(Thu)',\n",
       " '7',\n",
       " 'PM',\n",
       " 'Away',\n",
       " 'Stony',\n",
       " 'Brook',\n",
       " 'Stony',\n",
       " 'Brook',\n",
       " 'N.Y.',\n",
       " 'W',\n",
       " '37-13',\n",
       " 'Sept',\n",
       " '9',\n",
       " '(Sat)',\n",
       " '12',\n",
       " 'p.m.',\n",
       " 'Away',\n",
       " 'Penn',\n",
       " 'State',\n",
       " 'University',\n",
       " 'Park',\n",
       " 'Pa.',\n",
       " 'L',\n",
       " '7-63',\n",
       " 'Sep',\n",
       " '16',\n",
       " '(Sat)',\n",
       " '6',\n",
       " 'PM',\n",
       " 'Home',\n",
       " 'Saint',\n",
       " 'Francis',\n",
       " '(Pa.)',\n",
       " 'Newark',\n",
       " 'Del.',\n",
       " '(Delaware',\n",
       " 'Stadium)',\n",
       " 'W',\n",
       " '42-14',\n",
       " 'Sep',\n",
       " '23',\n",
       " '(Sat)',\n",
       " '6',\n",
       " 'PM',\n",
       " 'Home',\n",
       " 'New',\n",
       " 'Hampshire',\n",
       " 'Newark',\n",
       " 'Del.',\n",
       " '(Delaware',\n",
       " 'Stadium)',\n",
       " 'W',\n",
       " '29-25',\n",
       " 'Oct',\n",
       " '7',\n",
       " '(Sat)',\n",
       " '3',\n",
       " 'PM',\n",
       " 'Home',\n",
       " 'Duquesne',\n",
       " 'Newark',\n",
       " 'Del.',\n",
       " '(Delaware',\n",
       " 'Stadium)',\n",
       " 'W',\n",
       " '43-17',\n",
       " 'Oct',\n",
       " '14',\n",
       " '(Sat)',\n",
       " '3',\n",
       " 'PM',\n",
       " 'Home',\n",
       " 'North',\n",
       " 'Carolina',\n",
       " 'A&T',\n",
       " 'Newark',\n",
       " 'Del.',\n",
       " '(Delaware',\n",
       " 'Stadium)',\n",
       " 'W',\n",
       " '21-6',\n",
       " 'Oct',\n",
       " '21',\n",
       " '(Sat)',\n",
       " '2',\n",
       " 'PM',\n",
       " 'Away',\n",
       " 'Hampton',\n",
       " 'Hampton',\n",
       " 'Va.',\n",
       " 'W',\n",
       " '47-3',\n",
       " 'Oct',\n",
       " '28',\n",
       " '(Sat)',\n",
       " '1',\n",
       " 'PM',\n",
       " 'Away',\n",
       " 'Towson',\n",
       " 'Towson',\n",
       " 'Md.',\n",
       " 'W',\n",
       " '51-13',\n",
       " 'Nov',\n",
       " '4',\n",
       " '(Sat)',\n",
       " '1',\n",
       " 'PM',\n",
       " 'Home',\n",
       " 'Elon',\n",
       " 'Newark',\n",
       " 'Del.',\n",
       " '(Delaware',\n",
       " 'Stadium)',\n",
       " 'L',\n",
       " '27-33',\n",
       " 'Nov',\n",
       " '11',\n",
       " '(Sat)',\n",
       " '1',\n",
       " 'PM',\n",
       " 'Away',\n",
       " 'Campbell',\n",
       " 'Buies',\n",
       " 'Creek',\n",
       " 'N.C.',\n",
       " 'W',\n",
       " '45-7',\n",
       " 'Nov',\n",
       " '18',\n",
       " '(Sat)',\n",
       " '1',\n",
       " 'PM',\n",
       " 'Home',\n",
       " 'Villanova',\n",
       " 'Newark',\n",
       " 'Del.',\n",
       " '(Delaware',\n",
       " 'Stadium)',\n",
       " 'L',\n",
       " '7-35',\n",
       " 'Nov',\n",
       " '25',\n",
       " '(Sat)',\n",
       " '2',\n",
       " 'p.m.',\n",
       " 'Home',\n",
       " 'Lafayette',\n",
       " 'TBD',\n",
       " 'W',\n",
       " '36-34']"
      ]
     },
     "execution_count": 12,
     "metadata": {},
     "output_type": "execute_result"
    }
   ],
   "source": [
    "#remove Montana game from full season list\n",
    "del season2023[-12:]\n",
    "season2023"
   ]
  },
  {
   "cell_type": "code",
   "execution_count": 13,
   "metadata": {},
   "outputs": [
    {
     "data": {
      "text/plain": [
       "['Nov', '25', '(Sat)', '2', 'p.m.', 'Home', 'Lafayette', 'TBD', 'W', '36-34']"
      ]
     },
     "execution_count": 13,
     "metadata": {},
     "output_type": "execute_result"
    }
   ],
   "source": [
    "#create list for Lafayette game\n",
    "lafayette = season2023[-10:]\n",
    "lafayette"
   ]
  },
  {
   "cell_type": "code",
   "execution_count": 14,
   "metadata": {},
   "outputs": [
    {
     "data": {
      "text/plain": [
       "['Aug',\n",
       " '31',\n",
       " '(Thu)',\n",
       " '7',\n",
       " 'PM',\n",
       " 'Away',\n",
       " 'Stony',\n",
       " 'Brook',\n",
       " 'Stony',\n",
       " 'Brook',\n",
       " 'N.Y.',\n",
       " 'W',\n",
       " '37-13',\n",
       " 'Sept',\n",
       " '9',\n",
       " '(Sat)',\n",
       " '12',\n",
       " 'p.m.',\n",
       " 'Away',\n",
       " 'Penn',\n",
       " 'State',\n",
       " 'University',\n",
       " 'Park',\n",
       " 'Pa.',\n",
       " 'L',\n",
       " '7-63',\n",
       " 'Sep',\n",
       " '16',\n",
       " '(Sat)',\n",
       " '6',\n",
       " 'PM',\n",
       " 'Home',\n",
       " 'Saint',\n",
       " 'Francis',\n",
       " '(Pa.)',\n",
       " 'Newark',\n",
       " 'Del.',\n",
       " '(Delaware',\n",
       " 'Stadium)',\n",
       " 'W',\n",
       " '42-14',\n",
       " 'Sep',\n",
       " '23',\n",
       " '(Sat)',\n",
       " '6',\n",
       " 'PM',\n",
       " 'Home',\n",
       " 'New',\n",
       " 'Hampshire',\n",
       " 'Newark',\n",
       " 'Del.',\n",
       " '(Delaware',\n",
       " 'Stadium)',\n",
       " 'W',\n",
       " '29-25',\n",
       " 'Oct',\n",
       " '7',\n",
       " '(Sat)',\n",
       " '3',\n",
       " 'PM',\n",
       " 'Home',\n",
       " 'Duquesne',\n",
       " 'Newark',\n",
       " 'Del.',\n",
       " '(Delaware',\n",
       " 'Stadium)',\n",
       " 'W',\n",
       " '43-17',\n",
       " 'Oct',\n",
       " '14',\n",
       " '(Sat)',\n",
       " '3',\n",
       " 'PM',\n",
       " 'Home',\n",
       " 'North',\n",
       " 'Carolina',\n",
       " 'A&T',\n",
       " 'Newark',\n",
       " 'Del.',\n",
       " '(Delaware',\n",
       " 'Stadium)',\n",
       " 'W',\n",
       " '21-6',\n",
       " 'Oct',\n",
       " '21',\n",
       " '(Sat)',\n",
       " '2',\n",
       " 'PM',\n",
       " 'Away',\n",
       " 'Hampton',\n",
       " 'Hampton',\n",
       " 'Va.',\n",
       " 'W',\n",
       " '47-3',\n",
       " 'Oct',\n",
       " '28',\n",
       " '(Sat)',\n",
       " '1',\n",
       " 'PM',\n",
       " 'Away',\n",
       " 'Towson',\n",
       " 'Towson',\n",
       " 'Md.',\n",
       " 'W',\n",
       " '51-13',\n",
       " 'Nov',\n",
       " '4',\n",
       " '(Sat)',\n",
       " '1',\n",
       " 'PM',\n",
       " 'Home',\n",
       " 'Elon',\n",
       " 'Newark',\n",
       " 'Del.',\n",
       " '(Delaware',\n",
       " 'Stadium)',\n",
       " 'L',\n",
       " '27-33',\n",
       " 'Nov',\n",
       " '11',\n",
       " '(Sat)',\n",
       " '1',\n",
       " 'PM',\n",
       " 'Away',\n",
       " 'Campbell',\n",
       " 'Buies',\n",
       " 'Creek',\n",
       " 'N.C.',\n",
       " 'W',\n",
       " '45-7',\n",
       " 'Nov',\n",
       " '18',\n",
       " '(Sat)',\n",
       " '1',\n",
       " 'PM',\n",
       " 'Home',\n",
       " 'Villanova',\n",
       " 'Newark',\n",
       " 'Del.',\n",
       " '(Delaware',\n",
       " 'Stadium)',\n",
       " 'L',\n",
       " '7-35']"
      ]
     },
     "execution_count": 14,
     "metadata": {},
     "output_type": "execute_result"
    }
   ],
   "source": [
    "#remove Lafayette game from full season list\n",
    "del season2023[-10:]\n",
    "season2023"
   ]
  },
  {
   "cell_type": "code",
   "execution_count": 15,
   "metadata": {},
   "outputs": [
    {
     "data": {
      "text/plain": [
       "['Nov',\n",
       " '18',\n",
       " '(Sat)',\n",
       " '1',\n",
       " 'PM',\n",
       " 'Home',\n",
       " 'Villanova',\n",
       " 'Newark',\n",
       " 'Del.',\n",
       " '(Delaware',\n",
       " 'Stadium)',\n",
       " 'L',\n",
       " '7-35']"
      ]
     },
     "execution_count": 15,
     "metadata": {},
     "output_type": "execute_result"
    }
   ],
   "source": [
    "#create list for Villanova game\n",
    "villanova = season2023[-13:]\n",
    "villanova"
   ]
  },
  {
   "cell_type": "code",
   "execution_count": 16,
   "metadata": {},
   "outputs": [
    {
     "data": {
      "text/plain": [
       "['Aug',\n",
       " '31',\n",
       " '(Thu)',\n",
       " '7',\n",
       " 'PM',\n",
       " 'Away',\n",
       " 'Stony',\n",
       " 'Brook',\n",
       " 'Stony',\n",
       " 'Brook',\n",
       " 'N.Y.',\n",
       " 'W',\n",
       " '37-13',\n",
       " 'Sept',\n",
       " '9',\n",
       " '(Sat)',\n",
       " '12',\n",
       " 'p.m.',\n",
       " 'Away',\n",
       " 'Penn',\n",
       " 'State',\n",
       " 'University',\n",
       " 'Park',\n",
       " 'Pa.',\n",
       " 'L',\n",
       " '7-63',\n",
       " 'Sep',\n",
       " '16',\n",
       " '(Sat)',\n",
       " '6',\n",
       " 'PM',\n",
       " 'Home',\n",
       " 'Saint',\n",
       " 'Francis',\n",
       " '(Pa.)',\n",
       " 'Newark',\n",
       " 'Del.',\n",
       " '(Delaware',\n",
       " 'Stadium)',\n",
       " 'W',\n",
       " '42-14',\n",
       " 'Sep',\n",
       " '23',\n",
       " '(Sat)',\n",
       " '6',\n",
       " 'PM',\n",
       " 'Home',\n",
       " 'New',\n",
       " 'Hampshire',\n",
       " 'Newark',\n",
       " 'Del.',\n",
       " '(Delaware',\n",
       " 'Stadium)',\n",
       " 'W',\n",
       " '29-25',\n",
       " 'Oct',\n",
       " '7',\n",
       " '(Sat)',\n",
       " '3',\n",
       " 'PM',\n",
       " 'Home',\n",
       " 'Duquesne',\n",
       " 'Newark',\n",
       " 'Del.',\n",
       " '(Delaware',\n",
       " 'Stadium)',\n",
       " 'W',\n",
       " '43-17',\n",
       " 'Oct',\n",
       " '14',\n",
       " '(Sat)',\n",
       " '3',\n",
       " 'PM',\n",
       " 'Home',\n",
       " 'North',\n",
       " 'Carolina',\n",
       " 'A&T',\n",
       " 'Newark',\n",
       " 'Del.',\n",
       " '(Delaware',\n",
       " 'Stadium)',\n",
       " 'W',\n",
       " '21-6',\n",
       " 'Oct',\n",
       " '21',\n",
       " '(Sat)',\n",
       " '2',\n",
       " 'PM',\n",
       " 'Away',\n",
       " 'Hampton',\n",
       " 'Hampton',\n",
       " 'Va.',\n",
       " 'W',\n",
       " '47-3',\n",
       " 'Oct',\n",
       " '28',\n",
       " '(Sat)',\n",
       " '1',\n",
       " 'PM',\n",
       " 'Away',\n",
       " 'Towson',\n",
       " 'Towson',\n",
       " 'Md.',\n",
       " 'W',\n",
       " '51-13',\n",
       " 'Nov',\n",
       " '4',\n",
       " '(Sat)',\n",
       " '1',\n",
       " 'PM',\n",
       " 'Home',\n",
       " 'Elon',\n",
       " 'Newark',\n",
       " 'Del.',\n",
       " '(Delaware',\n",
       " 'Stadium)',\n",
       " 'L',\n",
       " '27-33',\n",
       " 'Nov',\n",
       " '11',\n",
       " '(Sat)',\n",
       " '1',\n",
       " 'PM',\n",
       " 'Away',\n",
       " 'Campbell',\n",
       " 'Buies',\n",
       " 'Creek',\n",
       " 'N.C.',\n",
       " 'W',\n",
       " '45-7']"
      ]
     },
     "execution_count": 16,
     "metadata": {},
     "output_type": "execute_result"
    }
   ],
   "source": [
    "#remove Villanova game from full season list\n",
    "del season2023[-13:]\n",
    "season2023"
   ]
  },
  {
   "cell_type": "code",
   "execution_count": 17,
   "metadata": {},
   "outputs": [
    {
     "data": {
      "text/plain": [
       "['Nov',\n",
       " '11',\n",
       " '(Sat)',\n",
       " '1',\n",
       " 'PM',\n",
       " 'Away',\n",
       " 'Campbell',\n",
       " 'Buies',\n",
       " 'Creek',\n",
       " 'N.C.',\n",
       " 'W',\n",
       " '45-7']"
      ]
     },
     "execution_count": 17,
     "metadata": {},
     "output_type": "execute_result"
    }
   ],
   "source": [
    "#create list for Campbell game\n",
    "campbell = season2023[-12:]\n",
    "campbell"
   ]
  },
  {
   "cell_type": "code",
   "execution_count": 18,
   "metadata": {},
   "outputs": [
    {
     "data": {
      "text/plain": [
       "['Aug',\n",
       " '31',\n",
       " '(Thu)',\n",
       " '7',\n",
       " 'PM',\n",
       " 'Away',\n",
       " 'Stony',\n",
       " 'Brook',\n",
       " 'Stony',\n",
       " 'Brook',\n",
       " 'N.Y.',\n",
       " 'W',\n",
       " '37-13',\n",
       " 'Sept',\n",
       " '9',\n",
       " '(Sat)',\n",
       " '12',\n",
       " 'p.m.',\n",
       " 'Away',\n",
       " 'Penn',\n",
       " 'State',\n",
       " 'University',\n",
       " 'Park',\n",
       " 'Pa.',\n",
       " 'L',\n",
       " '7-63',\n",
       " 'Sep',\n",
       " '16',\n",
       " '(Sat)',\n",
       " '6',\n",
       " 'PM',\n",
       " 'Home',\n",
       " 'Saint',\n",
       " 'Francis',\n",
       " '(Pa.)',\n",
       " 'Newark',\n",
       " 'Del.',\n",
       " '(Delaware',\n",
       " 'Stadium)',\n",
       " 'W',\n",
       " '42-14',\n",
       " 'Sep',\n",
       " '23',\n",
       " '(Sat)',\n",
       " '6',\n",
       " 'PM',\n",
       " 'Home',\n",
       " 'New',\n",
       " 'Hampshire',\n",
       " 'Newark',\n",
       " 'Del.',\n",
       " '(Delaware',\n",
       " 'Stadium)',\n",
       " 'W',\n",
       " '29-25',\n",
       " 'Oct',\n",
       " '7',\n",
       " '(Sat)',\n",
       " '3',\n",
       " 'PM',\n",
       " 'Home',\n",
       " 'Duquesne',\n",
       " 'Newark',\n",
       " 'Del.',\n",
       " '(Delaware',\n",
       " 'Stadium)',\n",
       " 'W',\n",
       " '43-17',\n",
       " 'Oct',\n",
       " '14',\n",
       " '(Sat)',\n",
       " '3',\n",
       " 'PM',\n",
       " 'Home',\n",
       " 'North',\n",
       " 'Carolina',\n",
       " 'A&T',\n",
       " 'Newark',\n",
       " 'Del.',\n",
       " '(Delaware',\n",
       " 'Stadium)',\n",
       " 'W',\n",
       " '21-6',\n",
       " 'Oct',\n",
       " '21',\n",
       " '(Sat)',\n",
       " '2',\n",
       " 'PM',\n",
       " 'Away',\n",
       " 'Hampton',\n",
       " 'Hampton',\n",
       " 'Va.',\n",
       " 'W',\n",
       " '47-3',\n",
       " 'Oct',\n",
       " '28',\n",
       " '(Sat)',\n",
       " '1',\n",
       " 'PM',\n",
       " 'Away',\n",
       " 'Towson',\n",
       " 'Towson',\n",
       " 'Md.',\n",
       " 'W',\n",
       " '51-13',\n",
       " 'Nov',\n",
       " '4',\n",
       " '(Sat)',\n",
       " '1',\n",
       " 'PM',\n",
       " 'Home',\n",
       " 'Elon',\n",
       " 'Newark',\n",
       " 'Del.',\n",
       " '(Delaware',\n",
       " 'Stadium)',\n",
       " 'L',\n",
       " '27-33']"
      ]
     },
     "execution_count": 18,
     "metadata": {},
     "output_type": "execute_result"
    }
   ],
   "source": [
    "#remove Campbell game from full season list\n",
    "del season2023[-12:]\n",
    "season2023"
   ]
  },
  {
   "cell_type": "code",
   "execution_count": 19,
   "metadata": {},
   "outputs": [
    {
     "data": {
      "text/plain": [
       "['Nov',\n",
       " '4',\n",
       " '(Sat)',\n",
       " '1',\n",
       " 'PM',\n",
       " 'Home',\n",
       " 'Elon',\n",
       " 'Newark',\n",
       " 'Del.',\n",
       " '(Delaware',\n",
       " 'Stadium)',\n",
       " 'L',\n",
       " '27-33']"
      ]
     },
     "execution_count": 19,
     "metadata": {},
     "output_type": "execute_result"
    }
   ],
   "source": [
    "#create list for Elon game\n",
    "elon = season2023[-13:]\n",
    "elon"
   ]
  },
  {
   "cell_type": "code",
   "execution_count": 20,
   "metadata": {},
   "outputs": [
    {
     "data": {
      "text/plain": [
       "['Aug',\n",
       " '31',\n",
       " '(Thu)',\n",
       " '7',\n",
       " 'PM',\n",
       " 'Away',\n",
       " 'Stony',\n",
       " 'Brook',\n",
       " 'Stony',\n",
       " 'Brook',\n",
       " 'N.Y.',\n",
       " 'W',\n",
       " '37-13',\n",
       " 'Sept',\n",
       " '9',\n",
       " '(Sat)',\n",
       " '12',\n",
       " 'p.m.',\n",
       " 'Away',\n",
       " 'Penn',\n",
       " 'State',\n",
       " 'University',\n",
       " 'Park',\n",
       " 'Pa.',\n",
       " 'L',\n",
       " '7-63',\n",
       " 'Sep',\n",
       " '16',\n",
       " '(Sat)',\n",
       " '6',\n",
       " 'PM',\n",
       " 'Home',\n",
       " 'Saint',\n",
       " 'Francis',\n",
       " '(Pa.)',\n",
       " 'Newark',\n",
       " 'Del.',\n",
       " '(Delaware',\n",
       " 'Stadium)',\n",
       " 'W',\n",
       " '42-14',\n",
       " 'Sep',\n",
       " '23',\n",
       " '(Sat)',\n",
       " '6',\n",
       " 'PM',\n",
       " 'Home',\n",
       " 'New',\n",
       " 'Hampshire',\n",
       " 'Newark',\n",
       " 'Del.',\n",
       " '(Delaware',\n",
       " 'Stadium)',\n",
       " 'W',\n",
       " '29-25',\n",
       " 'Oct',\n",
       " '7',\n",
       " '(Sat)',\n",
       " '3',\n",
       " 'PM',\n",
       " 'Home',\n",
       " 'Duquesne',\n",
       " 'Newark',\n",
       " 'Del.',\n",
       " '(Delaware',\n",
       " 'Stadium)',\n",
       " 'W',\n",
       " '43-17',\n",
       " 'Oct',\n",
       " '14',\n",
       " '(Sat)',\n",
       " '3',\n",
       " 'PM',\n",
       " 'Home',\n",
       " 'North',\n",
       " 'Carolina',\n",
       " 'A&T',\n",
       " 'Newark',\n",
       " 'Del.',\n",
       " '(Delaware',\n",
       " 'Stadium)',\n",
       " 'W',\n",
       " '21-6',\n",
       " 'Oct',\n",
       " '21',\n",
       " '(Sat)',\n",
       " '2',\n",
       " 'PM',\n",
       " 'Away',\n",
       " 'Hampton',\n",
       " 'Hampton',\n",
       " 'Va.',\n",
       " 'W',\n",
       " '47-3',\n",
       " 'Oct',\n",
       " '28',\n",
       " '(Sat)',\n",
       " '1',\n",
       " 'PM',\n",
       " 'Away',\n",
       " 'Towson',\n",
       " 'Towson',\n",
       " 'Md.',\n",
       " 'W',\n",
       " '51-13']"
      ]
     },
     "execution_count": 20,
     "metadata": {},
     "output_type": "execute_result"
    }
   ],
   "source": [
    "#remove Elon game from full season list\n",
    "del season2023[-13:]\n",
    "season2023"
   ]
  },
  {
   "cell_type": "code",
   "execution_count": 21,
   "metadata": {},
   "outputs": [
    {
     "data": {
      "text/plain": [
       "['Oct',\n",
       " '28',\n",
       " '(Sat)',\n",
       " '1',\n",
       " 'PM',\n",
       " 'Away',\n",
       " 'Towson',\n",
       " 'Towson',\n",
       " 'Md.',\n",
       " 'W',\n",
       " '51-13']"
      ]
     },
     "execution_count": 21,
     "metadata": {},
     "output_type": "execute_result"
    }
   ],
   "source": [
    "#create list for Towson game\n",
    "towson = season2023[-11:]\n",
    "towson"
   ]
  },
  {
   "cell_type": "code",
   "execution_count": 22,
   "metadata": {},
   "outputs": [
    {
     "data": {
      "text/plain": [
       "['Aug',\n",
       " '31',\n",
       " '(Thu)',\n",
       " '7',\n",
       " 'PM',\n",
       " 'Away',\n",
       " 'Stony',\n",
       " 'Brook',\n",
       " 'Stony',\n",
       " 'Brook',\n",
       " 'N.Y.',\n",
       " 'W',\n",
       " '37-13',\n",
       " 'Sept',\n",
       " '9',\n",
       " '(Sat)',\n",
       " '12',\n",
       " 'p.m.',\n",
       " 'Away',\n",
       " 'Penn',\n",
       " 'State',\n",
       " 'University',\n",
       " 'Park',\n",
       " 'Pa.',\n",
       " 'L',\n",
       " '7-63',\n",
       " 'Sep',\n",
       " '16',\n",
       " '(Sat)',\n",
       " '6',\n",
       " 'PM',\n",
       " 'Home',\n",
       " 'Saint',\n",
       " 'Francis',\n",
       " '(Pa.)',\n",
       " 'Newark',\n",
       " 'Del.',\n",
       " '(Delaware',\n",
       " 'Stadium)',\n",
       " 'W',\n",
       " '42-14',\n",
       " 'Sep',\n",
       " '23',\n",
       " '(Sat)',\n",
       " '6',\n",
       " 'PM',\n",
       " 'Home',\n",
       " 'New',\n",
       " 'Hampshire',\n",
       " 'Newark',\n",
       " 'Del.',\n",
       " '(Delaware',\n",
       " 'Stadium)',\n",
       " 'W',\n",
       " '29-25',\n",
       " 'Oct',\n",
       " '7',\n",
       " '(Sat)',\n",
       " '3',\n",
       " 'PM',\n",
       " 'Home',\n",
       " 'Duquesne',\n",
       " 'Newark',\n",
       " 'Del.',\n",
       " '(Delaware',\n",
       " 'Stadium)',\n",
       " 'W',\n",
       " '43-17',\n",
       " 'Oct',\n",
       " '14',\n",
       " '(Sat)',\n",
       " '3',\n",
       " 'PM',\n",
       " 'Home',\n",
       " 'North',\n",
       " 'Carolina',\n",
       " 'A&T',\n",
       " 'Newark',\n",
       " 'Del.',\n",
       " '(Delaware',\n",
       " 'Stadium)',\n",
       " 'W',\n",
       " '21-6',\n",
       " 'Oct',\n",
       " '21',\n",
       " '(Sat)',\n",
       " '2',\n",
       " 'PM',\n",
       " 'Away',\n",
       " 'Hampton',\n",
       " 'Hampton',\n",
       " 'Va.',\n",
       " 'W',\n",
       " '47-3']"
      ]
     },
     "execution_count": 22,
     "metadata": {},
     "output_type": "execute_result"
    }
   ],
   "source": [
    "#remove Towson game from full season list\n",
    "del season2023[-11:]\n",
    "season2023"
   ]
  },
  {
   "cell_type": "code",
   "execution_count": 23,
   "metadata": {},
   "outputs": [
    {
     "data": {
      "text/plain": [
       "['Oct',\n",
       " '21',\n",
       " '(Sat)',\n",
       " '2',\n",
       " 'PM',\n",
       " 'Away',\n",
       " 'Hampton',\n",
       " 'Hampton',\n",
       " 'Va.',\n",
       " 'W',\n",
       " '47-3']"
      ]
     },
     "execution_count": 23,
     "metadata": {},
     "output_type": "execute_result"
    }
   ],
   "source": [
    "#create list for Hampton game\n",
    "hampton = season2023[-11:]\n",
    "hampton"
   ]
  },
  {
   "cell_type": "code",
   "execution_count": 24,
   "metadata": {},
   "outputs": [
    {
     "data": {
      "text/plain": [
       "['Aug',\n",
       " '31',\n",
       " '(Thu)',\n",
       " '7',\n",
       " 'PM',\n",
       " 'Away',\n",
       " 'Stony',\n",
       " 'Brook',\n",
       " 'Stony',\n",
       " 'Brook',\n",
       " 'N.Y.',\n",
       " 'W',\n",
       " '37-13',\n",
       " 'Sept',\n",
       " '9',\n",
       " '(Sat)',\n",
       " '12',\n",
       " 'p.m.',\n",
       " 'Away',\n",
       " 'Penn',\n",
       " 'State',\n",
       " 'University',\n",
       " 'Park',\n",
       " 'Pa.',\n",
       " 'L',\n",
       " '7-63',\n",
       " 'Sep',\n",
       " '16',\n",
       " '(Sat)',\n",
       " '6',\n",
       " 'PM',\n",
       " 'Home',\n",
       " 'Saint',\n",
       " 'Francis',\n",
       " '(Pa.)',\n",
       " 'Newark',\n",
       " 'Del.',\n",
       " '(Delaware',\n",
       " 'Stadium)',\n",
       " 'W',\n",
       " '42-14',\n",
       " 'Sep',\n",
       " '23',\n",
       " '(Sat)',\n",
       " '6',\n",
       " 'PM',\n",
       " 'Home',\n",
       " 'New',\n",
       " 'Hampshire',\n",
       " 'Newark',\n",
       " 'Del.',\n",
       " '(Delaware',\n",
       " 'Stadium)',\n",
       " 'W',\n",
       " '29-25',\n",
       " 'Oct',\n",
       " '7',\n",
       " '(Sat)',\n",
       " '3',\n",
       " 'PM',\n",
       " 'Home',\n",
       " 'Duquesne',\n",
       " 'Newark',\n",
       " 'Del.',\n",
       " '(Delaware',\n",
       " 'Stadium)',\n",
       " 'W',\n",
       " '43-17',\n",
       " 'Oct',\n",
       " '14',\n",
       " '(Sat)',\n",
       " '3',\n",
       " 'PM',\n",
       " 'Home',\n",
       " 'North',\n",
       " 'Carolina',\n",
       " 'A&T',\n",
       " 'Newark',\n",
       " 'Del.',\n",
       " '(Delaware',\n",
       " 'Stadium)',\n",
       " 'W',\n",
       " '21-6']"
      ]
     },
     "execution_count": 24,
     "metadata": {},
     "output_type": "execute_result"
    }
   ],
   "source": [
    "#remove Hampton game from full season list\n",
    "del season2023[-11:]\n",
    "season2023"
   ]
  },
  {
   "cell_type": "code",
   "execution_count": 25,
   "metadata": {},
   "outputs": [
    {
     "data": {
      "text/plain": [
       "['Oct',\n",
       " '14',\n",
       " '(Sat)',\n",
       " '3',\n",
       " 'PM',\n",
       " 'Home',\n",
       " 'North',\n",
       " 'Carolina',\n",
       " 'A&T',\n",
       " 'Newark',\n",
       " 'Del.',\n",
       " '(Delaware',\n",
       " 'Stadium)',\n",
       " 'W',\n",
       " '21-6']"
      ]
     },
     "execution_count": 25,
     "metadata": {},
     "output_type": "execute_result"
    }
   ],
   "source": [
    "#create list for North Carolina A&T game\n",
    "ncat = season2023[-15:]\n",
    "ncat"
   ]
  },
  {
   "cell_type": "code",
   "execution_count": 26,
   "metadata": {},
   "outputs": [
    {
     "data": {
      "text/plain": [
       "['Aug',\n",
       " '31',\n",
       " '(Thu)',\n",
       " '7',\n",
       " 'PM',\n",
       " 'Away',\n",
       " 'Stony',\n",
       " 'Brook',\n",
       " 'Stony',\n",
       " 'Brook',\n",
       " 'N.Y.',\n",
       " 'W',\n",
       " '37-13',\n",
       " 'Sept',\n",
       " '9',\n",
       " '(Sat)',\n",
       " '12',\n",
       " 'p.m.',\n",
       " 'Away',\n",
       " 'Penn',\n",
       " 'State',\n",
       " 'University',\n",
       " 'Park',\n",
       " 'Pa.',\n",
       " 'L',\n",
       " '7-63',\n",
       " 'Sep',\n",
       " '16',\n",
       " '(Sat)',\n",
       " '6',\n",
       " 'PM',\n",
       " 'Home',\n",
       " 'Saint',\n",
       " 'Francis',\n",
       " '(Pa.)',\n",
       " 'Newark',\n",
       " 'Del.',\n",
       " '(Delaware',\n",
       " 'Stadium)',\n",
       " 'W',\n",
       " '42-14',\n",
       " 'Sep',\n",
       " '23',\n",
       " '(Sat)',\n",
       " '6',\n",
       " 'PM',\n",
       " 'Home',\n",
       " 'New',\n",
       " 'Hampshire',\n",
       " 'Newark',\n",
       " 'Del.',\n",
       " '(Delaware',\n",
       " 'Stadium)',\n",
       " 'W',\n",
       " '29-25',\n",
       " 'Oct',\n",
       " '7',\n",
       " '(Sat)',\n",
       " '3',\n",
       " 'PM',\n",
       " 'Home',\n",
       " 'Duquesne',\n",
       " 'Newark',\n",
       " 'Del.',\n",
       " '(Delaware',\n",
       " 'Stadium)',\n",
       " 'W',\n",
       " '43-17']"
      ]
     },
     "execution_count": 26,
     "metadata": {},
     "output_type": "execute_result"
    }
   ],
   "source": [
    "#remove North Carolina A&T game from full season list\n",
    "del season2023[-15:]\n",
    "season2023"
   ]
  },
  {
   "cell_type": "code",
   "execution_count": 27,
   "metadata": {},
   "outputs": [
    {
     "data": {
      "text/plain": [
       "['Oct',\n",
       " '7',\n",
       " '(Sat)',\n",
       " '3',\n",
       " 'PM',\n",
       " 'Home',\n",
       " 'Duquesne',\n",
       " 'Newark',\n",
       " 'Del.',\n",
       " '(Delaware',\n",
       " 'Stadium)',\n",
       " 'W',\n",
       " '43-17']"
      ]
     },
     "execution_count": 27,
     "metadata": {},
     "output_type": "execute_result"
    }
   ],
   "source": [
    "#create list for Duquesne game\n",
    "duquesne = season2023[-13:]\n",
    "duquesne"
   ]
  },
  {
   "cell_type": "code",
   "execution_count": 28,
   "metadata": {},
   "outputs": [
    {
     "data": {
      "text/plain": [
       "['Aug',\n",
       " '31',\n",
       " '(Thu)',\n",
       " '7',\n",
       " 'PM',\n",
       " 'Away',\n",
       " 'Stony',\n",
       " 'Brook',\n",
       " 'Stony',\n",
       " 'Brook',\n",
       " 'N.Y.',\n",
       " 'W',\n",
       " '37-13',\n",
       " 'Sept',\n",
       " '9',\n",
       " '(Sat)',\n",
       " '12',\n",
       " 'p.m.',\n",
       " 'Away',\n",
       " 'Penn',\n",
       " 'State',\n",
       " 'University',\n",
       " 'Park',\n",
       " 'Pa.',\n",
       " 'L',\n",
       " '7-63',\n",
       " 'Sep',\n",
       " '16',\n",
       " '(Sat)',\n",
       " '6',\n",
       " 'PM',\n",
       " 'Home',\n",
       " 'Saint',\n",
       " 'Francis',\n",
       " '(Pa.)',\n",
       " 'Newark',\n",
       " 'Del.',\n",
       " '(Delaware',\n",
       " 'Stadium)',\n",
       " 'W',\n",
       " '42-14',\n",
       " 'Sep',\n",
       " '23',\n",
       " '(Sat)',\n",
       " '6',\n",
       " 'PM',\n",
       " 'Home',\n",
       " 'New',\n",
       " 'Hampshire',\n",
       " 'Newark',\n",
       " 'Del.',\n",
       " '(Delaware',\n",
       " 'Stadium)',\n",
       " 'W',\n",
       " '29-25']"
      ]
     },
     "execution_count": 28,
     "metadata": {},
     "output_type": "execute_result"
    }
   ],
   "source": [
    "#Remove Duquesne game from full seaason list\n",
    "del season2023[-13:]\n",
    "season2023"
   ]
  },
  {
   "cell_type": "code",
   "execution_count": 29,
   "metadata": {},
   "outputs": [
    {
     "data": {
      "text/plain": [
       "['Sep',\n",
       " '23',\n",
       " '(Sat)',\n",
       " '6',\n",
       " 'PM',\n",
       " 'Home',\n",
       " 'New',\n",
       " 'Hampshire',\n",
       " 'Newark',\n",
       " 'Del.',\n",
       " '(Delaware',\n",
       " 'Stadium)',\n",
       " 'W',\n",
       " '29-25']"
      ]
     },
     "execution_count": 29,
     "metadata": {},
     "output_type": "execute_result"
    }
   ],
   "source": [
    "#create list for New Hampshire game\n",
    "newhampshire = season2023[-14:]\n",
    "newhampshire"
   ]
  },
  {
   "cell_type": "code",
   "execution_count": 30,
   "metadata": {},
   "outputs": [
    {
     "data": {
      "text/plain": [
       "['Aug',\n",
       " '31',\n",
       " '(Thu)',\n",
       " '7',\n",
       " 'PM',\n",
       " 'Away',\n",
       " 'Stony',\n",
       " 'Brook',\n",
       " 'Stony',\n",
       " 'Brook',\n",
       " 'N.Y.',\n",
       " 'W',\n",
       " '37-13',\n",
       " 'Sept',\n",
       " '9',\n",
       " '(Sat)',\n",
       " '12',\n",
       " 'p.m.',\n",
       " 'Away',\n",
       " 'Penn',\n",
       " 'State',\n",
       " 'University',\n",
       " 'Park',\n",
       " 'Pa.',\n",
       " 'L',\n",
       " '7-63',\n",
       " 'Sep',\n",
       " '16',\n",
       " '(Sat)',\n",
       " '6',\n",
       " 'PM',\n",
       " 'Home',\n",
       " 'Saint',\n",
       " 'Francis',\n",
       " '(Pa.)',\n",
       " 'Newark',\n",
       " 'Del.',\n",
       " '(Delaware',\n",
       " 'Stadium)',\n",
       " 'W',\n",
       " '42-14']"
      ]
     },
     "execution_count": 30,
     "metadata": {},
     "output_type": "execute_result"
    }
   ],
   "source": [
    "#remove New Hampshire game from full season list\n",
    "del season2023[-14:]\n",
    "season2023"
   ]
  },
  {
   "cell_type": "code",
   "execution_count": 31,
   "metadata": {},
   "outputs": [
    {
     "data": {
      "text/plain": [
       "['Sep',\n",
       " '16',\n",
       " '(Sat)',\n",
       " '6',\n",
       " 'PM',\n",
       " 'Home',\n",
       " 'Saint',\n",
       " 'Francis',\n",
       " '(Pa.)',\n",
       " 'Newark',\n",
       " 'Del.',\n",
       " '(Delaware',\n",
       " 'Stadium)',\n",
       " 'W',\n",
       " '42-14']"
      ]
     },
     "execution_count": 31,
     "metadata": {},
     "output_type": "execute_result"
    }
   ],
   "source": [
    "#create list for Saint Francis game\n",
    "saintfrancis = season2023[-15:]\n",
    "saintfrancis"
   ]
  },
  {
   "cell_type": "code",
   "execution_count": 32,
   "metadata": {},
   "outputs": [
    {
     "data": {
      "text/plain": [
       "['Aug',\n",
       " '31',\n",
       " '(Thu)',\n",
       " '7',\n",
       " 'PM',\n",
       " 'Away',\n",
       " 'Stony',\n",
       " 'Brook',\n",
       " 'Stony',\n",
       " 'Brook',\n",
       " 'N.Y.',\n",
       " 'W',\n",
       " '37-13',\n",
       " 'Sept',\n",
       " '9',\n",
       " '(Sat)',\n",
       " '12',\n",
       " 'p.m.',\n",
       " 'Away',\n",
       " 'Penn',\n",
       " 'State',\n",
       " 'University',\n",
       " 'Park',\n",
       " 'Pa.',\n",
       " 'L',\n",
       " '7-63']"
      ]
     },
     "execution_count": 32,
     "metadata": {},
     "output_type": "execute_result"
    }
   ],
   "source": [
    "#remove Saint Francis game from full season list\n",
    "del season2023[-15:]\n",
    "season2023"
   ]
  },
  {
   "cell_type": "code",
   "execution_count": 33,
   "metadata": {},
   "outputs": [
    {
     "data": {
      "text/plain": [
       "['Sept',\n",
       " '9',\n",
       " '(Sat)',\n",
       " '12',\n",
       " 'p.m.',\n",
       " 'Away',\n",
       " 'Penn',\n",
       " 'State',\n",
       " 'University',\n",
       " 'Park',\n",
       " 'Pa.',\n",
       " 'L',\n",
       " '7-63']"
      ]
     },
     "execution_count": 33,
     "metadata": {},
     "output_type": "execute_result"
    }
   ],
   "source": [
    "#create list for Penn State game\n",
    "pennstate = season2023[-13:]\n",
    "pennstate"
   ]
  },
  {
   "cell_type": "code",
   "execution_count": 34,
   "metadata": {},
   "outputs": [
    {
     "data": {
      "text/plain": [
       "['Aug',\n",
       " '31',\n",
       " '(Thu)',\n",
       " '7',\n",
       " 'PM',\n",
       " 'Away',\n",
       " 'Stony',\n",
       " 'Brook',\n",
       " 'Stony',\n",
       " 'Brook',\n",
       " 'N.Y.',\n",
       " 'W',\n",
       " '37-13']"
      ]
     },
     "execution_count": 34,
     "metadata": {},
     "output_type": "execute_result"
    }
   ],
   "source": [
    "#remove Penn State game from full season list\n",
    "del season2023[-13:]\n",
    "season2023"
   ]
  },
  {
   "cell_type": "code",
   "execution_count": 35,
   "metadata": {},
   "outputs": [
    {
     "data": {
      "text/plain": [
       "['Aug',\n",
       " '31',\n",
       " '(Thu)',\n",
       " '7',\n",
       " 'PM',\n",
       " 'Away',\n",
       " 'Stony',\n",
       " 'Brook',\n",
       " 'Stony',\n",
       " 'Brook',\n",
       " 'N.Y.',\n",
       " 'W',\n",
       " '37-13']"
      ]
     },
     "execution_count": 35,
     "metadata": {},
     "output_type": "execute_result"
    }
   ],
   "source": [
    "#create list for Stony Brook game\n",
    "stonybrook = season2023\n",
    "stonybrook"
   ]
  },
  {
   "cell_type": "code",
   "execution_count": 36,
   "metadata": {},
   "outputs": [
    {
     "data": {
      "text/plain": [
       "13"
      ]
     },
     "execution_count": 36,
     "metadata": {},
     "output_type": "execute_result"
    },
    {
     "data": {
      "text/plain": [
       "13"
      ]
     },
     "execution_count": 36,
     "metadata": {},
     "output_type": "execute_result"
    },
    {
     "data": {
      "text/plain": [
       "15"
      ]
     },
     "execution_count": 36,
     "metadata": {},
     "output_type": "execute_result"
    },
    {
     "data": {
      "text/plain": [
       "14"
      ]
     },
     "execution_count": 36,
     "metadata": {},
     "output_type": "execute_result"
    },
    {
     "data": {
      "text/plain": [
       "13"
      ]
     },
     "execution_count": 36,
     "metadata": {},
     "output_type": "execute_result"
    },
    {
     "data": {
      "text/plain": [
       "15"
      ]
     },
     "execution_count": 36,
     "metadata": {},
     "output_type": "execute_result"
    },
    {
     "data": {
      "text/plain": [
       "11"
      ]
     },
     "execution_count": 36,
     "metadata": {},
     "output_type": "execute_result"
    },
    {
     "data": {
      "text/plain": [
       "11"
      ]
     },
     "execution_count": 36,
     "metadata": {},
     "output_type": "execute_result"
    },
    {
     "data": {
      "text/plain": [
       "13"
      ]
     },
     "execution_count": 36,
     "metadata": {},
     "output_type": "execute_result"
    },
    {
     "data": {
      "text/plain": [
       "12"
      ]
     },
     "execution_count": 36,
     "metadata": {},
     "output_type": "execute_result"
    },
    {
     "data": {
      "text/plain": [
       "13"
      ]
     },
     "execution_count": 36,
     "metadata": {},
     "output_type": "execute_result"
    },
    {
     "data": {
      "text/plain": [
       "10"
      ]
     },
     "execution_count": 36,
     "metadata": {},
     "output_type": "execute_result"
    },
    {
     "data": {
      "text/plain": [
       "12"
      ]
     },
     "execution_count": 36,
     "metadata": {},
     "output_type": "execute_result"
    }
   ],
   "source": [
    "#get length of list for each game\n",
    "len(stonybrook)\n",
    "len(pennstate)\n",
    "len(saintfrancis)\n",
    "len(newhampshire)\n",
    "len(duquesne)\n",
    "len(ncat)\n",
    "len(hampton)\n",
    "len(towson)\n",
    "len(elon)\n",
    "len(campbell)\n",
    "len(villanova)\n",
    "len(lafayette)\n",
    "len(montana)"
   ]
  },
  {
   "cell_type": "code",
   "execution_count": 37,
   "metadata": {},
   "outputs": [
    {
     "data": {
      "text/plain": [
       "['Aug',\n",
       " '31',\n",
       " '(Thu)',\n",
       " '7',\n",
       " 'PM',\n",
       " 'Away',\n",
       " 'Stony',\n",
       " 'Brook',\n",
       " 'Stony',\n",
       " 'Brook',\n",
       " 'N.Y.',\n",
       " 'W',\n",
       " '37-13']"
      ]
     },
     "execution_count": 37,
     "metadata": {},
     "output_type": "execute_result"
    }
   ],
   "source": [
    "#list for Stony Brook game\n",
    "stonybrook"
   ]
  },
  {
   "cell_type": "code",
   "execution_count": 38,
   "metadata": {},
   "outputs": [
    {
     "data": {
      "text/plain": [
       "12"
      ]
     },
     "execution_count": 38,
     "metadata": {},
     "output_type": "execute_result"
    },
    {
     "data": {
      "text/plain": [
       "['Aug',\n",
       " '31',\n",
       " '2023',\n",
       " '(Thu)',\n",
       " '7 PM',\n",
       " 'Away',\n",
       " 'Stony Brook',\n",
       " 'Stony Brook',\n",
       " 'N.Y.',\n",
       " 'W',\n",
       " '37',\n",
       " '13']"
      ]
     },
     "execution_count": 38,
     "metadata": {},
     "output_type": "execute_result"
    }
   ],
   "source": [
    "#clean up Stony Brook list\n",
    "stonybrook.insert(2,'2023') \n",
    "stonybrook[4:6] = [' '.join(stonybrook[4:6])]\n",
    "stonybrook[6:8] = [' '.join(stonybrook[6:8])]\n",
    "stonybrook[7:9] = [' '.join(stonybrook[7:9])]\n",
    "stonybrook[-1:] = stonybrook[-1].split('-')\n",
    "len(stonybrook)\n",
    "stonybrook\n"
   ]
  },
  {
   "cell_type": "code",
   "execution_count": 39,
   "metadata": {},
   "outputs": [
    {
     "data": {
      "text/plain": [
       "['Sept',\n",
       " '9',\n",
       " '(Sat)',\n",
       " '12',\n",
       " 'p.m.',\n",
       " 'Away',\n",
       " 'Penn',\n",
       " 'State',\n",
       " 'University',\n",
       " 'Park',\n",
       " 'Pa.',\n",
       " 'L',\n",
       " '7-63']"
      ]
     },
     "execution_count": 39,
     "metadata": {},
     "output_type": "execute_result"
    }
   ],
   "source": [
    "#list for Penn State game\n",
    "pennstate"
   ]
  },
  {
   "cell_type": "code",
   "execution_count": 40,
   "metadata": {},
   "outputs": [
    {
     "data": {
      "text/plain": [
       "12"
      ]
     },
     "execution_count": 40,
     "metadata": {},
     "output_type": "execute_result"
    },
    {
     "data": {
      "text/plain": [
       "['Sept',\n",
       " '9',\n",
       " '2023',\n",
       " '(Sat)',\n",
       " '12 p.m.',\n",
       " 'Away',\n",
       " 'Penn State',\n",
       " 'University Park',\n",
       " 'Pa.',\n",
       " 'L',\n",
       " '7',\n",
       " '63']"
      ]
     },
     "execution_count": 40,
     "metadata": {},
     "output_type": "execute_result"
    }
   ],
   "source": [
    "#clean up Penn State list\n",
    "pennstate.insert(2,'2023')\n",
    "pennstate[4:6 ]= [' '.join(pennstate[4:6])]\n",
    "pennstate[6:8] = [' '.join(pennstate[6:8])]\n",
    "pennstate[7:9] = [' '.join(pennstate[7:9])]\n",
    "pennstate[-1:] = pennstate[-1].split('-')\n",
    "len(pennstate)\n",
    "pennstate"
   ]
  },
  {
   "cell_type": "code",
   "execution_count": 41,
   "metadata": {},
   "outputs": [
    {
     "data": {
      "text/plain": [
       "['Sep',\n",
       " '16',\n",
       " '(Sat)',\n",
       " '6',\n",
       " 'PM',\n",
       " 'Home',\n",
       " 'Saint',\n",
       " 'Francis',\n",
       " '(Pa.)',\n",
       " 'Newark',\n",
       " 'Del.',\n",
       " '(Delaware',\n",
       " 'Stadium)',\n",
       " 'W',\n",
       " '42-14']"
      ]
     },
     "execution_count": 41,
     "metadata": {},
     "output_type": "execute_result"
    }
   ],
   "source": [
    "#Saint Francis game\n",
    "saintfrancis"
   ]
  },
  {
   "cell_type": "code",
   "execution_count": 42,
   "metadata": {},
   "outputs": [
    {
     "data": {
      "text/plain": [
       "12"
      ]
     },
     "execution_count": 42,
     "metadata": {},
     "output_type": "execute_result"
    },
    {
     "data": {
      "text/plain": [
       "['Sep',\n",
       " '16',\n",
       " '2023',\n",
       " '(Sat)',\n",
       " '6 PM',\n",
       " 'Home',\n",
       " 'Saint Francis (Pa.)',\n",
       " 'Newark',\n",
       " 'Del.',\n",
       " 'W',\n",
       " '42',\n",
       " '14']"
      ]
     },
     "execution_count": 42,
     "metadata": {},
     "output_type": "execute_result"
    }
   ],
   "source": [
    "#clean up Saint Francis list\n",
    "del saintfrancis[-4:-2]\n",
    "saintfrancis.insert(2, '2023')\n",
    "saintfrancis[4:6] = [' '.join(saintfrancis[4:6])]\n",
    "saintfrancis[6:9]= [' '.join(saintfrancis[6:9])]\n",
    "saintfrancis[-1:] = saintfrancis[-1].split('-')\n",
    "len(saintfrancis)\n",
    "saintfrancis"
   ]
  },
  {
   "cell_type": "code",
   "execution_count": 43,
   "metadata": {},
   "outputs": [
    {
     "data": {
      "text/plain": [
       "['Sep',\n",
       " '23',\n",
       " '(Sat)',\n",
       " '6',\n",
       " 'PM',\n",
       " 'Home',\n",
       " 'New',\n",
       " 'Hampshire',\n",
       " 'Newark',\n",
       " 'Del.',\n",
       " '(Delaware',\n",
       " 'Stadium)',\n",
       " 'W',\n",
       " '29-25']"
      ]
     },
     "execution_count": 43,
     "metadata": {},
     "output_type": "execute_result"
    }
   ],
   "source": [
    "#New Hampshire game\n",
    "newhampshire"
   ]
  },
  {
   "cell_type": "code",
   "execution_count": 44,
   "metadata": {},
   "outputs": [
    {
     "data": {
      "text/plain": [
       "12"
      ]
     },
     "execution_count": 44,
     "metadata": {},
     "output_type": "execute_result"
    },
    {
     "data": {
      "text/plain": [
       "['Sep',\n",
       " '23',\n",
       " '2023',\n",
       " '(Sat)',\n",
       " '6 PM',\n",
       " 'Home',\n",
       " 'New Hampshire',\n",
       " 'Newark',\n",
       " 'Del.',\n",
       " 'W',\n",
       " '29',\n",
       " '25']"
      ]
     },
     "execution_count": 44,
     "metadata": {},
     "output_type": "execute_result"
    }
   ],
   "source": [
    "#clean up New Hampshire list\n",
    "del newhampshire[-4:-2]\n",
    "newhampshire.insert(2, '2023')\n",
    "newhampshire[4:6] = [' '.join(newhampshire[4:6])]\n",
    "newhampshire[6:8 ]= [' '.join(newhampshire[6:8])]\n",
    "newhampshire[-1:] = newhampshire[-1].split('-')\n",
    "len(newhampshire)\n",
    "newhampshire"
   ]
  },
  {
   "cell_type": "code",
   "execution_count": 45,
   "metadata": {},
   "outputs": [
    {
     "data": {
      "text/plain": [
       "['Oct',\n",
       " '7',\n",
       " '(Sat)',\n",
       " '3',\n",
       " 'PM',\n",
       " 'Home',\n",
       " 'Duquesne',\n",
       " 'Newark',\n",
       " 'Del.',\n",
       " '(Delaware',\n",
       " 'Stadium)',\n",
       " 'W',\n",
       " '43-17']"
      ]
     },
     "execution_count": 45,
     "metadata": {},
     "output_type": "execute_result"
    }
   ],
   "source": [
    "#Duquesne game\n",
    "duquesne"
   ]
  },
  {
   "cell_type": "code",
   "execution_count": 46,
   "metadata": {},
   "outputs": [
    {
     "data": {
      "text/plain": [
       "12"
      ]
     },
     "execution_count": 46,
     "metadata": {},
     "output_type": "execute_result"
    },
    {
     "data": {
      "text/plain": [
       "['Oct',\n",
       " '7',\n",
       " '2023',\n",
       " '(Sat)',\n",
       " '3 PM',\n",
       " 'Home',\n",
       " 'Duquesne',\n",
       " 'Newark',\n",
       " 'Del.',\n",
       " 'W',\n",
       " '43',\n",
       " '17']"
      ]
     },
     "execution_count": 46,
     "metadata": {},
     "output_type": "execute_result"
    }
   ],
   "source": [
    "#clean up Duquesne list\n",
    "del duquesne[-4:-2]\n",
    "duquesne.insert(2, '2023')\n",
    "duquesne[4:6] = [' '.join(duquesne[4:6])]\n",
    "duquesne[-1:] = duquesne[-1].split('-')\n",
    "len(duquesne)\n",
    "duquesne"
   ]
  },
  {
   "cell_type": "code",
   "execution_count": 47,
   "metadata": {},
   "outputs": [
    {
     "data": {
      "text/plain": [
       "['Oct',\n",
       " '14',\n",
       " '(Sat)',\n",
       " '3',\n",
       " 'PM',\n",
       " 'Home',\n",
       " 'North',\n",
       " 'Carolina',\n",
       " 'A&T',\n",
       " 'Newark',\n",
       " 'Del.',\n",
       " '(Delaware',\n",
       " 'Stadium)',\n",
       " 'W',\n",
       " '21-6']"
      ]
     },
     "execution_count": 47,
     "metadata": {},
     "output_type": "execute_result"
    }
   ],
   "source": [
    "#North Carolina A&T game\n",
    "ncat"
   ]
  },
  {
   "cell_type": "code",
   "execution_count": 48,
   "metadata": {},
   "outputs": [
    {
     "data": {
      "text/plain": [
       "12"
      ]
     },
     "execution_count": 48,
     "metadata": {},
     "output_type": "execute_result"
    },
    {
     "data": {
      "text/plain": [
       "['Oct',\n",
       " '14',\n",
       " '2023',\n",
       " '(Sat)',\n",
       " '3 PM',\n",
       " 'Home',\n",
       " 'North Carolina A&T',\n",
       " 'Newark',\n",
       " 'Del.',\n",
       " 'W',\n",
       " '21',\n",
       " '6']"
      ]
     },
     "execution_count": 48,
     "metadata": {},
     "output_type": "execute_result"
    }
   ],
   "source": [
    "#clean up North Carolina A&T list\n",
    "del ncat[-4:-2]\n",
    "ncat.insert(2,'2023')\n",
    "ncat[4:6] = [' '.join(ncat[4:6])]\n",
    "ncat[6:9] = [' '.join(ncat[6:9])]\n",
    "ncat[-1:] = ncat[-1].split('-')\n",
    "len(ncat)\n",
    "ncat"
   ]
  },
  {
   "cell_type": "code",
   "execution_count": 49,
   "metadata": {},
   "outputs": [
    {
     "data": {
      "text/plain": [
       "['Oct',\n",
       " '21',\n",
       " '(Sat)',\n",
       " '2',\n",
       " 'PM',\n",
       " 'Away',\n",
       " 'Hampton',\n",
       " 'Hampton',\n",
       " 'Va.',\n",
       " 'W',\n",
       " '47-3']"
      ]
     },
     "execution_count": 49,
     "metadata": {},
     "output_type": "execute_result"
    }
   ],
   "source": [
    "#Hampton game\n",
    "hampton"
   ]
  },
  {
   "cell_type": "code",
   "execution_count": 50,
   "metadata": {},
   "outputs": [
    {
     "data": {
      "text/plain": [
       "12"
      ]
     },
     "execution_count": 50,
     "metadata": {},
     "output_type": "execute_result"
    },
    {
     "data": {
      "text/plain": [
       "['Oct',\n",
       " '21',\n",
       " '2023',\n",
       " '(Sat)',\n",
       " '2 PM',\n",
       " 'Away',\n",
       " 'Hampton',\n",
       " 'Hampton',\n",
       " 'Va.',\n",
       " 'W',\n",
       " '47',\n",
       " '3']"
      ]
     },
     "execution_count": 50,
     "metadata": {},
     "output_type": "execute_result"
    }
   ],
   "source": [
    "#clean up hampton list\n",
    "hampton.insert(2,'2023')\n",
    "hampton[4:6] = [' '.join(hampton[4:6])]\n",
    "hampton[-1:] = hampton[-1].split('-')\n",
    "len(hampton)\n",
    "hampton"
   ]
  },
  {
   "cell_type": "code",
   "execution_count": 51,
   "metadata": {},
   "outputs": [
    {
     "data": {
      "text/plain": [
       "['Oct',\n",
       " '28',\n",
       " '(Sat)',\n",
       " '1',\n",
       " 'PM',\n",
       " 'Away',\n",
       " 'Towson',\n",
       " 'Towson',\n",
       " 'Md.',\n",
       " 'W',\n",
       " '51-13']"
      ]
     },
     "execution_count": 51,
     "metadata": {},
     "output_type": "execute_result"
    }
   ],
   "source": [
    "#Towson game\n",
    "towson"
   ]
  },
  {
   "cell_type": "code",
   "execution_count": 52,
   "metadata": {},
   "outputs": [
    {
     "data": {
      "text/plain": [
       "12"
      ]
     },
     "execution_count": 52,
     "metadata": {},
     "output_type": "execute_result"
    },
    {
     "data": {
      "text/plain": [
       "['Oct',\n",
       " '28',\n",
       " '2023',\n",
       " '(Sat)',\n",
       " '1 PM',\n",
       " 'Away',\n",
       " 'Towson',\n",
       " 'Towson',\n",
       " 'Md.',\n",
       " 'W',\n",
       " '51',\n",
       " '13']"
      ]
     },
     "execution_count": 52,
     "metadata": {},
     "output_type": "execute_result"
    }
   ],
   "source": [
    "#clean up Towson list\n",
    "towson.insert(2,'2023')\n",
    "towson[4:6] = [' '.join(towson[4:6])]\n",
    "towson[-1:] = towson[-1].split('-')\n",
    "len(towson)\n",
    "towson"
   ]
  },
  {
   "cell_type": "code",
   "execution_count": 53,
   "metadata": {},
   "outputs": [
    {
     "data": {
      "text/plain": [
       "['Nov',\n",
       " '4',\n",
       " '(Sat)',\n",
       " '1',\n",
       " 'PM',\n",
       " 'Home',\n",
       " 'Elon',\n",
       " 'Newark',\n",
       " 'Del.',\n",
       " '(Delaware',\n",
       " 'Stadium)',\n",
       " 'L',\n",
       " '27-33']"
      ]
     },
     "execution_count": 53,
     "metadata": {},
     "output_type": "execute_result"
    }
   ],
   "source": [
    "#Elon game\n",
    "elon"
   ]
  },
  {
   "cell_type": "code",
   "execution_count": 54,
   "metadata": {},
   "outputs": [
    {
     "data": {
      "text/plain": [
       "12"
      ]
     },
     "execution_count": 54,
     "metadata": {},
     "output_type": "execute_result"
    },
    {
     "data": {
      "text/plain": [
       "['Nov',\n",
       " '4',\n",
       " '2023',\n",
       " '(Sat)',\n",
       " '1 PM',\n",
       " 'Home',\n",
       " 'Elon',\n",
       " 'Newark',\n",
       " 'Del.',\n",
       " 'L',\n",
       " '27',\n",
       " '33']"
      ]
     },
     "execution_count": 54,
     "metadata": {},
     "output_type": "execute_result"
    }
   ],
   "source": [
    "#clean up Elon list\n",
    "del elon[-4:-2]\n",
    "elon.insert(2,'2023')\n",
    "elon[4:6] = [' '.join(elon[4:6])]\n",
    "elon[-1:] = elon[-1].split('-')\n",
    "len(elon)\n",
    "elon"
   ]
  },
  {
   "cell_type": "code",
   "execution_count": 55,
   "metadata": {},
   "outputs": [
    {
     "data": {
      "text/plain": [
       "['Nov',\n",
       " '11',\n",
       " '(Sat)',\n",
       " '1',\n",
       " 'PM',\n",
       " 'Away',\n",
       " 'Campbell',\n",
       " 'Buies',\n",
       " 'Creek',\n",
       " 'N.C.',\n",
       " 'W',\n",
       " '45-7']"
      ]
     },
     "execution_count": 55,
     "metadata": {},
     "output_type": "execute_result"
    }
   ],
   "source": [
    "#Campbell game\n",
    "campbell"
   ]
  },
  {
   "cell_type": "code",
   "execution_count": 56,
   "metadata": {},
   "outputs": [
    {
     "data": {
      "text/plain": [
       "12"
      ]
     },
     "execution_count": 56,
     "metadata": {},
     "output_type": "execute_result"
    },
    {
     "data": {
      "text/plain": [
       "['Nov',\n",
       " '11',\n",
       " '2023',\n",
       " '(Sat)',\n",
       " '1 PM',\n",
       " 'Away',\n",
       " 'Campbell',\n",
       " 'Buies Creek',\n",
       " 'N.C.',\n",
       " 'W',\n",
       " '45',\n",
       " '7']"
      ]
     },
     "execution_count": 56,
     "metadata": {},
     "output_type": "execute_result"
    }
   ],
   "source": [
    "#clean up Campbell list\n",
    "campbell.insert(2, '2023')\n",
    "campbell[4:6] = [' '.join(campbell[4:6])] \n",
    "campbell[7:9] = [' '.join(campbell[7:9])]\n",
    "campbell[-1:] = campbell[-1].split('-')\n",
    "len(campbell)\n",
    "campbell"
   ]
  },
  {
   "cell_type": "code",
   "execution_count": 57,
   "metadata": {},
   "outputs": [
    {
     "data": {
      "text/plain": [
       "['Nov',\n",
       " '18',\n",
       " '(Sat)',\n",
       " '1',\n",
       " 'PM',\n",
       " 'Home',\n",
       " 'Villanova',\n",
       " 'Newark',\n",
       " 'Del.',\n",
       " '(Delaware',\n",
       " 'Stadium)',\n",
       " 'L',\n",
       " '7-35']"
      ]
     },
     "execution_count": 57,
     "metadata": {},
     "output_type": "execute_result"
    }
   ],
   "source": [
    "#Villanova game\n",
    "villanova"
   ]
  },
  {
   "cell_type": "code",
   "execution_count": 58,
   "metadata": {},
   "outputs": [
    {
     "data": {
      "text/plain": [
       "12"
      ]
     },
     "execution_count": 58,
     "metadata": {},
     "output_type": "execute_result"
    },
    {
     "data": {
      "text/plain": [
       "['Nov',\n",
       " '18',\n",
       " '2023',\n",
       " '(Sat)',\n",
       " '1 PM',\n",
       " 'Home',\n",
       " 'Villanova',\n",
       " 'Newark',\n",
       " 'Del.',\n",
       " 'L',\n",
       " '7',\n",
       " '35']"
      ]
     },
     "execution_count": 58,
     "metadata": {},
     "output_type": "execute_result"
    }
   ],
   "source": [
    "#clean up Villanova list\n",
    "del villanova[-4:-2]\n",
    "villanova.insert(2, '2023')\n",
    "villanova[4:6] = [' '.join(villanova[4:6])]\n",
    "villanova[-1:] = villanova[-1].split('-')\n",
    "len(villanova)\n",
    "villanova"
   ]
  },
  {
   "cell_type": "code",
   "execution_count": 59,
   "metadata": {},
   "outputs": [
    {
     "data": {
      "text/plain": [
       "['Nov', '25', '(Sat)', '2', 'p.m.', 'Home', 'Lafayette', 'TBD', 'W', '36-34']"
      ]
     },
     "execution_count": 59,
     "metadata": {},
     "output_type": "execute_result"
    }
   ],
   "source": [
    "#Lafayette game\n",
    "lafayette"
   ]
  },
  {
   "cell_type": "code",
   "execution_count": 60,
   "metadata": {},
   "outputs": [
    {
     "data": {
      "text/plain": [
       "12"
      ]
     },
     "execution_count": 60,
     "metadata": {},
     "output_type": "execute_result"
    },
    {
     "data": {
      "text/plain": [
       "['Nov',\n",
       " '25',\n",
       " '2023',\n",
       " '(Sat)',\n",
       " '2 p.m.',\n",
       " 'Home',\n",
       " 'Lafayette',\n",
       " 'Newark',\n",
       " 'Del.',\n",
       " 'W',\n",
       " '36',\n",
       " '34']"
      ]
     },
     "execution_count": 60,
     "metadata": {},
     "output_type": "execute_result"
    }
   ],
   "source": [
    "#clean up Lafayette list\n",
    "lafayette.insert(2, '2023')\n",
    "lafayette[4:6] = [' '.join(lafayette[4:6])]\n",
    "lafayette[7] = 'Newark'\n",
    "lafayette.insert(8, 'Del.')\n",
    "lafayette[-1:] = lafayette[-1].split('-')\n",
    "len(lafayette)\n",
    "lafayette"
   ]
  },
  {
   "cell_type": "code",
   "execution_count": 61,
   "metadata": {},
   "outputs": [
    {
     "data": {
      "text/plain": [
       "['Dec',\n",
       " '2',\n",
       " '(Sat)',\n",
       " '9',\n",
       " 'p.m.',\n",
       " 'Away',\n",
       " '#2',\n",
       " 'Montana',\n",
       " 'Missoula',\n",
       " 'Mont.',\n",
       " 'L',\n",
       " '19-49']"
      ]
     },
     "execution_count": 61,
     "metadata": {},
     "output_type": "execute_result"
    }
   ],
   "source": [
    "#Montana game\n",
    "montana"
   ]
  },
  {
   "cell_type": "code",
   "execution_count": 62,
   "metadata": {},
   "outputs": [
    {
     "data": {
      "text/plain": [
       "12"
      ]
     },
     "execution_count": 62,
     "metadata": {},
     "output_type": "execute_result"
    },
    {
     "data": {
      "text/plain": [
       "['Dec',\n",
       " '2',\n",
       " '2023',\n",
       " '(Sat)',\n",
       " '9 p.m.',\n",
       " 'Away',\n",
       " 'Montana',\n",
       " 'Missoula',\n",
       " 'Mont.',\n",
       " 'L',\n",
       " '19',\n",
       " '49']"
      ]
     },
     "execution_count": 62,
     "metadata": {},
     "output_type": "execute_result"
    }
   ],
   "source": [
    "#clean up Montana list\n",
    "del montana[6]\n",
    "montana.insert(2,'2023')\n",
    "montana[4:6] = [' '.join(montana[4:6])]\n",
    "montana[-1:] = montana[-1].split('-')\n",
    "len(montana)\n",
    "montana"
   ]
  },
  {
   "cell_type": "code",
   "execution_count": 63,
   "metadata": {},
   "outputs": [
    {
     "data": {
      "text/plain": [
       "12"
      ]
     },
     "execution_count": 63,
     "metadata": {},
     "output_type": "execute_result"
    },
    {
     "data": {
      "text/plain": [
       "12"
      ]
     },
     "execution_count": 63,
     "metadata": {},
     "output_type": "execute_result"
    },
    {
     "data": {
      "text/plain": [
       "12"
      ]
     },
     "execution_count": 63,
     "metadata": {},
     "output_type": "execute_result"
    },
    {
     "data": {
      "text/plain": [
       "12"
      ]
     },
     "execution_count": 63,
     "metadata": {},
     "output_type": "execute_result"
    },
    {
     "data": {
      "text/plain": [
       "12"
      ]
     },
     "execution_count": 63,
     "metadata": {},
     "output_type": "execute_result"
    },
    {
     "data": {
      "text/plain": [
       "12"
      ]
     },
     "execution_count": 63,
     "metadata": {},
     "output_type": "execute_result"
    },
    {
     "data": {
      "text/plain": [
       "12"
      ]
     },
     "execution_count": 63,
     "metadata": {},
     "output_type": "execute_result"
    },
    {
     "data": {
      "text/plain": [
       "12"
      ]
     },
     "execution_count": 63,
     "metadata": {},
     "output_type": "execute_result"
    },
    {
     "data": {
      "text/plain": [
       "12"
      ]
     },
     "execution_count": 63,
     "metadata": {},
     "output_type": "execute_result"
    },
    {
     "data": {
      "text/plain": [
       "12"
      ]
     },
     "execution_count": 63,
     "metadata": {},
     "output_type": "execute_result"
    },
    {
     "data": {
      "text/plain": [
       "12"
      ]
     },
     "execution_count": 63,
     "metadata": {},
     "output_type": "execute_result"
    },
    {
     "data": {
      "text/plain": [
       "12"
      ]
     },
     "execution_count": 63,
     "metadata": {},
     "output_type": "execute_result"
    },
    {
     "data": {
      "text/plain": [
       "12"
      ]
     },
     "execution_count": 63,
     "metadata": {},
     "output_type": "execute_result"
    }
   ],
   "source": [
    "#get lengths of cleaned lists to make sure they are all equal length\n",
    "len(stonybrook)\n",
    "len(pennstate)\n",
    "len(saintfrancis)\n",
    "len(newhampshire)\n",
    "len(duquesne)\n",
    "len(ncat)\n",
    "len(hampton)\n",
    "len(towson)\n",
    "len(elon)\n",
    "len(campbell)\n",
    "len(villanova)\n",
    "len(lafayette)\n",
    "len(montana)"
   ]
  },
  {
   "cell_type": "code",
   "execution_count": 64,
   "metadata": {},
   "outputs": [
    {
     "data": {
      "text/plain": [
       "156"
      ]
     },
     "execution_count": 64,
     "metadata": {},
     "output_type": "execute_result"
    },
    {
     "data": {
      "text/plain": [
       "['Aug',\n",
       " '31',\n",
       " '2023',\n",
       " '(Thu)',\n",
       " '7 PM',\n",
       " 'Away',\n",
       " 'Stony Brook',\n",
       " 'Stony Brook',\n",
       " 'N.Y.',\n",
       " 'W',\n",
       " '37',\n",
       " '13']"
      ]
     },
     "execution_count": 64,
     "metadata": {},
     "output_type": "execute_result"
    }
   ],
   "source": [
    "#create single list of all cleaned lists\n",
    "fulldata = stonybrook + pennstate + saintfrancis + newhampshire + duquesne + ncat + hampton + towson + elon + campbell + villanova + lafayette + montana\n",
    "len(fulldata)\n",
    "fulldata[:12]"
   ]
  },
  {
   "cell_type": "code",
   "execution_count": 65,
   "metadata": {},
   "outputs": [
    {
     "data": {
      "text/plain": [
       "[['Aug',\n",
       "  '31',\n",
       "  '2023',\n",
       "  '(Thu)',\n",
       "  '7 PM',\n",
       "  'Away',\n",
       "  'Stony Brook',\n",
       "  'Stony Brook',\n",
       "  'N.Y.',\n",
       "  'W',\n",
       "  '37',\n",
       "  '13'],\n",
       " ['Sept',\n",
       "  '9',\n",
       "  '2023',\n",
       "  '(Sat)',\n",
       "  '12 p.m.',\n",
       "  'Away',\n",
       "  'Penn State',\n",
       "  'University Park',\n",
       "  'Pa.',\n",
       "  'L',\n",
       "  '7',\n",
       "  '63']]"
      ]
     },
     "execution_count": 65,
     "metadata": {},
     "output_type": "execute_result"
    }
   ],
   "source": [
    "#create list of lists with each game list being an element in the list\n",
    "list_of_lists = [fulldata[i:i+12] for i in range (0,len(fulldata),12)]\n",
    "list_of_lists[:2]"
   ]
  },
  {
   "cell_type": "code",
   "execution_count": 66,
   "metadata": {},
   "outputs": [
    {
     "data": {
      "text/html": [
       "<div>\n",
       "<style scoped>\n",
       "    .dataframe tbody tr th:only-of-type {\n",
       "        vertical-align: middle;\n",
       "    }\n",
       "\n",
       "    .dataframe tbody tr th {\n",
       "        vertical-align: top;\n",
       "    }\n",
       "\n",
       "    .dataframe thead th {\n",
       "        text-align: right;\n",
       "    }\n",
       "</style>\n",
       "<table border=\"1\" class=\"dataframe\">\n",
       "  <thead>\n",
       "    <tr style=\"text-align: right;\">\n",
       "      <th></th>\n",
       "      <th>month</th>\n",
       "      <th>day</th>\n",
       "      <th>year</th>\n",
       "      <th>day of week</th>\n",
       "      <th>time</th>\n",
       "      <th>homeaway</th>\n",
       "      <th>opponent</th>\n",
       "      <th>city</th>\n",
       "      <th>state</th>\n",
       "      <th>winloss</th>\n",
       "      <th>UDscore</th>\n",
       "      <th>oppscore</th>\n",
       "    </tr>\n",
       "  </thead>\n",
       "  <tbody>\n",
       "    <tr>\n",
       "      <th>0</th>\n",
       "      <td>Aug</td>\n",
       "      <td>31</td>\n",
       "      <td>2023</td>\n",
       "      <td>(Thu)</td>\n",
       "      <td>7 PM</td>\n",
       "      <td>Away</td>\n",
       "      <td>Stony Brook</td>\n",
       "      <td>Stony Brook</td>\n",
       "      <td>N.Y.</td>\n",
       "      <td>W</td>\n",
       "      <td>37</td>\n",
       "      <td>13</td>\n",
       "    </tr>\n",
       "    <tr>\n",
       "      <th>1</th>\n",
       "      <td>Sept</td>\n",
       "      <td>9</td>\n",
       "      <td>2023</td>\n",
       "      <td>(Sat)</td>\n",
       "      <td>12 p.m.</td>\n",
       "      <td>Away</td>\n",
       "      <td>Penn State</td>\n",
       "      <td>University Park</td>\n",
       "      <td>Pa.</td>\n",
       "      <td>L</td>\n",
       "      <td>7</td>\n",
       "      <td>63</td>\n",
       "    </tr>\n",
       "    <tr>\n",
       "      <th>2</th>\n",
       "      <td>Sep</td>\n",
       "      <td>16</td>\n",
       "      <td>2023</td>\n",
       "      <td>(Sat)</td>\n",
       "      <td>6 PM</td>\n",
       "      <td>Home</td>\n",
       "      <td>Saint Francis (Pa.)</td>\n",
       "      <td>Newark</td>\n",
       "      <td>Del.</td>\n",
       "      <td>W</td>\n",
       "      <td>42</td>\n",
       "      <td>14</td>\n",
       "    </tr>\n",
       "    <tr>\n",
       "      <th>3</th>\n",
       "      <td>Sep</td>\n",
       "      <td>23</td>\n",
       "      <td>2023</td>\n",
       "      <td>(Sat)</td>\n",
       "      <td>6 PM</td>\n",
       "      <td>Home</td>\n",
       "      <td>New Hampshire</td>\n",
       "      <td>Newark</td>\n",
       "      <td>Del.</td>\n",
       "      <td>W</td>\n",
       "      <td>29</td>\n",
       "      <td>25</td>\n",
       "    </tr>\n",
       "    <tr>\n",
       "      <th>4</th>\n",
       "      <td>Oct</td>\n",
       "      <td>7</td>\n",
       "      <td>2023</td>\n",
       "      <td>(Sat)</td>\n",
       "      <td>3 PM</td>\n",
       "      <td>Home</td>\n",
       "      <td>Duquesne</td>\n",
       "      <td>Newark</td>\n",
       "      <td>Del.</td>\n",
       "      <td>W</td>\n",
       "      <td>43</td>\n",
       "      <td>17</td>\n",
       "    </tr>\n",
       "    <tr>\n",
       "      <th>5</th>\n",
       "      <td>Oct</td>\n",
       "      <td>14</td>\n",
       "      <td>2023</td>\n",
       "      <td>(Sat)</td>\n",
       "      <td>3 PM</td>\n",
       "      <td>Home</td>\n",
       "      <td>North Carolina A&amp;T</td>\n",
       "      <td>Newark</td>\n",
       "      <td>Del.</td>\n",
       "      <td>W</td>\n",
       "      <td>21</td>\n",
       "      <td>6</td>\n",
       "    </tr>\n",
       "    <tr>\n",
       "      <th>6</th>\n",
       "      <td>Oct</td>\n",
       "      <td>21</td>\n",
       "      <td>2023</td>\n",
       "      <td>(Sat)</td>\n",
       "      <td>2 PM</td>\n",
       "      <td>Away</td>\n",
       "      <td>Hampton</td>\n",
       "      <td>Hampton</td>\n",
       "      <td>Va.</td>\n",
       "      <td>W</td>\n",
       "      <td>47</td>\n",
       "      <td>3</td>\n",
       "    </tr>\n",
       "    <tr>\n",
       "      <th>7</th>\n",
       "      <td>Oct</td>\n",
       "      <td>28</td>\n",
       "      <td>2023</td>\n",
       "      <td>(Sat)</td>\n",
       "      <td>1 PM</td>\n",
       "      <td>Away</td>\n",
       "      <td>Towson</td>\n",
       "      <td>Towson</td>\n",
       "      <td>Md.</td>\n",
       "      <td>W</td>\n",
       "      <td>51</td>\n",
       "      <td>13</td>\n",
       "    </tr>\n",
       "    <tr>\n",
       "      <th>8</th>\n",
       "      <td>Nov</td>\n",
       "      <td>4</td>\n",
       "      <td>2023</td>\n",
       "      <td>(Sat)</td>\n",
       "      <td>1 PM</td>\n",
       "      <td>Home</td>\n",
       "      <td>Elon</td>\n",
       "      <td>Newark</td>\n",
       "      <td>Del.</td>\n",
       "      <td>L</td>\n",
       "      <td>27</td>\n",
       "      <td>33</td>\n",
       "    </tr>\n",
       "    <tr>\n",
       "      <th>9</th>\n",
       "      <td>Nov</td>\n",
       "      <td>11</td>\n",
       "      <td>2023</td>\n",
       "      <td>(Sat)</td>\n",
       "      <td>1 PM</td>\n",
       "      <td>Away</td>\n",
       "      <td>Campbell</td>\n",
       "      <td>Buies Creek</td>\n",
       "      <td>N.C.</td>\n",
       "      <td>W</td>\n",
       "      <td>45</td>\n",
       "      <td>7</td>\n",
       "    </tr>\n",
       "    <tr>\n",
       "      <th>10</th>\n",
       "      <td>Nov</td>\n",
       "      <td>18</td>\n",
       "      <td>2023</td>\n",
       "      <td>(Sat)</td>\n",
       "      <td>1 PM</td>\n",
       "      <td>Home</td>\n",
       "      <td>Villanova</td>\n",
       "      <td>Newark</td>\n",
       "      <td>Del.</td>\n",
       "      <td>L</td>\n",
       "      <td>7</td>\n",
       "      <td>35</td>\n",
       "    </tr>\n",
       "    <tr>\n",
       "      <th>11</th>\n",
       "      <td>Nov</td>\n",
       "      <td>25</td>\n",
       "      <td>2023</td>\n",
       "      <td>(Sat)</td>\n",
       "      <td>2 p.m.</td>\n",
       "      <td>Home</td>\n",
       "      <td>Lafayette</td>\n",
       "      <td>Newark</td>\n",
       "      <td>Del.</td>\n",
       "      <td>W</td>\n",
       "      <td>36</td>\n",
       "      <td>34</td>\n",
       "    </tr>\n",
       "    <tr>\n",
       "      <th>12</th>\n",
       "      <td>Dec</td>\n",
       "      <td>2</td>\n",
       "      <td>2023</td>\n",
       "      <td>(Sat)</td>\n",
       "      <td>9 p.m.</td>\n",
       "      <td>Away</td>\n",
       "      <td>Montana</td>\n",
       "      <td>Missoula</td>\n",
       "      <td>Mont.</td>\n",
       "      <td>L</td>\n",
       "      <td>19</td>\n",
       "      <td>49</td>\n",
       "    </tr>\n",
       "  </tbody>\n",
       "</table>\n",
       "</div>"
      ],
      "text/plain": [
       "   month day  year day of week     time homeaway             opponent  \\\n",
       "0    Aug  31  2023       (Thu)     7 PM     Away          Stony Brook   \n",
       "1   Sept   9  2023       (Sat)  12 p.m.     Away           Penn State   \n",
       "2    Sep  16  2023       (Sat)     6 PM     Home  Saint Francis (Pa.)   \n",
       "3    Sep  23  2023       (Sat)     6 PM     Home        New Hampshire   \n",
       "4    Oct   7  2023       (Sat)     3 PM     Home             Duquesne   \n",
       "5    Oct  14  2023       (Sat)     3 PM     Home   North Carolina A&T   \n",
       "6    Oct  21  2023       (Sat)     2 PM     Away              Hampton   \n",
       "7    Oct  28  2023       (Sat)     1 PM     Away               Towson   \n",
       "8    Nov   4  2023       (Sat)     1 PM     Home                 Elon   \n",
       "9    Nov  11  2023       (Sat)     1 PM     Away             Campbell   \n",
       "10   Nov  18  2023       (Sat)     1 PM     Home            Villanova   \n",
       "11   Nov  25  2023       (Sat)   2 p.m.     Home            Lafayette   \n",
       "12   Dec   2  2023       (Sat)   9 p.m.     Away              Montana   \n",
       "\n",
       "               city  state winloss UDscore oppscore  \n",
       "0       Stony Brook   N.Y.       W      37       13  \n",
       "1   University Park    Pa.       L       7       63  \n",
       "2            Newark   Del.       W      42       14  \n",
       "3            Newark   Del.       W      29       25  \n",
       "4            Newark   Del.       W      43       17  \n",
       "5            Newark   Del.       W      21        6  \n",
       "6           Hampton    Va.       W      47        3  \n",
       "7            Towson    Md.       W      51       13  \n",
       "8            Newark   Del.       L      27       33  \n",
       "9       Buies Creek   N.C.       W      45        7  \n",
       "10           Newark   Del.       L       7       35  \n",
       "11           Newark   Del.       W      36       34  \n",
       "12         Missoula  Mont.       L      19       49  "
      ]
     },
     "execution_count": 66,
     "metadata": {},
     "output_type": "execute_result"
    }
   ],
   "source": [
    "#create data frame\n",
    "#use lists of lists as data and create column names\n",
    "df = pd.DataFrame(list_of_lists, columns=['month', 'day','year', 'day of week', 'time', 'homeaway', \n",
    "                                          'opponent', 'city', 'state', 'winloss', 'UDscore', 'oppscore'])\n",
    "df"
   ]
  },
  {
   "cell_type": "code",
   "execution_count": 67,
   "metadata": {},
   "outputs": [
    {
     "name": "stdout",
     "output_type": "stream",
     "text": [
      "<class 'pandas.core.frame.DataFrame'>\n",
      "RangeIndex: 13 entries, 0 to 12\n",
      "Data columns (total 12 columns):\n",
      " #   Column       Non-Null Count  Dtype \n",
      "---  ------       --------------  ----- \n",
      " 0   month        13 non-null     object\n",
      " 1   day          13 non-null     object\n",
      " 2   year         13 non-null     object\n",
      " 3   day of week  13 non-null     object\n",
      " 4   time         13 non-null     object\n",
      " 5   homeaway     13 non-null     object\n",
      " 6   opponent     13 non-null     object\n",
      " 7   city         13 non-null     object\n",
      " 8   state        13 non-null     object\n",
      " 9   winloss      13 non-null     object\n",
      " 10  UDscore      13 non-null     object\n",
      " 11  oppscore     13 non-null     object\n",
      "dtypes: object(12)\n",
      "memory usage: 1.3+ KB\n"
     ]
    }
   ],
   "source": [
    "#get data types for each column\n",
    "df.info()"
   ]
  },
  {
   "cell_type": "code",
   "execution_count": 68,
   "metadata": {},
   "outputs": [
    {
     "name": "stdout",
     "output_type": "stream",
     "text": [
      "<class 'pandas.core.frame.DataFrame'>\n",
      "RangeIndex: 13 entries, 0 to 12\n",
      "Data columns (total 12 columns):\n",
      " #   Column       Non-Null Count  Dtype \n",
      "---  ------       --------------  ----- \n",
      " 0   month        13 non-null     object\n",
      " 1   day          13 non-null     object\n",
      " 2   year         13 non-null     object\n",
      " 3   day of week  13 non-null     object\n",
      " 4   time         13 non-null     object\n",
      " 5   homeaway     13 non-null     object\n",
      " 6   opponent     13 non-null     object\n",
      " 7   city         13 non-null     object\n",
      " 8   state        13 non-null     object\n",
      " 9   winloss      13 non-null     object\n",
      " 10  UDscore      13 non-null     int64 \n",
      " 11  oppscore     13 non-null     int64 \n",
      "dtypes: int64(2), object(10)\n",
      "memory usage: 1.3+ KB\n"
     ]
    }
   ],
   "source": [
    "#make UDscore and oppscore columns numeric\n",
    "df['UDscore']=pd.to_numeric(df['UDscore'])\n",
    "df['oppscore']=pd.to_numeric(df['oppscore'])\n",
    "df.info()"
   ]
  },
  {
   "cell_type": "code",
   "execution_count": 69,
   "metadata": {},
   "outputs": [
    {
     "data": {
      "text/plain": [
       "array(['Aug', 'Sept', 'Sep', 'Oct', 'Nov', 'Dec'], dtype=object)"
      ]
     },
     "execution_count": 69,
     "metadata": {},
     "output_type": "execute_result"
    },
    {
     "data": {
      "text/html": [
       "<div>\n",
       "<style scoped>\n",
       "    .dataframe tbody tr th:only-of-type {\n",
       "        vertical-align: middle;\n",
       "    }\n",
       "\n",
       "    .dataframe tbody tr th {\n",
       "        vertical-align: top;\n",
       "    }\n",
       "\n",
       "    .dataframe thead th {\n",
       "        text-align: right;\n",
       "    }\n",
       "</style>\n",
       "<table border=\"1\" class=\"dataframe\">\n",
       "  <thead>\n",
       "    <tr style=\"text-align: right;\">\n",
       "      <th></th>\n",
       "      <th>month</th>\n",
       "      <th>day</th>\n",
       "      <th>year</th>\n",
       "      <th>day of week</th>\n",
       "      <th>time</th>\n",
       "      <th>homeaway</th>\n",
       "      <th>opponent</th>\n",
       "      <th>city</th>\n",
       "      <th>state</th>\n",
       "      <th>winloss</th>\n",
       "      <th>UDscore</th>\n",
       "      <th>oppscore</th>\n",
       "    </tr>\n",
       "  </thead>\n",
       "  <tbody>\n",
       "    <tr>\n",
       "      <th>0</th>\n",
       "      <td>08</td>\n",
       "      <td>31</td>\n",
       "      <td>2023</td>\n",
       "      <td>(Thu)</td>\n",
       "      <td>7 PM</td>\n",
       "      <td>Away</td>\n",
       "      <td>Stony Brook</td>\n",
       "      <td>Stony Brook</td>\n",
       "      <td>N.Y.</td>\n",
       "      <td>W</td>\n",
       "      <td>37</td>\n",
       "      <td>13</td>\n",
       "    </tr>\n",
       "    <tr>\n",
       "      <th>1</th>\n",
       "      <td>08</td>\n",
       "      <td>9</td>\n",
       "      <td>2023</td>\n",
       "      <td>(Sat)</td>\n",
       "      <td>12 p.m.</td>\n",
       "      <td>Away</td>\n",
       "      <td>Penn State</td>\n",
       "      <td>University Park</td>\n",
       "      <td>Pa.</td>\n",
       "      <td>L</td>\n",
       "      <td>7</td>\n",
       "      <td>63</td>\n",
       "    </tr>\n",
       "    <tr>\n",
       "      <th>2</th>\n",
       "      <td>08</td>\n",
       "      <td>16</td>\n",
       "      <td>2023</td>\n",
       "      <td>(Sat)</td>\n",
       "      <td>6 PM</td>\n",
       "      <td>Home</td>\n",
       "      <td>Saint Francis (Pa.)</td>\n",
       "      <td>Newark</td>\n",
       "      <td>Del.</td>\n",
       "      <td>W</td>\n",
       "      <td>42</td>\n",
       "      <td>14</td>\n",
       "    </tr>\n",
       "    <tr>\n",
       "      <th>3</th>\n",
       "      <td>08</td>\n",
       "      <td>23</td>\n",
       "      <td>2023</td>\n",
       "      <td>(Sat)</td>\n",
       "      <td>6 PM</td>\n",
       "      <td>Home</td>\n",
       "      <td>New Hampshire</td>\n",
       "      <td>Newark</td>\n",
       "      <td>Del.</td>\n",
       "      <td>W</td>\n",
       "      <td>29</td>\n",
       "      <td>25</td>\n",
       "    </tr>\n",
       "    <tr>\n",
       "      <th>4</th>\n",
       "      <td>10</td>\n",
       "      <td>7</td>\n",
       "      <td>2023</td>\n",
       "      <td>(Sat)</td>\n",
       "      <td>3 PM</td>\n",
       "      <td>Home</td>\n",
       "      <td>Duquesne</td>\n",
       "      <td>Newark</td>\n",
       "      <td>Del.</td>\n",
       "      <td>W</td>\n",
       "      <td>43</td>\n",
       "      <td>17</td>\n",
       "    </tr>\n",
       "    <tr>\n",
       "      <th>5</th>\n",
       "      <td>10</td>\n",
       "      <td>14</td>\n",
       "      <td>2023</td>\n",
       "      <td>(Sat)</td>\n",
       "      <td>3 PM</td>\n",
       "      <td>Home</td>\n",
       "      <td>North Carolina A&amp;T</td>\n",
       "      <td>Newark</td>\n",
       "      <td>Del.</td>\n",
       "      <td>W</td>\n",
       "      <td>21</td>\n",
       "      <td>6</td>\n",
       "    </tr>\n",
       "    <tr>\n",
       "      <th>6</th>\n",
       "      <td>10</td>\n",
       "      <td>21</td>\n",
       "      <td>2023</td>\n",
       "      <td>(Sat)</td>\n",
       "      <td>2 PM</td>\n",
       "      <td>Away</td>\n",
       "      <td>Hampton</td>\n",
       "      <td>Hampton</td>\n",
       "      <td>Va.</td>\n",
       "      <td>W</td>\n",
       "      <td>47</td>\n",
       "      <td>3</td>\n",
       "    </tr>\n",
       "    <tr>\n",
       "      <th>7</th>\n",
       "      <td>10</td>\n",
       "      <td>28</td>\n",
       "      <td>2023</td>\n",
       "      <td>(Sat)</td>\n",
       "      <td>1 PM</td>\n",
       "      <td>Away</td>\n",
       "      <td>Towson</td>\n",
       "      <td>Towson</td>\n",
       "      <td>Md.</td>\n",
       "      <td>W</td>\n",
       "      <td>51</td>\n",
       "      <td>13</td>\n",
       "    </tr>\n",
       "    <tr>\n",
       "      <th>8</th>\n",
       "      <td>11</td>\n",
       "      <td>4</td>\n",
       "      <td>2023</td>\n",
       "      <td>(Sat)</td>\n",
       "      <td>1 PM</td>\n",
       "      <td>Home</td>\n",
       "      <td>Elon</td>\n",
       "      <td>Newark</td>\n",
       "      <td>Del.</td>\n",
       "      <td>L</td>\n",
       "      <td>27</td>\n",
       "      <td>33</td>\n",
       "    </tr>\n",
       "    <tr>\n",
       "      <th>9</th>\n",
       "      <td>11</td>\n",
       "      <td>11</td>\n",
       "      <td>2023</td>\n",
       "      <td>(Sat)</td>\n",
       "      <td>1 PM</td>\n",
       "      <td>Away</td>\n",
       "      <td>Campbell</td>\n",
       "      <td>Buies Creek</td>\n",
       "      <td>N.C.</td>\n",
       "      <td>W</td>\n",
       "      <td>45</td>\n",
       "      <td>7</td>\n",
       "    </tr>\n",
       "    <tr>\n",
       "      <th>10</th>\n",
       "      <td>11</td>\n",
       "      <td>18</td>\n",
       "      <td>2023</td>\n",
       "      <td>(Sat)</td>\n",
       "      <td>1 PM</td>\n",
       "      <td>Home</td>\n",
       "      <td>Villanova</td>\n",
       "      <td>Newark</td>\n",
       "      <td>Del.</td>\n",
       "      <td>L</td>\n",
       "      <td>7</td>\n",
       "      <td>35</td>\n",
       "    </tr>\n",
       "    <tr>\n",
       "      <th>11</th>\n",
       "      <td>11</td>\n",
       "      <td>25</td>\n",
       "      <td>2023</td>\n",
       "      <td>(Sat)</td>\n",
       "      <td>2 p.m.</td>\n",
       "      <td>Home</td>\n",
       "      <td>Lafayette</td>\n",
       "      <td>Newark</td>\n",
       "      <td>Del.</td>\n",
       "      <td>W</td>\n",
       "      <td>36</td>\n",
       "      <td>34</td>\n",
       "    </tr>\n",
       "    <tr>\n",
       "      <th>12</th>\n",
       "      <td>12</td>\n",
       "      <td>2</td>\n",
       "      <td>2023</td>\n",
       "      <td>(Sat)</td>\n",
       "      <td>9 p.m.</td>\n",
       "      <td>Away</td>\n",
       "      <td>Montana</td>\n",
       "      <td>Missoula</td>\n",
       "      <td>Mont.</td>\n",
       "      <td>L</td>\n",
       "      <td>19</td>\n",
       "      <td>49</td>\n",
       "    </tr>\n",
       "  </tbody>\n",
       "</table>\n",
       "</div>"
      ],
      "text/plain": [
       "   month day  year day of week     time homeaway             opponent  \\\n",
       "0     08  31  2023       (Thu)     7 PM     Away          Stony Brook   \n",
       "1     08   9  2023       (Sat)  12 p.m.     Away           Penn State   \n",
       "2     08  16  2023       (Sat)     6 PM     Home  Saint Francis (Pa.)   \n",
       "3     08  23  2023       (Sat)     6 PM     Home        New Hampshire   \n",
       "4     10   7  2023       (Sat)     3 PM     Home             Duquesne   \n",
       "5     10  14  2023       (Sat)     3 PM     Home   North Carolina A&T   \n",
       "6     10  21  2023       (Sat)     2 PM     Away              Hampton   \n",
       "7     10  28  2023       (Sat)     1 PM     Away               Towson   \n",
       "8     11   4  2023       (Sat)     1 PM     Home                 Elon   \n",
       "9     11  11  2023       (Sat)     1 PM     Away             Campbell   \n",
       "10    11  18  2023       (Sat)     1 PM     Home            Villanova   \n",
       "11    11  25  2023       (Sat)   2 p.m.     Home            Lafayette   \n",
       "12    12   2  2023       (Sat)   9 p.m.     Away              Montana   \n",
       "\n",
       "               city  state winloss  UDscore  oppscore  \n",
       "0       Stony Brook   N.Y.       W       37        13  \n",
       "1   University Park    Pa.       L        7        63  \n",
       "2            Newark   Del.       W       42        14  \n",
       "3            Newark   Del.       W       29        25  \n",
       "4            Newark   Del.       W       43        17  \n",
       "5            Newark   Del.       W       21         6  \n",
       "6           Hampton    Va.       W       47         3  \n",
       "7            Towson    Md.       W       51        13  \n",
       "8            Newark   Del.       L       27        33  \n",
       "9       Buies Creek   N.C.       W       45         7  \n",
       "10           Newark   Del.       L        7        35  \n",
       "11           Newark   Del.       W       36        34  \n",
       "12         Missoula  Mont.       L       19        49  "
      ]
     },
     "execution_count": 69,
     "metadata": {},
     "output_type": "execute_result"
    }
   ],
   "source": [
    "#clean up month column\n",
    "df['month'].unique()\n",
    "df['month']=df['month'].replace('Aug', '08')\n",
    "df['month']=df['month'].replace(['Sept','Sep'], '08')\n",
    "df['month']=df['month'].replace('Oct', '10')\n",
    "df['month']=df['month'].replace('Nov', '11')\n",
    "df['month']=df['month'].replace('Dec', '12')\n",
    "df"
   ]
  },
  {
   "cell_type": "code",
   "execution_count": 71,
   "metadata": {},
   "outputs": [
    {
     "data": {
      "text/plain": [
       "array(['31', '9', '16', '23', '7', '14', '21', '28', '4', '11', '18',\n",
       "       '25', '2'], dtype=object)"
      ]
     },
     "execution_count": 71,
     "metadata": {},
     "output_type": "execute_result"
    },
    {
     "data": {
      "text/html": [
       "<div>\n",
       "<style scoped>\n",
       "    .dataframe tbody tr th:only-of-type {\n",
       "        vertical-align: middle;\n",
       "    }\n",
       "\n",
       "    .dataframe tbody tr th {\n",
       "        vertical-align: top;\n",
       "    }\n",
       "\n",
       "    .dataframe thead th {\n",
       "        text-align: right;\n",
       "    }\n",
       "</style>\n",
       "<table border=\"1\" class=\"dataframe\">\n",
       "  <thead>\n",
       "    <tr style=\"text-align: right;\">\n",
       "      <th></th>\n",
       "      <th>month</th>\n",
       "      <th>day</th>\n",
       "      <th>year</th>\n",
       "      <th>day of week</th>\n",
       "      <th>time</th>\n",
       "      <th>homeaway</th>\n",
       "      <th>opponent</th>\n",
       "      <th>city</th>\n",
       "      <th>state</th>\n",
       "      <th>winloss</th>\n",
       "      <th>UDscore</th>\n",
       "      <th>oppscore</th>\n",
       "    </tr>\n",
       "  </thead>\n",
       "  <tbody>\n",
       "    <tr>\n",
       "      <th>0</th>\n",
       "      <td>08</td>\n",
       "      <td>31</td>\n",
       "      <td>2023</td>\n",
       "      <td>(Thu)</td>\n",
       "      <td>7 PM</td>\n",
       "      <td>Away</td>\n",
       "      <td>Stony Brook</td>\n",
       "      <td>Stony Brook</td>\n",
       "      <td>N.Y.</td>\n",
       "      <td>W</td>\n",
       "      <td>37</td>\n",
       "      <td>13</td>\n",
       "    </tr>\n",
       "    <tr>\n",
       "      <th>1</th>\n",
       "      <td>08</td>\n",
       "      <td>09</td>\n",
       "      <td>2023</td>\n",
       "      <td>(Sat)</td>\n",
       "      <td>12 p.m.</td>\n",
       "      <td>Away</td>\n",
       "      <td>Penn State</td>\n",
       "      <td>University Park</td>\n",
       "      <td>Pa.</td>\n",
       "      <td>L</td>\n",
       "      <td>7</td>\n",
       "      <td>63</td>\n",
       "    </tr>\n",
       "    <tr>\n",
       "      <th>2</th>\n",
       "      <td>08</td>\n",
       "      <td>16</td>\n",
       "      <td>2023</td>\n",
       "      <td>(Sat)</td>\n",
       "      <td>6 PM</td>\n",
       "      <td>Home</td>\n",
       "      <td>Saint Francis (Pa.)</td>\n",
       "      <td>Newark</td>\n",
       "      <td>Del.</td>\n",
       "      <td>W</td>\n",
       "      <td>42</td>\n",
       "      <td>14</td>\n",
       "    </tr>\n",
       "    <tr>\n",
       "      <th>3</th>\n",
       "      <td>08</td>\n",
       "      <td>23</td>\n",
       "      <td>2023</td>\n",
       "      <td>(Sat)</td>\n",
       "      <td>6 PM</td>\n",
       "      <td>Home</td>\n",
       "      <td>New Hampshire</td>\n",
       "      <td>Newark</td>\n",
       "      <td>Del.</td>\n",
       "      <td>W</td>\n",
       "      <td>29</td>\n",
       "      <td>25</td>\n",
       "    </tr>\n",
       "    <tr>\n",
       "      <th>4</th>\n",
       "      <td>10</td>\n",
       "      <td>07</td>\n",
       "      <td>2023</td>\n",
       "      <td>(Sat)</td>\n",
       "      <td>3 PM</td>\n",
       "      <td>Home</td>\n",
       "      <td>Duquesne</td>\n",
       "      <td>Newark</td>\n",
       "      <td>Del.</td>\n",
       "      <td>W</td>\n",
       "      <td>43</td>\n",
       "      <td>17</td>\n",
       "    </tr>\n",
       "    <tr>\n",
       "      <th>5</th>\n",
       "      <td>10</td>\n",
       "      <td>14</td>\n",
       "      <td>2023</td>\n",
       "      <td>(Sat)</td>\n",
       "      <td>3 PM</td>\n",
       "      <td>Home</td>\n",
       "      <td>North Carolina A&amp;T</td>\n",
       "      <td>Newark</td>\n",
       "      <td>Del.</td>\n",
       "      <td>W</td>\n",
       "      <td>21</td>\n",
       "      <td>6</td>\n",
       "    </tr>\n",
       "    <tr>\n",
       "      <th>6</th>\n",
       "      <td>10</td>\n",
       "      <td>21</td>\n",
       "      <td>2023</td>\n",
       "      <td>(Sat)</td>\n",
       "      <td>2 PM</td>\n",
       "      <td>Away</td>\n",
       "      <td>Hampton</td>\n",
       "      <td>Hampton</td>\n",
       "      <td>Va.</td>\n",
       "      <td>W</td>\n",
       "      <td>47</td>\n",
       "      <td>3</td>\n",
       "    </tr>\n",
       "    <tr>\n",
       "      <th>7</th>\n",
       "      <td>10</td>\n",
       "      <td>28</td>\n",
       "      <td>2023</td>\n",
       "      <td>(Sat)</td>\n",
       "      <td>1 PM</td>\n",
       "      <td>Away</td>\n",
       "      <td>Towson</td>\n",
       "      <td>Towson</td>\n",
       "      <td>Md.</td>\n",
       "      <td>W</td>\n",
       "      <td>51</td>\n",
       "      <td>13</td>\n",
       "    </tr>\n",
       "    <tr>\n",
       "      <th>8</th>\n",
       "      <td>11</td>\n",
       "      <td>04</td>\n",
       "      <td>2023</td>\n",
       "      <td>(Sat)</td>\n",
       "      <td>1 PM</td>\n",
       "      <td>Home</td>\n",
       "      <td>Elon</td>\n",
       "      <td>Newark</td>\n",
       "      <td>Del.</td>\n",
       "      <td>L</td>\n",
       "      <td>27</td>\n",
       "      <td>33</td>\n",
       "    </tr>\n",
       "    <tr>\n",
       "      <th>9</th>\n",
       "      <td>11</td>\n",
       "      <td>11</td>\n",
       "      <td>2023</td>\n",
       "      <td>(Sat)</td>\n",
       "      <td>1 PM</td>\n",
       "      <td>Away</td>\n",
       "      <td>Campbell</td>\n",
       "      <td>Buies Creek</td>\n",
       "      <td>N.C.</td>\n",
       "      <td>W</td>\n",
       "      <td>45</td>\n",
       "      <td>7</td>\n",
       "    </tr>\n",
       "    <tr>\n",
       "      <th>10</th>\n",
       "      <td>11</td>\n",
       "      <td>18</td>\n",
       "      <td>2023</td>\n",
       "      <td>(Sat)</td>\n",
       "      <td>1 PM</td>\n",
       "      <td>Home</td>\n",
       "      <td>Villanova</td>\n",
       "      <td>Newark</td>\n",
       "      <td>Del.</td>\n",
       "      <td>L</td>\n",
       "      <td>7</td>\n",
       "      <td>35</td>\n",
       "    </tr>\n",
       "    <tr>\n",
       "      <th>11</th>\n",
       "      <td>11</td>\n",
       "      <td>25</td>\n",
       "      <td>2023</td>\n",
       "      <td>(Sat)</td>\n",
       "      <td>2 p.m.</td>\n",
       "      <td>Home</td>\n",
       "      <td>Lafayette</td>\n",
       "      <td>Newark</td>\n",
       "      <td>Del.</td>\n",
       "      <td>W</td>\n",
       "      <td>36</td>\n",
       "      <td>34</td>\n",
       "    </tr>\n",
       "    <tr>\n",
       "      <th>12</th>\n",
       "      <td>12</td>\n",
       "      <td>02</td>\n",
       "      <td>2023</td>\n",
       "      <td>(Sat)</td>\n",
       "      <td>9 p.m.</td>\n",
       "      <td>Away</td>\n",
       "      <td>Montana</td>\n",
       "      <td>Missoula</td>\n",
       "      <td>Mont.</td>\n",
       "      <td>L</td>\n",
       "      <td>19</td>\n",
       "      <td>49</td>\n",
       "    </tr>\n",
       "  </tbody>\n",
       "</table>\n",
       "</div>"
      ],
      "text/plain": [
       "   month day  year day of week     time homeaway             opponent  \\\n",
       "0     08  31  2023       (Thu)     7 PM     Away          Stony Brook   \n",
       "1     08  09  2023       (Sat)  12 p.m.     Away           Penn State   \n",
       "2     08  16  2023       (Sat)     6 PM     Home  Saint Francis (Pa.)   \n",
       "3     08  23  2023       (Sat)     6 PM     Home        New Hampshire   \n",
       "4     10  07  2023       (Sat)     3 PM     Home             Duquesne   \n",
       "5     10  14  2023       (Sat)     3 PM     Home   North Carolina A&T   \n",
       "6     10  21  2023       (Sat)     2 PM     Away              Hampton   \n",
       "7     10  28  2023       (Sat)     1 PM     Away               Towson   \n",
       "8     11  04  2023       (Sat)     1 PM     Home                 Elon   \n",
       "9     11  11  2023       (Sat)     1 PM     Away             Campbell   \n",
       "10    11  18  2023       (Sat)     1 PM     Home            Villanova   \n",
       "11    11  25  2023       (Sat)   2 p.m.     Home            Lafayette   \n",
       "12    12  02  2023       (Sat)   9 p.m.     Away              Montana   \n",
       "\n",
       "               city  state winloss  UDscore  oppscore  \n",
       "0       Stony Brook   N.Y.       W       37        13  \n",
       "1   University Park    Pa.       L        7        63  \n",
       "2            Newark   Del.       W       42        14  \n",
       "3            Newark   Del.       W       29        25  \n",
       "4            Newark   Del.       W       43        17  \n",
       "5            Newark   Del.       W       21         6  \n",
       "6           Hampton    Va.       W       47         3  \n",
       "7            Towson    Md.       W       51        13  \n",
       "8            Newark   Del.       L       27        33  \n",
       "9       Buies Creek   N.C.       W       45         7  \n",
       "10           Newark   Del.       L        7        35  \n",
       "11           Newark   Del.       W       36        34  \n",
       "12         Missoula  Mont.       L       19        49  "
      ]
     },
     "execution_count": 71,
     "metadata": {},
     "output_type": "execute_result"
    }
   ],
   "source": [
    "#clean up day column\n",
    "df['day'].unique()\n",
    "df['day'] = df['day'].replace('9', '09')\n",
    "df['day'] = df['day'].replace('7', '07')\n",
    "df['day'] = df['day'].replace('4', '04')\n",
    "df['day'] = df['day'].replace('2', '02')\n",
    "df\n",
    "\n"
   ]
  },
  {
   "cell_type": "code",
   "execution_count": 73,
   "metadata": {},
   "outputs": [
    {
     "data": {
      "text/plain": [
       "array(['(Thu)', '(Sat)'], dtype=object)"
      ]
     },
     "execution_count": 73,
     "metadata": {},
     "output_type": "execute_result"
    },
    {
     "data": {
      "text/html": [
       "<div>\n",
       "<style scoped>\n",
       "    .dataframe tbody tr th:only-of-type {\n",
       "        vertical-align: middle;\n",
       "    }\n",
       "\n",
       "    .dataframe tbody tr th {\n",
       "        vertical-align: top;\n",
       "    }\n",
       "\n",
       "    .dataframe thead th {\n",
       "        text-align: right;\n",
       "    }\n",
       "</style>\n",
       "<table border=\"1\" class=\"dataframe\">\n",
       "  <thead>\n",
       "    <tr style=\"text-align: right;\">\n",
       "      <th></th>\n",
       "      <th>month</th>\n",
       "      <th>day</th>\n",
       "      <th>year</th>\n",
       "      <th>day of week</th>\n",
       "      <th>time</th>\n",
       "      <th>homeaway</th>\n",
       "      <th>opponent</th>\n",
       "      <th>city</th>\n",
       "      <th>state</th>\n",
       "      <th>winloss</th>\n",
       "      <th>UDscore</th>\n",
       "      <th>oppscore</th>\n",
       "    </tr>\n",
       "  </thead>\n",
       "  <tbody>\n",
       "    <tr>\n",
       "      <th>0</th>\n",
       "      <td>08</td>\n",
       "      <td>31</td>\n",
       "      <td>2023</td>\n",
       "      <td>Thursday</td>\n",
       "      <td>7 PM</td>\n",
       "      <td>Away</td>\n",
       "      <td>Stony Brook</td>\n",
       "      <td>Stony Brook</td>\n",
       "      <td>N.Y.</td>\n",
       "      <td>W</td>\n",
       "      <td>37</td>\n",
       "      <td>13</td>\n",
       "    </tr>\n",
       "    <tr>\n",
       "      <th>1</th>\n",
       "      <td>08</td>\n",
       "      <td>09</td>\n",
       "      <td>2023</td>\n",
       "      <td>Saturday</td>\n",
       "      <td>12 p.m.</td>\n",
       "      <td>Away</td>\n",
       "      <td>Penn State</td>\n",
       "      <td>University Park</td>\n",
       "      <td>Pa.</td>\n",
       "      <td>L</td>\n",
       "      <td>7</td>\n",
       "      <td>63</td>\n",
       "    </tr>\n",
       "    <tr>\n",
       "      <th>2</th>\n",
       "      <td>08</td>\n",
       "      <td>16</td>\n",
       "      <td>2023</td>\n",
       "      <td>Saturday</td>\n",
       "      <td>6 PM</td>\n",
       "      <td>Home</td>\n",
       "      <td>Saint Francis (Pa.)</td>\n",
       "      <td>Newark</td>\n",
       "      <td>Del.</td>\n",
       "      <td>W</td>\n",
       "      <td>42</td>\n",
       "      <td>14</td>\n",
       "    </tr>\n",
       "    <tr>\n",
       "      <th>3</th>\n",
       "      <td>08</td>\n",
       "      <td>23</td>\n",
       "      <td>2023</td>\n",
       "      <td>Saturday</td>\n",
       "      <td>6 PM</td>\n",
       "      <td>Home</td>\n",
       "      <td>New Hampshire</td>\n",
       "      <td>Newark</td>\n",
       "      <td>Del.</td>\n",
       "      <td>W</td>\n",
       "      <td>29</td>\n",
       "      <td>25</td>\n",
       "    </tr>\n",
       "    <tr>\n",
       "      <th>4</th>\n",
       "      <td>10</td>\n",
       "      <td>07</td>\n",
       "      <td>2023</td>\n",
       "      <td>Saturday</td>\n",
       "      <td>3 PM</td>\n",
       "      <td>Home</td>\n",
       "      <td>Duquesne</td>\n",
       "      <td>Newark</td>\n",
       "      <td>Del.</td>\n",
       "      <td>W</td>\n",
       "      <td>43</td>\n",
       "      <td>17</td>\n",
       "    </tr>\n",
       "    <tr>\n",
       "      <th>5</th>\n",
       "      <td>10</td>\n",
       "      <td>14</td>\n",
       "      <td>2023</td>\n",
       "      <td>Saturday</td>\n",
       "      <td>3 PM</td>\n",
       "      <td>Home</td>\n",
       "      <td>North Carolina A&amp;T</td>\n",
       "      <td>Newark</td>\n",
       "      <td>Del.</td>\n",
       "      <td>W</td>\n",
       "      <td>21</td>\n",
       "      <td>6</td>\n",
       "    </tr>\n",
       "    <tr>\n",
       "      <th>6</th>\n",
       "      <td>10</td>\n",
       "      <td>21</td>\n",
       "      <td>2023</td>\n",
       "      <td>Saturday</td>\n",
       "      <td>2 PM</td>\n",
       "      <td>Away</td>\n",
       "      <td>Hampton</td>\n",
       "      <td>Hampton</td>\n",
       "      <td>Va.</td>\n",
       "      <td>W</td>\n",
       "      <td>47</td>\n",
       "      <td>3</td>\n",
       "    </tr>\n",
       "    <tr>\n",
       "      <th>7</th>\n",
       "      <td>10</td>\n",
       "      <td>28</td>\n",
       "      <td>2023</td>\n",
       "      <td>Saturday</td>\n",
       "      <td>1 PM</td>\n",
       "      <td>Away</td>\n",
       "      <td>Towson</td>\n",
       "      <td>Towson</td>\n",
       "      <td>Md.</td>\n",
       "      <td>W</td>\n",
       "      <td>51</td>\n",
       "      <td>13</td>\n",
       "    </tr>\n",
       "    <tr>\n",
       "      <th>8</th>\n",
       "      <td>11</td>\n",
       "      <td>04</td>\n",
       "      <td>2023</td>\n",
       "      <td>Saturday</td>\n",
       "      <td>1 PM</td>\n",
       "      <td>Home</td>\n",
       "      <td>Elon</td>\n",
       "      <td>Newark</td>\n",
       "      <td>Del.</td>\n",
       "      <td>L</td>\n",
       "      <td>27</td>\n",
       "      <td>33</td>\n",
       "    </tr>\n",
       "    <tr>\n",
       "      <th>9</th>\n",
       "      <td>11</td>\n",
       "      <td>11</td>\n",
       "      <td>2023</td>\n",
       "      <td>Saturday</td>\n",
       "      <td>1 PM</td>\n",
       "      <td>Away</td>\n",
       "      <td>Campbell</td>\n",
       "      <td>Buies Creek</td>\n",
       "      <td>N.C.</td>\n",
       "      <td>W</td>\n",
       "      <td>45</td>\n",
       "      <td>7</td>\n",
       "    </tr>\n",
       "    <tr>\n",
       "      <th>10</th>\n",
       "      <td>11</td>\n",
       "      <td>18</td>\n",
       "      <td>2023</td>\n",
       "      <td>Saturday</td>\n",
       "      <td>1 PM</td>\n",
       "      <td>Home</td>\n",
       "      <td>Villanova</td>\n",
       "      <td>Newark</td>\n",
       "      <td>Del.</td>\n",
       "      <td>L</td>\n",
       "      <td>7</td>\n",
       "      <td>35</td>\n",
       "    </tr>\n",
       "    <tr>\n",
       "      <th>11</th>\n",
       "      <td>11</td>\n",
       "      <td>25</td>\n",
       "      <td>2023</td>\n",
       "      <td>Saturday</td>\n",
       "      <td>2 p.m.</td>\n",
       "      <td>Home</td>\n",
       "      <td>Lafayette</td>\n",
       "      <td>Newark</td>\n",
       "      <td>Del.</td>\n",
       "      <td>W</td>\n",
       "      <td>36</td>\n",
       "      <td>34</td>\n",
       "    </tr>\n",
       "    <tr>\n",
       "      <th>12</th>\n",
       "      <td>12</td>\n",
       "      <td>02</td>\n",
       "      <td>2023</td>\n",
       "      <td>Saturday</td>\n",
       "      <td>9 p.m.</td>\n",
       "      <td>Away</td>\n",
       "      <td>Montana</td>\n",
       "      <td>Missoula</td>\n",
       "      <td>Mont.</td>\n",
       "      <td>L</td>\n",
       "      <td>19</td>\n",
       "      <td>49</td>\n",
       "    </tr>\n",
       "  </tbody>\n",
       "</table>\n",
       "</div>"
      ],
      "text/plain": [
       "   month day  year day of week     time homeaway             opponent  \\\n",
       "0     08  31  2023    Thursday     7 PM     Away          Stony Brook   \n",
       "1     08  09  2023    Saturday  12 p.m.     Away           Penn State   \n",
       "2     08  16  2023    Saturday     6 PM     Home  Saint Francis (Pa.)   \n",
       "3     08  23  2023    Saturday     6 PM     Home        New Hampshire   \n",
       "4     10  07  2023    Saturday     3 PM     Home             Duquesne   \n",
       "5     10  14  2023    Saturday     3 PM     Home   North Carolina A&T   \n",
       "6     10  21  2023    Saturday     2 PM     Away              Hampton   \n",
       "7     10  28  2023    Saturday     1 PM     Away               Towson   \n",
       "8     11  04  2023    Saturday     1 PM     Home                 Elon   \n",
       "9     11  11  2023    Saturday     1 PM     Away             Campbell   \n",
       "10    11  18  2023    Saturday     1 PM     Home            Villanova   \n",
       "11    11  25  2023    Saturday   2 p.m.     Home            Lafayette   \n",
       "12    12  02  2023    Saturday   9 p.m.     Away              Montana   \n",
       "\n",
       "               city  state winloss  UDscore  oppscore  \n",
       "0       Stony Brook   N.Y.       W       37        13  \n",
       "1   University Park    Pa.       L        7        63  \n",
       "2            Newark   Del.       W       42        14  \n",
       "3            Newark   Del.       W       29        25  \n",
       "4            Newark   Del.       W       43        17  \n",
       "5            Newark   Del.       W       21         6  \n",
       "6           Hampton    Va.       W       47         3  \n",
       "7            Towson    Md.       W       51        13  \n",
       "8            Newark   Del.       L       27        33  \n",
       "9       Buies Creek   N.C.       W       45         7  \n",
       "10           Newark   Del.       L        7        35  \n",
       "11           Newark   Del.       W       36        34  \n",
       "12         Missoula  Mont.       L       19        49  "
      ]
     },
     "execution_count": 73,
     "metadata": {},
     "output_type": "execute_result"
    }
   ],
   "source": [
    "#clean up day of the week column\n",
    "df['day of week'].unique()\n",
    "df['day of week'] = df['day of week'].replace('(Thu)', 'Thursday')\n",
    "df['day of week'] = df['day of week'].replace('(Sat)', 'Saturday')\n",
    "df"
   ]
  },
  {
   "cell_type": "code",
   "execution_count": 76,
   "metadata": {},
   "outputs": [
    {
     "name": "stdout",
     "output_type": "stream",
     "text": [
      "0     2023-08-31\n",
      "1     2023-08-09\n",
      "2     2023-08-16\n",
      "3     2023-08-23\n",
      "4     2023-10-07\n",
      "5     2023-10-14\n",
      "6     2023-10-21\n",
      "7     2023-10-28\n",
      "8     2023-11-04\n",
      "9     2023-11-11\n",
      "10    2023-11-18\n",
      "11    2023-11-25\n",
      "12    2023-12-02\n",
      "Name: date, dtype: object\n"
     ]
    }
   ],
   "source": [
    "#join month, day and year columns into single date column\n",
    "df['date'] = df['year'].map(str) + '-' + df['month'].map(str) + '-' + df['day'].map(str)\n",
    "print(df['date'])"
   ]
  },
  {
   "cell_type": "code",
   "execution_count": 77,
   "metadata": {},
   "outputs": [
    {
     "name": "stdout",
     "output_type": "stream",
     "text": [
      "<class 'pandas.core.frame.DataFrame'>\n",
      "RangeIndex: 13 entries, 0 to 12\n",
      "Data columns (total 13 columns):\n",
      " #   Column       Non-Null Count  Dtype         \n",
      "---  ------       --------------  -----         \n",
      " 0   month        13 non-null     object        \n",
      " 1   day          13 non-null     object        \n",
      " 2   year         13 non-null     object        \n",
      " 3   day of week  13 non-null     object        \n",
      " 4   time         13 non-null     object        \n",
      " 5   homeaway     13 non-null     object        \n",
      " 6   opponent     13 non-null     object        \n",
      " 7   city         13 non-null     object        \n",
      " 8   state        13 non-null     object        \n",
      " 9   winloss      13 non-null     object        \n",
      " 10  UDscore      13 non-null     int64         \n",
      " 11  oppscore     13 non-null     int64         \n",
      " 12  date         13 non-null     datetime64[ns]\n",
      "dtypes: datetime64[ns](1), int64(2), object(10)\n",
      "memory usage: 1.4+ KB\n"
     ]
    }
   ],
   "source": [
    "#put datetime format onto date column\n",
    "df['date']=pd.to_datetime(df['date'])\n",
    "df.info()"
   ]
  },
  {
   "cell_type": "code",
   "execution_count": 79,
   "metadata": {},
   "outputs": [
    {
     "data": {
      "text/plain": [
       "array(['7 PM', '12 p.m.', '6 PM', '3 PM', '2 PM', '1 PM', '2 p.m.',\n",
       "       '9 p.m.'], dtype=object)"
      ]
     },
     "execution_count": 79,
     "metadata": {},
     "output_type": "execute_result"
    },
    {
     "data": {
      "text/plain": [
       "array(['7 PM', '12 PM', '6 PM', '3 PM', '2 PM', '1 PM', '9 PM'],\n",
       "      dtype=object)"
      ]
     },
     "execution_count": 79,
     "metadata": {},
     "output_type": "execute_result"
    }
   ],
   "source": [
    "#clean up time column\n",
    "df['time'].unique()\n",
    "df['time'] = df['time'].replace('12 p.m.', '12 PM')\n",
    "df['time'] = df['time'].replace('2 p.m.', '2 PM')\n",
    "df['time'] = df['time'].replace('9 p.m.', '9 PM')\n",
    "df['time'].unique()"
   ]
  },
  {
   "cell_type": "code",
   "execution_count": 80,
   "metadata": {},
   "outputs": [
    {
     "data": {
      "text/html": [
       "<div>\n",
       "<style scoped>\n",
       "    .dataframe tbody tr th:only-of-type {\n",
       "        vertical-align: middle;\n",
       "    }\n",
       "\n",
       "    .dataframe tbody tr th {\n",
       "        vertical-align: top;\n",
       "    }\n",
       "\n",
       "    .dataframe thead th {\n",
       "        text-align: right;\n",
       "    }\n",
       "</style>\n",
       "<table border=\"1\" class=\"dataframe\">\n",
       "  <thead>\n",
       "    <tr style=\"text-align: right;\">\n",
       "      <th></th>\n",
       "      <th>month</th>\n",
       "      <th>day</th>\n",
       "      <th>year</th>\n",
       "      <th>day of week</th>\n",
       "      <th>time</th>\n",
       "      <th>homeaway</th>\n",
       "      <th>opponent</th>\n",
       "      <th>city</th>\n",
       "      <th>state</th>\n",
       "      <th>winloss</th>\n",
       "      <th>UDscore</th>\n",
       "      <th>oppscore</th>\n",
       "      <th>date</th>\n",
       "    </tr>\n",
       "  </thead>\n",
       "  <tbody>\n",
       "    <tr>\n",
       "      <th>0</th>\n",
       "      <td>08</td>\n",
       "      <td>31</td>\n",
       "      <td>2023</td>\n",
       "      <td>Thursday</td>\n",
       "      <td>7 PM</td>\n",
       "      <td>Away</td>\n",
       "      <td>Stony Brook</td>\n",
       "      <td>Stony Brook</td>\n",
       "      <td>N.Y.</td>\n",
       "      <td>W</td>\n",
       "      <td>37</td>\n",
       "      <td>13</td>\n",
       "      <td>2023-08-31</td>\n",
       "    </tr>\n",
       "    <tr>\n",
       "      <th>1</th>\n",
       "      <td>08</td>\n",
       "      <td>09</td>\n",
       "      <td>2023</td>\n",
       "      <td>Saturday</td>\n",
       "      <td>12 PM</td>\n",
       "      <td>Away</td>\n",
       "      <td>Penn State</td>\n",
       "      <td>University Park</td>\n",
       "      <td>Pa.</td>\n",
       "      <td>L</td>\n",
       "      <td>7</td>\n",
       "      <td>63</td>\n",
       "      <td>2023-08-09</td>\n",
       "    </tr>\n",
       "    <tr>\n",
       "      <th>2</th>\n",
       "      <td>08</td>\n",
       "      <td>16</td>\n",
       "      <td>2023</td>\n",
       "      <td>Saturday</td>\n",
       "      <td>6 PM</td>\n",
       "      <td>Home</td>\n",
       "      <td>Saint Francis (Pa.)</td>\n",
       "      <td>Newark</td>\n",
       "      <td>Del.</td>\n",
       "      <td>W</td>\n",
       "      <td>42</td>\n",
       "      <td>14</td>\n",
       "      <td>2023-08-16</td>\n",
       "    </tr>\n",
       "    <tr>\n",
       "      <th>3</th>\n",
       "      <td>08</td>\n",
       "      <td>23</td>\n",
       "      <td>2023</td>\n",
       "      <td>Saturday</td>\n",
       "      <td>6 PM</td>\n",
       "      <td>Home</td>\n",
       "      <td>New Hampshire</td>\n",
       "      <td>Newark</td>\n",
       "      <td>Del.</td>\n",
       "      <td>W</td>\n",
       "      <td>29</td>\n",
       "      <td>25</td>\n",
       "      <td>2023-08-23</td>\n",
       "    </tr>\n",
       "    <tr>\n",
       "      <th>4</th>\n",
       "      <td>10</td>\n",
       "      <td>07</td>\n",
       "      <td>2023</td>\n",
       "      <td>Saturday</td>\n",
       "      <td>3 PM</td>\n",
       "      <td>Home</td>\n",
       "      <td>Duquesne</td>\n",
       "      <td>Newark</td>\n",
       "      <td>Del.</td>\n",
       "      <td>W</td>\n",
       "      <td>43</td>\n",
       "      <td>17</td>\n",
       "      <td>2023-10-07</td>\n",
       "    </tr>\n",
       "    <tr>\n",
       "      <th>5</th>\n",
       "      <td>10</td>\n",
       "      <td>14</td>\n",
       "      <td>2023</td>\n",
       "      <td>Saturday</td>\n",
       "      <td>3 PM</td>\n",
       "      <td>Home</td>\n",
       "      <td>North Carolina A&amp;T</td>\n",
       "      <td>Newark</td>\n",
       "      <td>Del.</td>\n",
       "      <td>W</td>\n",
       "      <td>21</td>\n",
       "      <td>6</td>\n",
       "      <td>2023-10-14</td>\n",
       "    </tr>\n",
       "    <tr>\n",
       "      <th>6</th>\n",
       "      <td>10</td>\n",
       "      <td>21</td>\n",
       "      <td>2023</td>\n",
       "      <td>Saturday</td>\n",
       "      <td>2 PM</td>\n",
       "      <td>Away</td>\n",
       "      <td>Hampton</td>\n",
       "      <td>Hampton</td>\n",
       "      <td>Va.</td>\n",
       "      <td>W</td>\n",
       "      <td>47</td>\n",
       "      <td>3</td>\n",
       "      <td>2023-10-21</td>\n",
       "    </tr>\n",
       "    <tr>\n",
       "      <th>7</th>\n",
       "      <td>10</td>\n",
       "      <td>28</td>\n",
       "      <td>2023</td>\n",
       "      <td>Saturday</td>\n",
       "      <td>1 PM</td>\n",
       "      <td>Away</td>\n",
       "      <td>Towson</td>\n",
       "      <td>Towson</td>\n",
       "      <td>Md.</td>\n",
       "      <td>W</td>\n",
       "      <td>51</td>\n",
       "      <td>13</td>\n",
       "      <td>2023-10-28</td>\n",
       "    </tr>\n",
       "    <tr>\n",
       "      <th>8</th>\n",
       "      <td>11</td>\n",
       "      <td>04</td>\n",
       "      <td>2023</td>\n",
       "      <td>Saturday</td>\n",
       "      <td>1 PM</td>\n",
       "      <td>Home</td>\n",
       "      <td>Elon</td>\n",
       "      <td>Newark</td>\n",
       "      <td>Del.</td>\n",
       "      <td>L</td>\n",
       "      <td>27</td>\n",
       "      <td>33</td>\n",
       "      <td>2023-11-04</td>\n",
       "    </tr>\n",
       "    <tr>\n",
       "      <th>9</th>\n",
       "      <td>11</td>\n",
       "      <td>11</td>\n",
       "      <td>2023</td>\n",
       "      <td>Saturday</td>\n",
       "      <td>1 PM</td>\n",
       "      <td>Away</td>\n",
       "      <td>Campbell</td>\n",
       "      <td>Buies Creek</td>\n",
       "      <td>N.C.</td>\n",
       "      <td>W</td>\n",
       "      <td>45</td>\n",
       "      <td>7</td>\n",
       "      <td>2023-11-11</td>\n",
       "    </tr>\n",
       "    <tr>\n",
       "      <th>10</th>\n",
       "      <td>11</td>\n",
       "      <td>18</td>\n",
       "      <td>2023</td>\n",
       "      <td>Saturday</td>\n",
       "      <td>1 PM</td>\n",
       "      <td>Home</td>\n",
       "      <td>Villanova</td>\n",
       "      <td>Newark</td>\n",
       "      <td>Del.</td>\n",
       "      <td>L</td>\n",
       "      <td>7</td>\n",
       "      <td>35</td>\n",
       "      <td>2023-11-18</td>\n",
       "    </tr>\n",
       "    <tr>\n",
       "      <th>11</th>\n",
       "      <td>11</td>\n",
       "      <td>25</td>\n",
       "      <td>2023</td>\n",
       "      <td>Saturday</td>\n",
       "      <td>2 PM</td>\n",
       "      <td>Home</td>\n",
       "      <td>Lafayette</td>\n",
       "      <td>Newark</td>\n",
       "      <td>Del.</td>\n",
       "      <td>W</td>\n",
       "      <td>36</td>\n",
       "      <td>34</td>\n",
       "      <td>2023-11-25</td>\n",
       "    </tr>\n",
       "    <tr>\n",
       "      <th>12</th>\n",
       "      <td>12</td>\n",
       "      <td>02</td>\n",
       "      <td>2023</td>\n",
       "      <td>Saturday</td>\n",
       "      <td>9 PM</td>\n",
       "      <td>Away</td>\n",
       "      <td>Montana</td>\n",
       "      <td>Missoula</td>\n",
       "      <td>Mont.</td>\n",
       "      <td>L</td>\n",
       "      <td>19</td>\n",
       "      <td>49</td>\n",
       "      <td>2023-12-02</td>\n",
       "    </tr>\n",
       "  </tbody>\n",
       "</table>\n",
       "</div>"
      ],
      "text/plain": [
       "   month day  year day of week   time homeaway             opponent  \\\n",
       "0     08  31  2023    Thursday   7 PM     Away          Stony Brook   \n",
       "1     08  09  2023    Saturday  12 PM     Away           Penn State   \n",
       "2     08  16  2023    Saturday   6 PM     Home  Saint Francis (Pa.)   \n",
       "3     08  23  2023    Saturday   6 PM     Home        New Hampshire   \n",
       "4     10  07  2023    Saturday   3 PM     Home             Duquesne   \n",
       "5     10  14  2023    Saturday   3 PM     Home   North Carolina A&T   \n",
       "6     10  21  2023    Saturday   2 PM     Away              Hampton   \n",
       "7     10  28  2023    Saturday   1 PM     Away               Towson   \n",
       "8     11  04  2023    Saturday   1 PM     Home                 Elon   \n",
       "9     11  11  2023    Saturday   1 PM     Away             Campbell   \n",
       "10    11  18  2023    Saturday   1 PM     Home            Villanova   \n",
       "11    11  25  2023    Saturday   2 PM     Home            Lafayette   \n",
       "12    12  02  2023    Saturday   9 PM     Away              Montana   \n",
       "\n",
       "               city  state winloss  UDscore  oppscore       date  \n",
       "0       Stony Brook   N.Y.       W       37        13 2023-08-31  \n",
       "1   University Park    Pa.       L        7        63 2023-08-09  \n",
       "2            Newark   Del.       W       42        14 2023-08-16  \n",
       "3            Newark   Del.       W       29        25 2023-08-23  \n",
       "4            Newark   Del.       W       43        17 2023-10-07  \n",
       "5            Newark   Del.       W       21         6 2023-10-14  \n",
       "6           Hampton    Va.       W       47         3 2023-10-21  \n",
       "7            Towson    Md.       W       51        13 2023-10-28  \n",
       "8            Newark   Del.       L       27        33 2023-11-04  \n",
       "9       Buies Creek   N.C.       W       45         7 2023-11-11  \n",
       "10           Newark   Del.       L        7        35 2023-11-18  \n",
       "11           Newark   Del.       W       36        34 2023-11-25  \n",
       "12         Missoula  Mont.       L       19        49 2023-12-02  "
      ]
     },
     "execution_count": 80,
     "metadata": {},
     "output_type": "execute_result"
    }
   ],
   "source": [
    "df"
   ]
  },
  {
   "cell_type": "code",
   "execution_count": 82,
   "metadata": {},
   "outputs": [
    {
     "data": {
      "text/plain": [
       "array(['N.Y.', 'Pa.', 'Del.', 'Va.', 'Md.', 'N.C.', 'Mont.'], dtype=object)"
      ]
     },
     "execution_count": 82,
     "metadata": {},
     "output_type": "execute_result"
    },
    {
     "data": {
      "text/plain": [
       "array(['NY', 'PA', 'DE', 'VA', 'MD', 'NC', 'MT'], dtype=object)"
      ]
     },
     "execution_count": 82,
     "metadata": {},
     "output_type": "execute_result"
    }
   ],
   "source": [
    "#clean up state column\n",
    "df['state'].unique()\n",
    "df['state'] = df['state'].replace('N.Y.', 'NY')\n",
    "df['state'] = df['state'].replace('Pa.', 'PA')\n",
    "df['state'] = df['state'].replace('Del.', 'DE')\n",
    "df['state'] = df['state'].replace('Va.', 'VA')\n",
    "df['state'] = df['state'].replace('Md.', 'MD')\n",
    "df['state'] = df['state'].replace('N.C.', 'NC')\n",
    "df['state'] = df['state'].replace('Mont.', 'MT')\n",
    "df['state'].unique()"
   ]
  },
  {
   "cell_type": "code",
   "execution_count": 83,
   "metadata": {},
   "outputs": [
    {
     "data": {
      "text/html": [
       "<div>\n",
       "<style scoped>\n",
       "    .dataframe tbody tr th:only-of-type {\n",
       "        vertical-align: middle;\n",
       "    }\n",
       "\n",
       "    .dataframe tbody tr th {\n",
       "        vertical-align: top;\n",
       "    }\n",
       "\n",
       "    .dataframe thead th {\n",
       "        text-align: right;\n",
       "    }\n",
       "</style>\n",
       "<table border=\"1\" class=\"dataframe\">\n",
       "  <thead>\n",
       "    <tr style=\"text-align: right;\">\n",
       "      <th></th>\n",
       "      <th>month</th>\n",
       "      <th>day</th>\n",
       "      <th>year</th>\n",
       "      <th>day of week</th>\n",
       "      <th>time</th>\n",
       "      <th>homeaway</th>\n",
       "      <th>opponent</th>\n",
       "      <th>city</th>\n",
       "      <th>state</th>\n",
       "      <th>winloss</th>\n",
       "      <th>UDscore</th>\n",
       "      <th>oppscore</th>\n",
       "      <th>date</th>\n",
       "    </tr>\n",
       "  </thead>\n",
       "  <tbody>\n",
       "    <tr>\n",
       "      <th>0</th>\n",
       "      <td>08</td>\n",
       "      <td>31</td>\n",
       "      <td>2023</td>\n",
       "      <td>Thursday</td>\n",
       "      <td>7 PM</td>\n",
       "      <td>Away</td>\n",
       "      <td>Stony Brook</td>\n",
       "      <td>Stony Brook</td>\n",
       "      <td>NY</td>\n",
       "      <td>W</td>\n",
       "      <td>37</td>\n",
       "      <td>13</td>\n",
       "      <td>2023-08-31</td>\n",
       "    </tr>\n",
       "    <tr>\n",
       "      <th>1</th>\n",
       "      <td>08</td>\n",
       "      <td>09</td>\n",
       "      <td>2023</td>\n",
       "      <td>Saturday</td>\n",
       "      <td>12 PM</td>\n",
       "      <td>Away</td>\n",
       "      <td>Penn State</td>\n",
       "      <td>University Park</td>\n",
       "      <td>PA</td>\n",
       "      <td>L</td>\n",
       "      <td>7</td>\n",
       "      <td>63</td>\n",
       "      <td>2023-08-09</td>\n",
       "    </tr>\n",
       "    <tr>\n",
       "      <th>2</th>\n",
       "      <td>08</td>\n",
       "      <td>16</td>\n",
       "      <td>2023</td>\n",
       "      <td>Saturday</td>\n",
       "      <td>6 PM</td>\n",
       "      <td>Home</td>\n",
       "      <td>Saint Francis (Pa.)</td>\n",
       "      <td>Newark</td>\n",
       "      <td>DE</td>\n",
       "      <td>W</td>\n",
       "      <td>42</td>\n",
       "      <td>14</td>\n",
       "      <td>2023-08-16</td>\n",
       "    </tr>\n",
       "    <tr>\n",
       "      <th>3</th>\n",
       "      <td>08</td>\n",
       "      <td>23</td>\n",
       "      <td>2023</td>\n",
       "      <td>Saturday</td>\n",
       "      <td>6 PM</td>\n",
       "      <td>Home</td>\n",
       "      <td>New Hampshire</td>\n",
       "      <td>Newark</td>\n",
       "      <td>DE</td>\n",
       "      <td>W</td>\n",
       "      <td>29</td>\n",
       "      <td>25</td>\n",
       "      <td>2023-08-23</td>\n",
       "    </tr>\n",
       "    <tr>\n",
       "      <th>4</th>\n",
       "      <td>10</td>\n",
       "      <td>07</td>\n",
       "      <td>2023</td>\n",
       "      <td>Saturday</td>\n",
       "      <td>3 PM</td>\n",
       "      <td>Home</td>\n",
       "      <td>Duquesne</td>\n",
       "      <td>Newark</td>\n",
       "      <td>DE</td>\n",
       "      <td>W</td>\n",
       "      <td>43</td>\n",
       "      <td>17</td>\n",
       "      <td>2023-10-07</td>\n",
       "    </tr>\n",
       "    <tr>\n",
       "      <th>5</th>\n",
       "      <td>10</td>\n",
       "      <td>14</td>\n",
       "      <td>2023</td>\n",
       "      <td>Saturday</td>\n",
       "      <td>3 PM</td>\n",
       "      <td>Home</td>\n",
       "      <td>North Carolina A&amp;T</td>\n",
       "      <td>Newark</td>\n",
       "      <td>DE</td>\n",
       "      <td>W</td>\n",
       "      <td>21</td>\n",
       "      <td>6</td>\n",
       "      <td>2023-10-14</td>\n",
       "    </tr>\n",
       "    <tr>\n",
       "      <th>6</th>\n",
       "      <td>10</td>\n",
       "      <td>21</td>\n",
       "      <td>2023</td>\n",
       "      <td>Saturday</td>\n",
       "      <td>2 PM</td>\n",
       "      <td>Away</td>\n",
       "      <td>Hampton</td>\n",
       "      <td>Hampton</td>\n",
       "      <td>VA</td>\n",
       "      <td>W</td>\n",
       "      <td>47</td>\n",
       "      <td>3</td>\n",
       "      <td>2023-10-21</td>\n",
       "    </tr>\n",
       "    <tr>\n",
       "      <th>7</th>\n",
       "      <td>10</td>\n",
       "      <td>28</td>\n",
       "      <td>2023</td>\n",
       "      <td>Saturday</td>\n",
       "      <td>1 PM</td>\n",
       "      <td>Away</td>\n",
       "      <td>Towson</td>\n",
       "      <td>Towson</td>\n",
       "      <td>MD</td>\n",
       "      <td>W</td>\n",
       "      <td>51</td>\n",
       "      <td>13</td>\n",
       "      <td>2023-10-28</td>\n",
       "    </tr>\n",
       "    <tr>\n",
       "      <th>8</th>\n",
       "      <td>11</td>\n",
       "      <td>04</td>\n",
       "      <td>2023</td>\n",
       "      <td>Saturday</td>\n",
       "      <td>1 PM</td>\n",
       "      <td>Home</td>\n",
       "      <td>Elon</td>\n",
       "      <td>Newark</td>\n",
       "      <td>DE</td>\n",
       "      <td>L</td>\n",
       "      <td>27</td>\n",
       "      <td>33</td>\n",
       "      <td>2023-11-04</td>\n",
       "    </tr>\n",
       "    <tr>\n",
       "      <th>9</th>\n",
       "      <td>11</td>\n",
       "      <td>11</td>\n",
       "      <td>2023</td>\n",
       "      <td>Saturday</td>\n",
       "      <td>1 PM</td>\n",
       "      <td>Away</td>\n",
       "      <td>Campbell</td>\n",
       "      <td>Buies Creek</td>\n",
       "      <td>NC</td>\n",
       "      <td>W</td>\n",
       "      <td>45</td>\n",
       "      <td>7</td>\n",
       "      <td>2023-11-11</td>\n",
       "    </tr>\n",
       "    <tr>\n",
       "      <th>10</th>\n",
       "      <td>11</td>\n",
       "      <td>18</td>\n",
       "      <td>2023</td>\n",
       "      <td>Saturday</td>\n",
       "      <td>1 PM</td>\n",
       "      <td>Home</td>\n",
       "      <td>Villanova</td>\n",
       "      <td>Newark</td>\n",
       "      <td>DE</td>\n",
       "      <td>L</td>\n",
       "      <td>7</td>\n",
       "      <td>35</td>\n",
       "      <td>2023-11-18</td>\n",
       "    </tr>\n",
       "    <tr>\n",
       "      <th>11</th>\n",
       "      <td>11</td>\n",
       "      <td>25</td>\n",
       "      <td>2023</td>\n",
       "      <td>Saturday</td>\n",
       "      <td>2 PM</td>\n",
       "      <td>Home</td>\n",
       "      <td>Lafayette</td>\n",
       "      <td>Newark</td>\n",
       "      <td>DE</td>\n",
       "      <td>W</td>\n",
       "      <td>36</td>\n",
       "      <td>34</td>\n",
       "      <td>2023-11-25</td>\n",
       "    </tr>\n",
       "    <tr>\n",
       "      <th>12</th>\n",
       "      <td>12</td>\n",
       "      <td>02</td>\n",
       "      <td>2023</td>\n",
       "      <td>Saturday</td>\n",
       "      <td>9 PM</td>\n",
       "      <td>Away</td>\n",
       "      <td>Montana</td>\n",
       "      <td>Missoula</td>\n",
       "      <td>MT</td>\n",
       "      <td>L</td>\n",
       "      <td>19</td>\n",
       "      <td>49</td>\n",
       "      <td>2023-12-02</td>\n",
       "    </tr>\n",
       "  </tbody>\n",
       "</table>\n",
       "</div>"
      ],
      "text/plain": [
       "   month day  year day of week   time homeaway             opponent  \\\n",
       "0     08  31  2023    Thursday   7 PM     Away          Stony Brook   \n",
       "1     08  09  2023    Saturday  12 PM     Away           Penn State   \n",
       "2     08  16  2023    Saturday   6 PM     Home  Saint Francis (Pa.)   \n",
       "3     08  23  2023    Saturday   6 PM     Home        New Hampshire   \n",
       "4     10  07  2023    Saturday   3 PM     Home             Duquesne   \n",
       "5     10  14  2023    Saturday   3 PM     Home   North Carolina A&T   \n",
       "6     10  21  2023    Saturday   2 PM     Away              Hampton   \n",
       "7     10  28  2023    Saturday   1 PM     Away               Towson   \n",
       "8     11  04  2023    Saturday   1 PM     Home                 Elon   \n",
       "9     11  11  2023    Saturday   1 PM     Away             Campbell   \n",
       "10    11  18  2023    Saturday   1 PM     Home            Villanova   \n",
       "11    11  25  2023    Saturday   2 PM     Home            Lafayette   \n",
       "12    12  02  2023    Saturday   9 PM     Away              Montana   \n",
       "\n",
       "               city state winloss  UDscore  oppscore       date  \n",
       "0       Stony Brook    NY       W       37        13 2023-08-31  \n",
       "1   University Park    PA       L        7        63 2023-08-09  \n",
       "2            Newark    DE       W       42        14 2023-08-16  \n",
       "3            Newark    DE       W       29        25 2023-08-23  \n",
       "4            Newark    DE       W       43        17 2023-10-07  \n",
       "5            Newark    DE       W       21         6 2023-10-14  \n",
       "6           Hampton    VA       W       47         3 2023-10-21  \n",
       "7            Towson    MD       W       51        13 2023-10-28  \n",
       "8            Newark    DE       L       27        33 2023-11-04  \n",
       "9       Buies Creek    NC       W       45         7 2023-11-11  \n",
       "10           Newark    DE       L        7        35 2023-11-18  \n",
       "11           Newark    DE       W       36        34 2023-11-25  \n",
       "12         Missoula    MT       L       19        49 2023-12-02  "
      ]
     },
     "execution_count": 83,
     "metadata": {},
     "output_type": "execute_result"
    }
   ],
   "source": [
    "df"
   ]
  }
 ],
 "metadata": {
  "kernelspec": {
   "display_name": "Python 3",
   "language": "python",
   "name": "python3"
  },
  "language_info": {
   "codemirror_mode": {
    "name": "ipython",
    "version": 3
   },
   "file_extension": ".py",
   "mimetype": "text/x-python",
   "name": "python",
   "nbconvert_exporter": "python",
   "pygments_lexer": "ipython3",
   "version": "3.12.2"
  }
 },
 "nbformat": 4,
 "nbformat_minor": 2
}
